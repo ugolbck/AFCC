{
 "cells": [
  {
   "cell_type": "code",
   "execution_count": 1,
   "metadata": {},
   "outputs": [],
   "source": [
    "%matplotlib inline\n",
    "\n",
    "import pandas as pd\n",
    "import numpy as np\n",
    "import matplotlib.pyplot as plt\n",
    "import seaborn as sns\n",
    "\n",
    "from sklearn.ensemble import RandomForestClassifier, GradientBoostingClassifier\n",
    "from sklearn.compose import ColumnTransformer\n",
    "from sklearn.feature_extraction.text import TfidfVectorizer\n",
    "from sklearn.preprocessing import StandardScaler\n",
    "from sklearn.pipeline import Pipeline\n",
    "from sklearn.model_selection import GridSearchCV, cross_val_score\n",
    "from sklearn.metrics import confusion_matrix, classification_report, accuracy_score, f1_score, make_scorer"
   ]
  },
  {
   "cell_type": "code",
   "execution_count": 50,
   "metadata": {},
   "outputs": [],
   "source": [
    "PATH_DATA = '../data/data/'\n",
    "PATH_IMAGES = '../assets/images/confusion/'\n",
    "PATH_RESULTS = '../results/'"
   ]
  },
  {
   "cell_type": "markdown",
   "metadata": {},
   "source": [
    "## Loading the data"
   ]
  },
  {
   "cell_type": "code",
   "execution_count": 158,
   "metadata": {},
   "outputs": [],
   "source": [
    "# training set\n",
    "train = pd.read_csv(PATH_DATA + \"CRC_3200_train.csv\")\n",
    "X_train = train.drop(['lemmas', 'tag', 'bin_tag'], axis=1)\n",
    "y_train = train['tag'].copy()"
   ]
  },
  {
   "cell_type": "code",
   "execution_count": 159,
   "metadata": {},
   "outputs": [],
   "source": [
    "# test set (CRC)\n",
    "test_CRC = pd.read_csv(PATH_DATA + \"CRC_800_test.csv\")\n",
    "X_test_CRC = test_CRC.drop(['lemmas', 'tag', 'bin_tag'], axis=1)\n",
    "y_test_CRC = test_CRC['tag'].copy()"
   ]
  },
  {
   "cell_type": "code",
   "execution_count": 147,
   "metadata": {},
   "outputs": [],
   "source": [
    "# test set (C3)\n",
    "test_c3 = pd.read_csv(PATH_DATA + \"C3_12000.csv\")\n",
    "X_test_c3 = test_c3.drop(['lemmas', 'bin_tag'], axis=1)\n",
    "y_test_bin_c3 = test_c3['bin_tag'].copy()"
   ]
  },
  {
   "cell_type": "code",
   "execution_count": 148,
   "metadata": {},
   "outputs": [],
   "source": [
    "# test set (YNACC)\n",
    "test_ynacc = pd.read_csv(PATH_DATA + \"YNACC.csv\")\n",
    "X_test_ynacc = test_ynacc.drop(['lemmas', 'bin_tag', 'named_entities'], axis=1)\n",
    "X_test_ynacc.fillna(0, inplace=True)\n",
    "y_test_bin_ynacc = test_ynacc['bin_tag'].copy()"
   ]
  },
  {
   "cell_type": "markdown",
   "metadata": {},
   "source": [
    "## Gradient Boosting"
   ]
  },
  {
   "cell_type": "code",
   "execution_count": 160,
   "metadata": {},
   "outputs": [],
   "source": [
    "clf = GradientBoostingClassifier(n_estimators=300,\n",
    "                                  learning_rate=0.03,\n",
    "                                  max_depth=8,\n",
    "                                  validation_fraction=0.1,\n",
    "                                  n_iter_no_change=5, tol=0.005,\n",
    "                                  random_state=0,\n",
    "                                  verbose=1)"
   ]
  },
  {
   "cell_type": "markdown",
   "metadata": {},
   "source": [
    "### All features - Multiclass"
   ]
  },
  {
   "cell_type": "code",
   "execution_count": 161,
   "metadata": {},
   "outputs": [],
   "source": [
    "trans = ColumnTransformer(transformers=[\n",
    "            ('review', TfidfVectorizer(min_df=1, max_df=0.1, encoding='utf-8', ngram_range=(1,1)), 'text_review'),\n",
    "            ('pos', TfidfVectorizer(encoding='utf-8', ngram_range=(1,1)), 'text_pos'),\n",
    "            ],\n",
    "                         remainder='passthrough')"
   ]
  },
  {
   "cell_type": "code",
   "execution_count": 162,
   "metadata": {},
   "outputs": [],
   "source": [
    "pipeline = Pipeline([\n",
    "    ('union', trans)\n",
    "])"
   ]
  },
  {
   "cell_type": "code",
   "execution_count": 163,
   "metadata": {},
   "outputs": [
    {
     "name": "stdout",
     "output_type": "stream",
     "text": [
      "Size of the feature matrix for CRC: (800, 13733)\n"
     ]
    }
   ],
   "source": [
    "X_train_fitted = pipeline.fit_transform(X_train)\n",
    "X_test_CRC_fitted = pipeline.transform(X_test_CRC)\n",
    "#X_test_c3_fitted = pipeline.transform(X_test_c3)\n",
    "#X_test_ynacc_fitted = pipeline.transform(X_test_ynacc)\n",
    "\n",
    "print('Size of the feature matrix for CRC:', X_test_CRC_fitted.shape)\n",
    "#print('Size of the feature matrix for C3:', X_test_c3_fitted.shape)\n",
    "#print('Size of the feature matrix for YNACC:', X_test_ynacc_fitted.shape)"
   ]
  },
  {
   "cell_type": "code",
   "execution_count": 164,
   "metadata": {},
   "outputs": [
    {
     "name": "stdout",
     "output_type": "stream",
     "text": [
      "      Iter       Train Loss   Remaining Time \n",
      "         1        3533.5266            3.03m\n",
      "         2        3396.8347            3.07m\n",
      "         3        3273.8531            3.14m\n",
      "         4        3161.0982            3.16m\n",
      "         5        3057.9432            3.15m\n",
      "         6        2962.7712            3.16m\n",
      "         7        2873.8658            3.16m\n",
      "         8        2791.6650            3.15m\n",
      "         9        2714.9806            3.14m\n",
      "        10        2642.1705            3.15m\n",
      "        20        2097.1597            3.05m\n",
      "        30        1715.3270            2.90m\n",
      "        40        1440.2453            2.79m\n",
      "        50        1250.7845            2.67m\n",
      "        60        1111.9144            2.52m\n",
      "        70        1007.9074            2.38m\n",
      "        80         921.2939            2.25m\n",
      "        90         849.9142            2.13m\n",
      "       100         790.3963            1.99m\n"
     ]
    },
    {
     "data": {
      "text/plain": [
       "GradientBoostingClassifier(ccp_alpha=0.0, criterion='friedman_mse', init=None,\n",
       "                           learning_rate=0.03, loss='deviance', max_depth=8,\n",
       "                           max_features=None, max_leaf_nodes=None,\n",
       "                           min_impurity_decrease=0.0, min_impurity_split=None,\n",
       "                           min_samples_leaf=1, min_samples_split=2,\n",
       "                           min_weight_fraction_leaf=0.0, n_estimators=300,\n",
       "                           n_iter_no_change=5, presort='deprecated',\n",
       "                           random_state=0, subsample=1.0, tol=0.005,\n",
       "                           validation_fraction=0.1, verbose=1,\n",
       "                           warm_start=False)"
      ]
     },
     "execution_count": 164,
     "metadata": {},
     "output_type": "execute_result"
    }
   ],
   "source": [
    "clf.fit(X_train_fitted, y_train)"
   ]
  },
  {
   "cell_type": "code",
   "execution_count": 165,
   "metadata": {},
   "outputs": [
    {
     "name": "stdout",
     "output_type": "stream",
     "text": [
      "Accuracy: 0.69125\n",
      "F1 Score: 0.6882558070553167\n",
      "              precision    recall  f1-score   support\n",
      "\n",
      "           0       0.68      0.47      0.56       108\n",
      "           1       0.70      0.73      0.71       280\n",
      "           2       0.67      0.73      0.70       300\n",
      "           3       0.74      0.70      0.72       112\n",
      "\n",
      "    accuracy                           0.69       800\n",
      "   macro avg       0.70      0.66      0.67       800\n",
      "weighted avg       0.69      0.69      0.69       800\n",
      "\n"
     ]
    },
    {
     "data": {
      "image/png": "[encoded data removed]",
      "text/plain": [
       "<Figure size 432x360 with 2 Axes>"
      ]
     },
     "metadata": {
      "needs_background": "light"
     },
     "output_type": "display_data"
    }
   ],
   "source": [
    "y_pred = clf.predict(X_test_CRC_fitted)\n",
    "print(\"Accuracy:\", accuracy_score(y_test_CRC, y_pred))\n",
    "print(\"F1 Score:\", f1_score(y_test_CRC, y_pred, average='weighted'))\n",
    "print(classification_report(y_test_CRC, y_pred))\n",
    "report = classification_report(y_test_CRC, y_pred, output_dict=True)\n",
    "#pd.DataFrame(report).transpose().to_csv(PATH_RESULTS+'bin-GBM-C3-entities.csv', index=False)\n",
    "\n",
    "conf_mat = confusion_matrix(y_test_CRC, y_pred)\n",
    "fig, ax = plt.subplots(figsize=(6, 5))\n",
    "sns.heatmap(conf_mat, cmap=\"YlGnBu\", annot=True, fmt='d')\n",
    "plt.ylabel('Actual')\n",
    "plt.xlabel('Predicted')\n",
    "ax.set_xticklabels(['A', 'B', 'C', 'D'])\n",
    "ax.set_yticklabels(['A', 'B', 'C', 'D'])\n",
    "#plt.savefig(PATH_IMAGES+'multi-GBM-CRC-allbutdiscourse.png', bbox_inches='tight')\n",
    "plt.show()"
   ]
  },
  {
   "cell_type": "code",
   "execution_count": 167,
   "metadata": {},
   "outputs": [
    {
     "ename": "ValueError",
     "evalue": "Expected 2D array, got scalar array instead:\narray=this item sucks.\nReshape your data either using array.reshape(-1, 1) if your data has a single feature or array.reshape(1, -1) if it contains a single sample.",
     "output_type": "error",
     "traceback": [
      "\u001b[0;31m---------------------------------------------------------------------------\u001b[0m",
      "\u001b[0;31mValueError\u001b[0m                                Traceback (most recent call last)",
      "\u001b[0;32m<ipython-input-167-bc6cd32c73ed>\u001b[0m in \u001b[0;36m<module>\u001b[0;34m\u001b[0m\n\u001b[0;32m----> 1\u001b[0;31m \u001b[0mclf\u001b[0m\u001b[0;34m.\u001b[0m\u001b[0mpredict\u001b[0m\u001b[0;34m(\u001b[0m\u001b[0mpipeline\u001b[0m\u001b[0;34m.\u001b[0m\u001b[0mtransform\u001b[0m\u001b[0;34m(\u001b[0m\u001b[0;34m'this item sucks'\u001b[0m\u001b[0;34m)\u001b[0m\u001b[0;34m)\u001b[0m\u001b[0;34m\u001b[0m\u001b[0m\n\u001b[0m",
      "\u001b[0;32m/Library/Frameworks/Python.framework/Versions/3.6/lib/python3.6/site-packages/sklearn/pipeline.py\u001b[0m in \u001b[0;36m_transform\u001b[0;34m(self, X)\u001b[0m\n\u001b[1;32m    555\u001b[0m         \u001b[0mXt\u001b[0m \u001b[0;34m=\u001b[0m \u001b[0mX\u001b[0m\u001b[0;34m\u001b[0m\u001b[0m\n\u001b[1;32m    556\u001b[0m         \u001b[0;32mfor\u001b[0m \u001b[0m_\u001b[0m\u001b[0;34m,\u001b[0m \u001b[0m_\u001b[0m\u001b[0;34m,\u001b[0m \u001b[0mtransform\u001b[0m \u001b[0;32min\u001b[0m \u001b[0mself\u001b[0m\u001b[0;34m.\u001b[0m\u001b[0m_iter\u001b[0m\u001b[0;34m(\u001b[0m\u001b[0;34m)\u001b[0m\u001b[0;34m:\u001b[0m\u001b[0;34m\u001b[0m\u001b[0m\n\u001b[0;32m--> 557\u001b[0;31m             \u001b[0mXt\u001b[0m \u001b[0;34m=\u001b[0m \u001b[0mtransform\u001b[0m\u001b[0;34m.\u001b[0m\u001b[0mtransform\u001b[0m\u001b[0;34m(\u001b[0m\u001b[0mXt\u001b[0m\u001b[0;34m)\u001b[0m\u001b[0;34m\u001b[0m\u001b[0m\n\u001b[0m\u001b[1;32m    558\u001b[0m         \u001b[0;32mreturn\u001b[0m \u001b[0mXt\u001b[0m\u001b[0;34m\u001b[0m\u001b[0m\n\u001b[1;32m    559\u001b[0m \u001b[0;34m\u001b[0m\u001b[0m\n",
      "\u001b[0;32m/Library/Frameworks/Python.framework/Versions/3.6/lib/python3.6/site-packages/sklearn/compose/_column_transformer.py\u001b[0m in \u001b[0;36mtransform\u001b[0;34m(self, X)\u001b[0m\n\u001b[1;32m    558\u001b[0m         \"\"\"\n\u001b[1;32m    559\u001b[0m         \u001b[0mcheck_is_fitted\u001b[0m\u001b[0;34m(\u001b[0m\u001b[0mself\u001b[0m\u001b[0;34m)\u001b[0m\u001b[0;34m\u001b[0m\u001b[0m\n\u001b[0;32m--> 560\u001b[0;31m         \u001b[0mX\u001b[0m \u001b[0;34m=\u001b[0m \u001b[0m_check_X\u001b[0m\u001b[0;34m(\u001b[0m\u001b[0mX\u001b[0m\u001b[0;34m)\u001b[0m\u001b[0;34m\u001b[0m\u001b[0m\n\u001b[0m\u001b[1;32m    561\u001b[0m         \u001b[0;32mif\u001b[0m \u001b[0mhasattr\u001b[0m\u001b[0;34m(\u001b[0m\u001b[0mX\u001b[0m\u001b[0;34m,\u001b[0m \u001b[0;34m\"columns\"\u001b[0m\u001b[0;34m)\u001b[0m\u001b[0;34m:\u001b[0m\u001b[0;34m\u001b[0m\u001b[0m\n\u001b[1;32m    562\u001b[0m             \u001b[0mX_feature_names\u001b[0m \u001b[0;34m=\u001b[0m \u001b[0mnp\u001b[0m\u001b[0;34m.\u001b[0m\u001b[0masarray\u001b[0m\u001b[0;34m(\u001b[0m\u001b[0mX\u001b[0m\u001b[0;34m.\u001b[0m\u001b[0mcolumns\u001b[0m\u001b[0;34m)\u001b[0m\u001b[0;34m\u001b[0m\u001b[0m\n",
      "\u001b[0;32m/Library/Frameworks/Python.framework/Versions/3.6/lib/python3.6/site-packages/sklearn/compose/_column_transformer.py\u001b[0m in \u001b[0;36m_check_X\u001b[0;34m(X)\u001b[0m\n\u001b[1;32m    628\u001b[0m     \u001b[0;32mif\u001b[0m \u001b[0mhasattr\u001b[0m\u001b[0;34m(\u001b[0m\u001b[0mX\u001b[0m\u001b[0;34m,\u001b[0m \u001b[0;34m'__array__'\u001b[0m\u001b[0;34m)\u001b[0m \u001b[0;32mor\u001b[0m \u001b[0msparse\u001b[0m\u001b[0;34m.\u001b[0m\u001b[0missparse\u001b[0m\u001b[0;34m(\u001b[0m\u001b[0mX\u001b[0m\u001b[0;34m)\u001b[0m\u001b[0;34m:\u001b[0m\u001b[0;34m\u001b[0m\u001b[0m\n\u001b[1;32m    629\u001b[0m         \u001b[0;32mreturn\u001b[0m \u001b[0mX\u001b[0m\u001b[0;34m\u001b[0m\u001b[0m\n\u001b[0;32m--> 630\u001b[0;31m     \u001b[0;32mreturn\u001b[0m \u001b[0mcheck_array\u001b[0m\u001b[0;34m(\u001b[0m\u001b[0mX\u001b[0m\u001b[0;34m,\u001b[0m \u001b[0mforce_all_finite\u001b[0m\u001b[0;34m=\u001b[0m\u001b[0;34m'allow-nan'\u001b[0m\u001b[0;34m,\u001b[0m \u001b[0mdtype\u001b[0m\u001b[0;34m=\u001b[0m\u001b[0mnp\u001b[0m\u001b[0;34m.\u001b[0m\u001b[0mobject\u001b[0m\u001b[0;34m)\u001b[0m\u001b[0;34m\u001b[0m\u001b[0m\n\u001b[0m\u001b[1;32m    631\u001b[0m \u001b[0;34m\u001b[0m\u001b[0m\n\u001b[1;32m    632\u001b[0m \u001b[0;34m\u001b[0m\u001b[0m\n",
      "\u001b[0;32m/Library/Frameworks/Python.framework/Versions/3.6/lib/python3.6/site-packages/sklearn/utils/validation.py\u001b[0m in \u001b[0;36mcheck_array\u001b[0;34m(array, accept_sparse, accept_large_sparse, dtype, order, copy, force_all_finite, ensure_2d, allow_nd, ensure_min_samples, ensure_min_features, warn_on_dtype, estimator)\u001b[0m\n\u001b[1;32m    547\u001b[0m                     \u001b[0;34m\"Reshape your data either using array.reshape(-1, 1) if \"\u001b[0m\u001b[0;34m\u001b[0m\u001b[0m\n\u001b[1;32m    548\u001b[0m                     \u001b[0;34m\"your data has a single feature or array.reshape(1, -1) \"\u001b[0m\u001b[0;34m\u001b[0m\u001b[0m\n\u001b[0;32m--> 549\u001b[0;31m                     \"if it contains a single sample.\".format(array))\n\u001b[0m\u001b[1;32m    550\u001b[0m             \u001b[0;31m# If input is 1D raise error\u001b[0m\u001b[0;34m\u001b[0m\u001b[0;34m\u001b[0m\u001b[0m\n\u001b[1;32m    551\u001b[0m             \u001b[0;32mif\u001b[0m \u001b[0marray\u001b[0m\u001b[0;34m.\u001b[0m\u001b[0mndim\u001b[0m \u001b[0;34m==\u001b[0m \u001b[0;36m1\u001b[0m\u001b[0;34m:\u001b[0m\u001b[0;34m\u001b[0m\u001b[0m\n",
      "\u001b[0;31mValueError\u001b[0m: Expected 2D array, got scalar array instead:\narray=this item sucks.\nReshape your data either using array.reshape(-1, 1) if your data has a single feature or array.reshape(1, -1) if it contains a single sample."
     ]
    }
   ],
   "source": [
    "clf.predict(pipeline.transform('this item sucks'))"
   ]
  },
  {
   "cell_type": "code",
   "execution_count": null,
   "metadata": {},
   "outputs": [],
   "source": []
  },
  {
   "cell_type": "code",
   "execution_count": null,
   "metadata": {},
   "outputs": [],
   "source": []
  },
  {
   "cell_type": "code",
   "execution_count": 59,
   "metadata": {},
   "outputs": [
    {
     "name": "stdout",
     "output_type": "stream",
     "text": [
      "REVIEW: why people think that they need these has always been a mystery ... as if sony microsoft nintendo do not stress test their systems and efficiently tune the stock cooling fansthis is clearly a product that nobody really needs GOLD 0 PREDICTED: 2 \n",
      "\n",
      "REVIEW: bought the ir3bu model a couple years ago and has been returned twicw for repair and now the menu system is in chinese which is not a problem as it is broke down again i would spend the three hundred on another scout camera before buying another of these GOLD 0 PREDICTED: 2 \n",
      "\n",
      "REVIEW: sorry billy but more compilations like this are only driving fans away there is absolutely nothing here that has not already been rehashed ten times over yet another horrendous disappointment GOLD 0 PREDICTED: 2 \n",
      "\n",
      "REVIEW: the heads are carbide but the shanks are soft steel the shank diameter is 3mm not 1/8 as advertised the 3mm shank will not chuck up in a proper 1/8 die grinder it may chuck up in a cheep electric dremel tool or equivalent but not an 1/8 air micro grinder or in an 1/8 collet for use in a 1/4 air grinder when accelerated quickly the shanks bent ninety deg and my grinder shook violently save your money there are ebay venders selling solid usa made carbide burs with correct 1/8 shanks for about 1.25 each in lots of twenty-five or fifty GOLD 2 PREDICTED: 0 \n",
      "\n",
      "REVIEW: i am extremely disappointed the description says leather and for the price i paid i expected leather but very clearly inside both shoes in black it says man made materials GOLD 0 PREDICTED: 2 \n",
      "\n",
      "REVIEW: its not waterproof i did send it back and they gave it a coutesy repair and then i went in the water with it again not more than a foot deep this time ... and i have still got a worthless one hundred and eighty piece of crap that does not do anything GOLD 0 PREDICTED: 2 \n",
      "\n",
      "REVIEW: i am not using this product to dictate this review because it does not work with my system i have windows vista and have tried to set up the microphone that came with the package as well the professional microphones that i use in my studio that cost hundreds of dollars this products fails on both counts i am sure that with enough twiddling and tweaking i will eventually get it to work as for now it is just another typical expensive software package that does not perform as advertised without a lot of troubleshooting it would be nice if i could get what i pay for straight out of the box every once in a while ... GOLD 0 PREDICTED: 2 \n",
      "\n",
      "REVIEW: a little noisey terrible shielding get to hear some douche on mpr radio through my stack the next time i am getting better quality ... GOLD 0 PREDICTED: 2 \n",
      "\n",
      "REVIEW: we bought this train for my son's 4th birthday because he loves trains we have the silver wind up one which works well this train however is junk it seems to be made cheaply it says made in china and when we wound it up it broke the second time we tried it out i would not recommend this to anyone unless they do not care that it works and it is a kid that does not take care of toys my son of course still loves it since it looks similar to his beloved sante fe train and only in this way is this train worth it GOLD 0 PREDICTED: 2 \n",
      "\n",
      "REVIEW: the product bills itself as a multi sensor to light motion temp humidity the motion sensor works great unfortunately i needed a device to measure humidity and it simply does not work i looked through all of the wiki's forums and it seems a lot of people struggle with this device worst of all there is no real way to contact aeon labs you go to their website and enter your information no acknowledgement email nothing GOLD 2 PREDICTED: 0 \n",
      "\n",
      "REVIEW: the leather pouch for nokia c3 is a little bigger than the phone the phone fits but there is more room left inside the pouch i also bought the amzer silicone skin jelly case for the same phone the phone with the jelly case fits inside the leather pouch does not make sense to buy both the pouch and the jelly case am using the jelly case but not the pouch GOLD 2 PREDICTED: 0 \n",
      "\n",
      "REVIEW: do not buy or use family tree maker twelve if you want a family tree that everyone can see looking forward to finding long-lost cousins and distant relatives do not they will only be able to see your tree if they buy memberships how about your family then they can see the tree--but only if you personally invite each and every one of them anyone whose address you do not know and future generations well tough luck to all of them they will just have to buy expensive memberships in ancestry.com.yes ancestry.com does believe that for a few bucks they earned by selling you their new software they own your family tree they bought out the family tree maker name so if you have the old software you can no longer use it to update your family tree instead you are forced to buy their new software which requires people to buy memberships there they sit raking in money by requiring paid access to the data that you put together.if that were not bad enough it is a buggy program that syncs with your computer do you know how dangerous that is instead use myheritage.com it is free and anyone can see it use your old family tree maker software to convert your ftw or ftm file to a gedcom file and you can use myheritage.com to import the ged file you created like the old family tree maker it is free and anyone can see it i am disgusted with ancestry.com today i am sending my software back and demanding a refund GOLD 0 PREDICTED: 3 \n",
      "\n",
      "REVIEW: i would have rated this five stars but it freezes up often i really like the variety of games and they are always adding new ones please leave older games on to play as well offers hours of exciting play GOLD 2 PREDICTED: 0 \n",
      "\n",
      "REVIEW: so i played 2k14 last night and was impress with the presentation the overall intro of the game as far as gameplay goes i have to say 2ksports went ea sports on us and by that i mean we are the only game out there so we do not have to do anything because the consumer will buy it without hesitation ... i mean the game looks just like 2k13 but has the feel of something totally different the prostick is a complete joke and was probably the cheapest thing 2k had to upgrade to bring to the table it is 2k13 with upgraded rosters and a stupid wack-stick i will continue to play 2k13 online download updated rosters from the old 2kshare feature ... i will buy 2k14 when it drop to 29.99 or when i buy the xbox one and that is only because of the entirely different engine .. i forgive u 2ksports for not givin one hundred .. GOLD 0 PREDICTED: 2 \n",
      "\n",
      "REVIEW: h-o-r-r-i-b-l-e disney should consider the actual toddler that has to wear these too narrow and she could not even walk in them without the back of her foot popping out of them the strap is positioned way too low to keep the shoe on her foot while walking toddlers cant wear flats without a decent strap to hold their feet in if any reviewer said these shoes were great then they did not buy them for a toddler do yourself a favor go to payless shoes com they offer a similar shoe with a strap that will keep your girlie's foot in the shoe and the shoe has a decent width GOLD 0 PREDICTED: 3 \n",
      "\n",
      "REVIEW: when my brother begged me to download this app i have to admit i was a bit sceptical but my worries were soon forgotten fantastic would recommend to anyone :-) please download it will not be a waste i promise use for journeys near and far the time will fly GOLD 2 PREDICTED: 0 \n",
      "\n",
      "REVIEW: not much fun in producing the mediocre definitely not professional as advertised try another product or stick to microsoft publisher GOLD 0 PREDICTED: 2 \n",
      "\n",
      "REVIEW: this remote control sucks big time got it for the kids for christmas because we needed an extra control for mariocart i waited too long to return this defective unit and now we are stuck with it whichever person gets stuck using this remote always loses the races because he has very little control over his car it is like the car has a mind of its own and does not respond correctly to the remote GOLD 0 PREDICTED: 2 \n",
      "\n",
      "REVIEW: my girls cheer and we decided on a different color team i would like to exchange for the chevron royal blue and silver GOLD 0 PREDICTED: 2 \n",
      "\n",
      "REVIEW: this is another one of those free products designed with limits so you have to purchase upgrades for more functionality is a belching dog supposed to be cute GOLD 0 PREDICTED: 2 \n",
      "\n",
      "REVIEW: my sons ages five and 3.5 received this as a gift and it is the worst playdoh set ever since the first time we used it the shape tool does not work the template falls out constantly the popcorn does not work well and worst of all the boys cannot do any of it by themselves.as i speak they are crying and fighting because they cannot make this toy work next time i have the opportunity i am throwing the whole thing in the trash and hoping they do not remember it GOLD 0 PREDICTED: 2 \n",
      "\n",
      "REVIEW: bought this for my three year old for christmas and she loved it we hooked it up to her tv and she danced for hours i love that you can hook up and mp3 player and play your own music the only bad thing i have to say about it is that it only looks good on a smaller tv .. anything above twenty inches or so it it pixley and looks awful.love it on her small tv though GOLD 2 PREDICTED: 0 \n",
      "\n",
      "REVIEW: i live abroad and had been needing this cable for quite some time.finally had it delivered and picked it up while in the states really is a pain to purchased such a simple item and then that it doesnt work of course the customer is the only one that suffers ... GOLD 0 PREDICTED: 2 \n",
      "\n",
      "REVIEW: i have heard good nin songs on the radio but had yet to add a nin cd to my collection i decided to start w this one the first time i listened to the downward spiral i was disappointed outside of the radio hits but then i decided to give it a few more listens by the 3rd time i was hooked and now the more i hear it the more i crave it almost every song is full of catchy hooks the one exception is piggy and frightfully angry lyrics not for the timid or easily offended these lyrics do not necessarily make you think but make you wonder what the hell happened to trent reznor to pour these thoughts out and commit them to tape i cringe digesting the images but i still want more the music is dead-on solid i am scoping out my next nin acquisition ... GOLD 2 PREDICTED: 0 \n",
      "\n",
      "REVIEW: my computer was infected with the browser hijacker virus downloaded the virus with a free program while i was able to remove the bulk of the virus the mcafee already installed in my computer was not able to remove the residual files so my browser was still redirected a lot very annoying i used total defense it was able to remove everything on the first scan however i think it is too restrictive so it blocked out a lot of the internet connections so i had trouble even reading my emails i had to remove it and reinstall my mcafee but it did solve my biggest problem--killing the virus so three stars i do think if i am more computer savvy maybe i can modify the settings to make it work GOLD 3 PREDICTED: 0 \n",
      "\n",
      "REVIEW: despite the fact that the ui could use some improvements i think this mmo has vast potential far more potential than ffxi had upon it is release i played ffxi for six years and i think some people forget how bare bones it was on the initial release the game is visually stunning beautiful even i am unsure how some people could be so harsh with their judgements so quickly this is a mmorpg and in my experience with mmos they are ever evolving with updates expansions and add-ons people say the game is not complete but what mmorpg is complete when you have update after update and numerous expansions and add-ons i do not think a mmo is ever complete those who gave up on this treasure too soon have made a mistake i fear this is definately a mmo masterpiece in the works GOLD 1 PREDICTED: 3 \n",
      "\n",
      "REVIEW: i have used pcs forever that is until about eight months ago i bought a macbook running tiger and a new laptop pc w vista at the same time i became familiar with the macbook pretty quickly and actually found myself using it over the pc ninety of the time then i upgraded to the latest os of leopard and have been using it since the end of october i have been gradually going back to the pc more and more as leopard is really more complicated than i expected i am considering going back to tiger but i have sunk so much money and time installing the new os in the macbook i think i will just wait until they fix a few of the problems and go back to the pc for a while if you have to choose between vista and tiger ... go with tiger but if it is a choice between vista and leopard ... go with vista until some of the gripes in leopard are fixed imho if you want to know what those gripes are just do a google search on leopard and grab a cup of coffee ... your in for a long read sure there are those mac people who will defend the os but there are fewer than you would expect even mac loyal sites are posting tons of complaints instead of praise to me being familiar with both pc and mac it is obvious that apple is trying to be more like a pc it is a shame because that is why i liked tiger ... it was not microsoft oh well bill gates wins we all lose GOLD 0 PREDICTED: 3 \n",
      "\n",
      "REVIEW: my grandaughter is a big concert fan and is also traveling to europe to study so i thought it would come in handy for her to use for these events GOLD 0 PREDICTED: 2 \n",
      "\n",
      "REVIEW: this is cheap junk versus the seemingly identical product from a different manufacturer on stage stands which is the one you should buy this musician's gear knockoff of the on stage stands product has an inferior design with poor fit-and-finish worse yet the geometry of the adjustable neck is off so that the back of my dreadnought acoustic guitar's body touches the unpadded neck of the stand before the guitar's neck makes contact with the padded upper support no matter how i adjust the stand's neck height unlike the superior on stage stands version the foam padding on the musician's gear stand stinks like foul chemicals not surprising since there is a prominent warning tag attached that says the foam might deteriorate the finish of any instrument having a nitrocellulous lacquer finish my dreadnought guitar and with height adjusted my tenor ukulele both fit the on stage stands stand but neither fits this one the foam coverings on the oss version are neatly and precisely attached and the circular ends of the rubber stretch lock on the upper support snap neatly into their own recessed channels which this musician's gear version lacks so the rubber lock just slides clumsily over the foam i will be looking for inexpensive return freight so i can get a credit from the vendor rather than just throwing this purchase into the trash to the vendor's credit the agent i obtained my return-authorization from was willing to give me a price match one discount on an on stage stands replacement though i decided to buy instead from sweetwater dot com where i bought my first oss item update the return policy of the vendor different now on amazon vs mine allows it to deduct the value of my initially free shipping from the credit it would issue therefore my ten purchase price apparently would be reduced by 4.95 vendor's standard 3-5- day shipping plus my cost for return freight which i assume would be at least five ergo i am better off throwing this crappy item in the trash rather than returning it so the vendor could resell it to another sucker lesson learned caveat emptor further update i emailed a copy of my amazon review to the vendor's front office along with a further expression of displeasure and they responded by apologizing and issuing a full refund confirmed by amazon without requiring i return the product i recommend all consumers speak up when they have been screwed over the better vendors will make amends GOLD 0 PREDICTED: 3 \n",
      "\n",
      "REVIEW: really fun and addicting but i wish you got hints morebut good game and like it and its so addicting i recommend this game to anyone that is bored GOLD 3 PREDICTED: 1 \n",
      "\n",
      "REVIEW: i have been using bitdefender for the past couple of years i found the two thousand and eight version for three computers for two years at a great price when it was running out i went looking for a similar deal and found one i noticed a couple of unpolished elements when installing there were a lot of dos command prompt windows opening in the background on the screen very briefly i did not have to interact with any of them and they went away almost immediately so there is no harm to it it is just a little unpolished i should also mention that the update for it is big it will ask to download the updated installer then after a few minutes when that is downloaded and run the updates for the program are currently over seventy-five mb i think that is probably the case with many anti-virus programs but just be aware if you are on dial-up you will be downloading for quite some time i uninstalled that old from a laptop and a desktop the desktop went fine but the laptop failed to uninstall i tried to get the uninstall program off bitdefender's website but the link they pointed to was dead eventually i found the cd and reinstalled which failed but the cd had the uninstaller which worked i only mention this because it is a little worrisome that if the last program had those issues that this version might when i eventually uninstall it i like this version of the program it has several different modes ranging from novice hides settings to expert showing all of it and is very easy to change between them my absolute favorite part though is the you are not fully protected system in past programs i have used if you disable some feature you constantly get the little alert icon that you are at risk bitdefender two thousand and ten lets you choose which of those things it monitors for so i did not want the anti-spam because i only use web mail so i told it not to bother me that i would deleted it it may be a small thing but to me it is a huge annoyance saver.so far i cannot tell if the scanner is faster or not it scans at only about a quarter of the number of files per second as the old program but it supposedly has an intelligent monitoring system which lets it avoid rescanning files that have not changed and thus could not have picked up an infection so while it was not that fast on the first scan in theory it will only get faster moving forward it intentionally skipped thousands of files.default is a daily scan which in my opinion is complete overkill unless you have a kid in your house if the resident protection is running all the time you can get by with once or twice a week thankfully the scheduling is very easy and you can even set the scans to take low priority which is a nice touch.in terms of detection bitdefender is not the highest rated scanner but it is far from the lowest it is an excellent budget anti-virus package and more than adequate for most people's needs considering how reasonable the pricing is i would happily recommend however since i have only used it a week or so if it does do anything really weird i will update my review to mention it.update 8/ 3/10- finally had to use my printer and guess what bitdefender has killed it i cannot use my network printer so i am dropping this review a couple stars i killed its firewall and turned the windows one on again guess what i can print again i wasted two hours dealing trying to fix it before i gave up unacceptable behavior in a firwall.ce saver so far i cannot tell if the scanner is faster or not it scans at only about a quarter of the number of files per second as the old program but it supposedly has an intelligent monitoring system which lets it avoid rescanning files that have not changed and thus could not have picked up an infection so while it was not that fast on the first scan in theory it will only get faster moving forward it intentionally skipped thousands of files default is a daily scan which in my opinion is complete overkill unless you have a kid in your house if the resident protection is running all the time you can get by with once or twice a week thankfully the scheduling is very easy and you can even set the scans to take low priority which is a nice touch in terms of detection bitdefender is not the highest rated scanner but it is far from the lowest it is an excellent budget anti-virus package and more than adequate for most people's needs considering how reasonable the pricing is i would happily recommend however since i have only used it a week or so if it does do anything really weird i will update my review to mention it update 8/ 3/10 finally had to use my printer and guess what bitdefender has killed it i cannot use my network printer so i am dropping this review a couple stars i killed its firewall and turned the windows one on again guess what i can print again i wasted two hours dealing trying to fix it before i gave up unacceptable behavior in a firwall GOLD 0 PREDICTED: 3 \n",
      "\n",
      "REVIEW: like many people out there i have a collection of old analog videos of my children and wanted to convert them to digital to edit them and make dvds pinnacle movie box which includes studio software looked like a great deal but it turned out to be anything but i have tried this on three different computers running xp and vista both with loads of disk space memory and fast processors and it simply will not work it drops frames it does not capture sound and or the video capture quality is terrible save yourself a lot of aggravation and buy a canopus converter instead more expensive but they work GOLD 0 PREDICTED: 2 \n",
      "\n"
     ]
    }
   ],
   "source": [
    "# Misclassified examples for GBM with all features in multiclass setting\n",
    "\n",
    "#for i, j, k in zip(X_test_CRC.text_review, y_test_CRC, y_pred):\n",
    "#    if k-j > 1 or j-k > 1:\n",
    "#        print(\"REVIEW:\", i, \"GOLD\", j, \"PREDICTED:\", k, \"\\n\")"
   ]
  }
 ],
 "metadata": {
  "kernelspec": {
   "display_name": "Python 3",
   "language": "python",
   "name": "python3"
  },
  "language_info": {
   "codemirror_mode": {
    "name": "ipython",
    "version": 3
   },
   "file_extension": ".py",
   "mimetype": "text/x-python",
   "name": "python",
   "nbconvert_exporter": "python",
   "pygments_lexer": "ipython3",
   "version": "3.6.4"
  }
 },
 "nbformat": 4,
 "nbformat_minor": 2
}
