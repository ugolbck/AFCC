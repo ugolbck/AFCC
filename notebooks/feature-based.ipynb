{
 "cells": [
  {
   "cell_type": "code",
   "execution_count": 1,
   "metadata": {},
   "outputs": [],
   "source": [
    "%matplotlib inline\n",
    "\n",
    "import pandas as pd\n",
    "import numpy as np\n",
    "import matplotlib.pyplot as plt\n",
    "import seaborn as sns\n",
    "\n",
    "from sklearn.ensemble import RandomForestClassifier, GradientBoostingClassifier\n",
    "from sklearn.compose import ColumnTransformer\n",
    "from sklearn.feature_extraction.text import TfidfVectorizer\n",
    "from sklearn.preprocessing import StandardScaler\n",
    "from sklearn.pipeline import Pipeline\n",
    "from sklearn.model_selection import GridSearchCV, cross_val_score\n",
    "from sklearn.metrics import confusion_matrix, classification_report, accuracy_score, f1_score, make_scorer"
   ]
  },
  {
   "cell_type": "code",
   "execution_count": 50,
   "metadata": {},
   "outputs": [],
   "source": [
    "PATH_DATA = '../data/data/'\n",
    "PATH_IMAGES = '../assets/images/confusion/'\n",
    "PATH_RESULTS = '../results/'"
   ]
  },
  {
   "cell_type": "markdown",
   "metadata": {},
   "source": [
    "## Loading the data"
   ]
  },
  {
   "cell_type": "code",
   "execution_count": 218,
   "metadata": {},
   "outputs": [],
   "source": [
    "# training set\n",
    "train = pd.read_csv(PATH_DATA + \"CRC_3200_train.csv\")\n",
    "X_train = train[['named_entities']].copy()\n",
    "y_bin_train = train['bin_tag'].copy()"
   ]
  },
  {
   "cell_type": "code",
   "execution_count": 219,
   "metadata": {},
   "outputs": [],
   "source": [
    "# test set (CRC)\n",
    "test_CRC = pd.read_csv(PATH_DATA + \"CRC_800_test.csv\")\n",
    "X_test_CRC = test_CRC[['named_entities']].copy()\n",
    "y_test_bin_CRC = test_CRC['bin_tag'].copy()"
   ]
  },
  {
   "cell_type": "code",
   "execution_count": 220,
   "metadata": {},
   "outputs": [],
   "source": [
    "# test set (C3)\n",
    "test_c3 = pd.read_csv(PATH_DATA + \"C3_12000.csv\")\n",
    "X_test_c3 = test_c3[['named_entities']].copy()\n",
    "y_test_bin_c3 = test_c3['bin_tag'].copy()"
   ]
  },
  {
   "cell_type": "code",
   "execution_count": 221,
   "metadata": {},
   "outputs": [],
   "source": [
    "# test set (YNACC)\n",
    "test_ynacc = pd.read_csv(PATH_DATA + \"YNACC.csv\")\n",
    "X_test_ynacc = test_ynacc[['named_entities']].copy()\n",
    "X_test_ynacc.fillna(0, inplace=True)\n",
    "y_test_bin_ynacc = test_ynacc['bin_tag'].copy()"
   ]
  },
  {
   "cell_type": "markdown",
   "metadata": {},
   "source": [
    "## Gradient Boosting"
   ]
  },
  {
   "cell_type": "code",
   "execution_count": 222,
   "metadata": {},
   "outputs": [],
   "source": [
    "clf = GradientBoostingClassifier(n_estimators=300,\n",
    "                                  learning_rate=0.03,\n",
    "                                  max_depth=8,\n",
    "                                  validation_fraction=0.1,\n",
    "                                  n_iter_no_change=5, tol=0.005,\n",
    "                                  random_state=0,\n",
    "                                  verbose=1)"
   ]
  },
  {
   "cell_type": "markdown",
   "metadata": {},
   "source": [
    "### All features - Multiclass"
   ]
  },
  {
   "cell_type": "code",
   "execution_count": 159,
   "metadata": {},
   "outputs": [],
   "source": [
    "trans = ColumnTransformer(transformers=[\n",
    "            #('review', TfidfVectorizer(min_df=1, max_df=0.1, encoding='utf-8', ngram_range=(1,1)), 'text_review'),\n",
    "            ('pos', TfidfVectorizer(encoding='utf-8', ngram_range=(1,1)), 'text_pos'),\n",
    "            ],\n",
    "                         remainder='drop')"
   ]
  },
  {
   "cell_type": "code",
   "execution_count": 160,
   "metadata": {},
   "outputs": [],
   "source": [
    "pipeline = Pipeline([\n",
    "    ('union', trans)\n",
    "])"
   ]
  },
  {
   "cell_type": "code",
   "execution_count": 161,
   "metadata": {},
   "outputs": [
    {
     "name": "stdout",
     "output_type": "stream",
     "text": [
      "Size of the feature matrix for CRC: (800, 35)\n",
      "Size of the feature matrix for C3: (12000, 35)\n",
      "Size of the feature matrix for YNACC: (22795, 35)\n"
     ]
    }
   ],
   "source": [
    "X_train_fitted = pipeline.fit_transform(X_train)\n",
    "X_test_CRC_fitted = pipeline.transform(X_test_CRC)\n",
    "X_test_c3_fitted = pipeline.transform(X_test_c3)\n",
    "X_test_ynacc_fitted = pipeline.transform(X_test_ynacc)\n",
    "\n",
    "print('Size of the feature matrix for CRC:', X_test_CRC_fitted.shape)\n",
    "print('Size of the feature matrix for C3:', X_test_c3_fitted.shape)\n",
    "print('Size of the feature matrix for YNACC:', X_test_ynacc_fitted.shape)"
   ]
  },
  {
   "cell_type": "code",
   "execution_count": 223,
   "metadata": {},
   "outputs": [
    {
     "name": "stdout",
     "output_type": "stream",
     "text": [
      "      Iter       Train Loss   Remaining Time \n",
      "         1           1.3841            0.35s\n",
      "         2           1.3829            0.63s\n",
      "         3           1.3818            0.71s\n",
      "         4           1.3807            0.65s\n",
      "         5           1.3798            0.60s\n",
      "         6           1.3788            0.56s\n"
     ]
    },
    {
     "data": {
      "text/plain": [
       "GradientBoostingClassifier(ccp_alpha=0.0, criterion='friedman_mse', init=None,\n",
       "                           learning_rate=0.03, loss='deviance', max_depth=8,\n",
       "                           max_features=None, max_leaf_nodes=None,\n",
       "                           min_impurity_decrease=0.0, min_impurity_split=None,\n",
       "                           min_samples_leaf=1, min_samples_split=2,\n",
       "                           min_weight_fraction_leaf=0.0, n_estimators=300,\n",
       "                           n_iter_no_change=5, presort='deprecated',\n",
       "                           random_state=0, subsample=1.0, tol=0.005,\n",
       "                           validation_fraction=0.1, verbose=1,\n",
       "                           warm_start=False)"
      ]
     },
     "execution_count": 223,
     "metadata": {},
     "output_type": "execute_result"
    }
   ],
   "source": [
    "clf.fit(X_train, y_bin_train)"
   ]
  },
  {
   "cell_type": "code",
   "execution_count": 226,
   "metadata": {},
   "outputs": [
    {
     "name": "stdout",
     "output_type": "stream",
     "text": [
      "Accuracy: 0.543\n",
      "F1 Score: 0.3821762799740765\n",
      "              precision    recall  f1-score   support\n",
      "\n",
      "         0.0       0.00      0.00      0.00      5484\n",
      "         1.0       0.54      1.00      0.70      6516\n",
      "\n",
      "    accuracy                           0.54     12000\n",
      "   macro avg       0.27      0.50      0.35     12000\n",
      "weighted avg       0.29      0.54      0.38     12000\n",
      "\n"
     ]
    },
    {
     "name": "stderr",
     "output_type": "stream",
     "text": [
      "/Library/Frameworks/Python.framework/Versions/3.6/lib/python3.6/site-packages/sklearn/metrics/_classification.py:1272: UndefinedMetricWarning: Precision and F-score are ill-defined and being set to 0.0 in labels with no predicted samples. Use `zero_division` parameter to control this behavior.\n",
      "  _warn_prf(average, modifier, msg_start, len(result))\n"
     ]
    },
    {
     "data": {
      "image/png": "[encoded data removed]",
      "text/plain": [
       "<Figure size 432x360 with 2 Axes>"
      ]
     },
     "metadata": {
      "needs_background": "light"
     },
     "output_type": "display_data"
    }
   ],
   "source": [
    "y_pred = clf.predict(X_test_c3)\n",
    "print(\"Accuracy:\", accuracy_score(y_test_bin_c3, y_pred))\n",
    "print(\"F1 Score:\", f1_score(y_test_bin_c3, y_pred, average='weighted'))\n",
    "print(classification_report(y_test_bin_c3, y_pred))\n",
    "report = classification_report(y_test_bin_c3, y_pred, output_dict=True)\n",
    "pd.DataFrame(report).transpose().to_csv(PATH_RESULTS+'bin-GBM-C3-entities.csv', index=False)\n",
    "\n",
    "conf_mat = confusion_matrix(y_test_bin_c3, y_pred)\n",
    "fig, ax = plt.subplots(figsize=(6, 5))\n",
    "sns.heatmap(conf_mat, cmap=\"YlGnBu\", annot=True, fmt='d')\n",
    "plt.ylabel('Actual')\n",
    "plt.xlabel('Predicted')\n",
    "plt.savefig(PATH_IMAGES+'bin-GBM-C3-entities.png', bbox_inches='tight')\n",
    "plt.show()"
   ]
  },
  {
   "cell_type": "code",
   "execution_count": 235,
   "metadata": {},
   "outputs": [
    {
     "data": {
      "text/plain": [
       "array([[<matplotlib.axes._subplots.AxesSubplot object at 0x11ee86a90>]],\n",
       "      dtype=object)"
      ]
     },
     "execution_count": 235,
     "metadata": {},
     "output_type": "execute_result"
    },
    {
     "data": {
      "image/png": "[encoded data removed]",
      "text/plain": [
       "<Figure size 1080x360 with 1 Axes>"
      ]
     },
     "metadata": {
      "needs_background": "light"
     },
     "output_type": "display_data"
    }
   ],
   "source": [
    "discourse = train[['named_entities']].copy()\n",
    "discourse.hist(figsize=(15,5), bins=150)"
   ]
  }
 ],
 "metadata": {
  "kernelspec": {
   "display_name": "Python 3",
   "language": "python",
   "name": "python3"
  },
  "language_info": {
   "codemirror_mode": {
    "name": "ipython",
    "version": 3
   },
   "file_extension": ".py",
   "mimetype": "text/x-python",
   "name": "python",
   "nbconvert_exporter": "python",
   "pygments_lexer": "ipython3",
   "version": "3.6.4"
  }
 },
 "nbformat": 4,
 "nbformat_minor": 2
}
