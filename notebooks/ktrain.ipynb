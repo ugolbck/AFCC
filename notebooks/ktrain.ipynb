{
 "cells": [
  {
   "cell_type": "code",
   "execution_count": 57,
   "metadata": {},
   "outputs": [],
   "source": [
    "%matplotlib inline\n",
    "\n",
    "import ktrain\n",
    "from ktrain import text\n",
    "import pandas as pd\n",
    "import numpy as np\n",
    "from sklearn.model_selection import train_test_split\n",
    "from sklearn.metrics import confusion_matrix, classification_report, accuracy_score, f1_score\n",
    "import matplotlib.pyplot as plt\n",
    "import seaborn as sns"
   ]
  },
  {
   "cell_type": "markdown",
   "metadata": {},
   "source": [
    "#### Globals"
   ]
  },
  {
   "cell_type": "code",
   "execution_count": 131,
   "metadata": {},
   "outputs": [],
   "source": [
    "PATH_PIPE = '../Pipeline/'\n",
    "PATH_RAW = '../data/raw_data/'\n",
    "PATH_DATA = '../data/data/'\n",
    "PATH_MODELS = '../../models/'\n",
    "PATH_IMAGES = '../assets/images/'\n",
    "\n",
    "MULTICLASS = ['Not constructive', 'Rather not', 'Rather yes', 'Constructive']\n",
    "BINARY = ['Not constructive', 'Constructive']\n",
    "MULTICLASS_NUM = [0, 1, 2, 3]\n",
    "BINARY_NUM = [0, 1]\n",
    "\n",
    "MODEL_NAME = 'distilbert-base-uncased'\n",
    "MAXLEN = 250\n",
    "MAXFEATURES = 5000\n",
    "BATCH_SIZE = 6"
   ]
  },
  {
   "cell_type": "markdown",
   "metadata": {},
   "source": [
    "## Load data\n",
    "\n",
    "Either with separate train and test files or..."
   ]
  },
  {
   "cell_type": "code",
   "execution_count": 99,
   "metadata": {},
   "outputs": [],
   "source": [
    "train = pd.read_csv(PATH_DATA + \"2829_train.csv\")\n",
    "test = pd.read_csv(PATH_DATA + \"2829_test.csv\")\n",
    "\n",
    "X, y, y_bin = train['text_review'], train['tag'], train['bin_tag']\n",
    "X_test, y_test, y_bin_test = test['text_review'], test['tag'], test['bin_tag']\n",
    "\n",
    "X_train, X_val, y_train, y_val = train_test_split(X, y_bin, test_size=0.1, random_state=42)"
   ]
  },
  {
   "cell_type": "markdown",
   "metadata": {},
   "source": [
    "... with only one file."
   ]
  },
  {
   "cell_type": "code",
   "execution_count": 110,
   "metadata": {},
   "outputs": [],
   "source": [
    "data = pd.read_csv(PATH_DATA + \"2840_full_data.csv\")\n",
    "\n",
    "# Prevent missing values\n",
    "data = data.dropna(subset=['tag'])\n",
    "\n",
    "X, y, y_bin = data['text_review'], data['tag'], data['bin_tag']\n",
    "\n",
    "X_train, X_test, y_train, y_test =  [np.asarray(x) for x in train_test_split(X, y_bin, test_size=0.25, random_state=42)]\n",
    "X_train, X_val, y_train, y_val = [np.asarray(x) for x in train_test_split(X_train, y_train, test_size=0.1, random_state=42)]\n"
   ]
  },
  {
   "cell_type": "markdown",
   "metadata": {},
   "source": [
    "## Load model and preprocess"
   ]
  },
  {
   "cell_type": "code",
   "execution_count": 117,
   "metadata": {},
   "outputs": [
    {
     "name": "stdout",
     "output_type": "stream",
     "text": [
      "preprocessing train...\n",
      "language: en\n",
      "train sequence lengths:\n",
      "\tmean : 66\n",
      "\t95percentile : 230\n",
      "\t99percentile : 540\n"
     ]
    },
    {
     "data": {
      "text/html": [],
      "text/plain": [
       "<IPython.core.display.HTML object>"
      ]
     },
     "metadata": {},
     "output_type": "display_data"
    },
    {
     "name": "stdout",
     "output_type": "stream",
     "text": [
      "preprocessing test...\n",
      "language: en\n",
      "test sequence lengths:\n",
      "\tmean : 60\n",
      "\t95percentile : 199\n",
      "\t99percentile : 374\n"
     ]
    },
    {
     "data": {
      "text/html": [],
      "text/plain": [
       "<IPython.core.display.HTML object>"
      ]
     },
     "metadata": {},
     "output_type": "display_data"
    }
   ],
   "source": [
    "# Setup the text transformer from ktrain\n",
    "t = text.Transformer(MODEL_NAME, maxlen=MAXLEN, class_names=BINARY)\n",
    "\n",
    "# Special preprocessing step\n",
    "trn = t.preprocess_train(X_train, y_train)\n",
    "val = t.preprocess_test(X_val, y_val)\n",
    "\n",
    "# Model generation\n",
    "model = t.get_classifier()"
   ]
  },
  {
   "cell_type": "markdown",
   "metadata": {},
   "source": [
    "We get a Learner object that wraps training, tuning and validating"
   ]
  },
  {
   "cell_type": "code",
   "execution_count": 118,
   "metadata": {},
   "outputs": [],
   "source": [
    "learner = ktrain.get_learner(model, train_data=trn, val_data=val, batch_size=6)"
   ]
  },
  {
   "cell_type": "markdown",
   "metadata": {},
   "source": [
    "## Training and tuning"
   ]
  },
  {
   "cell_type": "markdown",
   "metadata": {},
   "source": [
    "Tries different learning rates for pre-tuning"
   ]
  },
  {
   "cell_type": "code",
   "execution_count": 119,
   "metadata": {},
   "outputs": [
    {
     "name": "stdout",
     "output_type": "stream",
     "text": [
      "simulating training for different learning rates... this may take a few moments...\n",
      "Train for 318 steps\n",
      "318/318 [==============================] - 1271s 4s/step - loss: 0.9005 - accuracy: 0.5425\n",
      "\n",
      "\n",
      "done.\n"
     ]
    },
    {
     "data": {
      "image/png": "[encoded data removed]",
      "text/plain": [
       "<Figure size 432x288 with 1 Axes>"
      ]
     },
     "metadata": {
      "needs_background": "light"
     },
     "output_type": "display_data"
    }
   ],
   "source": [
    "learner.lr_find(show_plot=True, max_epochs=1)"
   ]
  },
  {
   "cell_type": "markdown",
   "metadata": {},
   "source": [
    "#### Training\n",
    "\n",
    "`fit_onecycle` gradually increases the learning rate for half of the training and then decreases it until the end.\n",
    "\n",
    "`fit` is used with SGDR learning rate schedule.\n",
    "\n",
    "`autofit` uses a triangular learning rate policy"
   ]
  },
  {
   "cell_type": "code",
   "execution_count": 120,
   "metadata": {},
   "outputs": [
    {
     "name": "stdout",
     "output_type": "stream",
     "text": [
      "\n",
      "\n",
      "begin training using onecycle policy with max lr of 7e-05...\n",
      "Train for 318 steps, validate for 7 steps\n",
      "Epoch 1/3\n",
      "318/318 [==============================] - 1392s 4s/step - loss: 0.5385 - accuracy: 0.7463 - val_loss: 0.4307 - val_accuracy: 0.7793\n",
      "Epoch 2/3\n",
      "318/318 [==============================] - 1239s 4s/step - loss: 0.3854 - accuracy: 0.8438 - val_loss: 0.4906 - val_accuracy: 0.7746\n",
      "Epoch 3/3\n",
      "318/318 [==============================] - 1189s 4s/step - loss: 0.1423 - accuracy: 0.9539 - val_loss: 0.5944 - val_accuracy: 0.7793\n"
     ]
    },
    {
     "data": {
      "text/plain": [
       "<tensorflow.python.keras.callbacks.History at 0x149c58048>"
      ]
     },
     "execution_count": 120,
     "metadata": {},
     "output_type": "execute_result"
    }
   ],
   "source": [
    "learner.fit_onecycle(7e-5, 3)\n",
    "\n",
    "#learner.fit(0.001, 3, cycle_len=1, cycle_mult=2)\n",
    "\n",
    "#learner.autofit(0.001, 1)"
   ]
  },
  {
   "cell_type": "markdown",
   "metadata": {},
   "source": [
    "Checking which _n_ samples induced the strongest loss."
   ]
  },
  {
   "cell_type": "code",
   "execution_count": 121,
   "metadata": {},
   "outputs": [
    {
     "data": {
      "text/plain": [
       "[(139, 4.571482, 'Not constructive', 'Constructive'),\n",
       " (37, 4.5341554, 'Not constructive', 'Constructive'),\n",
       " (0, 4.529791, 'Not constructive', 'Constructive'),\n",
       " (72, 4.4601064, 'Not constructive', 'Constructive'),\n",
       " (153, 4.43575, 'Not constructive', 'Constructive'),\n",
       " (24, 4.3518715, 'Not constructive', 'Constructive'),\n",
       " (154, 4.3340993, 'Not constructive', 'Constructive'),\n",
       " (86, 4.286712, 'Not constructive', 'Constructive'),\n",
       " (133, 4.283191, 'Not constructive', 'Constructive'),\n",
       " (36, 4.266737, 'Not constructive', 'Constructive')]"
      ]
     },
     "execution_count": 121,
     "metadata": {},
     "output_type": "execute_result"
    }
   ],
   "source": [
    "learner.top_losses(n=10, preproc=t)"
   ]
  },
  {
   "cell_type": "markdown",
   "metadata": {},
   "source": [
    "Validate on validation data. Outputs an sklearn classification report."
   ]
  },
  {
   "cell_type": "code",
   "execution_count": 122,
   "metadata": {},
   "outputs": [
    {
     "name": "stdout",
     "output_type": "stream",
     "text": [
      "                  precision    recall  f1-score   support\n",
      "\n",
      "Not constructive       0.85      0.66      0.74       103\n",
      "    Constructive       0.74      0.89      0.81       110\n",
      "\n",
      "        accuracy                           0.78       213\n",
      "       macro avg       0.79      0.78      0.77       213\n",
      "    weighted avg       0.79      0.78      0.78       213\n",
      "\n"
     ]
    },
    {
     "data": {
      "text/plain": [
       "array([[68, 35],\n",
       "       [12, 98]])"
      ]
     },
     "execution_count": 122,
     "metadata": {},
     "output_type": "execute_result"
    }
   ],
   "source": [
    "learner.validate(class_names=t.get_classes())"
   ]
  },
  {
   "cell_type": "markdown",
   "metadata": {},
   "source": [
    "Loading a trained model"
   ]
  },
  {
   "cell_type": "code",
   "execution_count": null,
   "metadata": {},
   "outputs": [],
   "source": [
    "#predictor = ktrain.load_predictor(PATH_MODELS + model_name)"
   ]
  },
  {
   "cell_type": "markdown",
   "metadata": {},
   "source": [
    "## Prediction"
   ]
  },
  {
   "cell_type": "code",
   "execution_count": 30,
   "metadata": {},
   "outputs": [],
   "source": [
    "predictor = ktrain.get_predictor(learner.model, preproc=t)"
   ]
  },
  {
   "cell_type": "markdown",
   "metadata": {},
   "source": [
    "#### On the SFU OCC corpus (binary classification only)"
   ]
  },
  {
   "cell_type": "code",
   "execution_count": 34,
   "metadata": {},
   "outputs": [],
   "source": [
    "new_data = pd.read_csv(PATH_DATA + 'SOCC.csv')\n",
    "new_data = new_data.loc[:, ['comment_text', 'is_constructive']]\n",
    "new_data['is_constructive'] = new_data.loc[:, 'is_constructive'].map({'no': 'Not Constructive',\n",
    "                                                                      'yes': 'Constructive'})\n",
    "\n",
    "X_new, y_new = np.asarray(new_data['comment_text']), np.asarray(new_data['is_constructive'])"
   ]
  },
  {
   "cell_type": "code",
   "execution_count": 125,
   "metadata": {},
   "outputs": [
    {
     "data": {
      "text/html": [],
      "text/plain": [
       "<IPython.core.display.HTML object>"
      ]
     },
     "metadata": {},
     "output_type": "display_data"
    }
   ],
   "source": [
    "#predictor.predict(data, return_proba=True)\n",
    "y_pred = predictor.predict(X_test)"
   ]
  },
  {
   "cell_type": "code",
   "execution_count": null,
   "metadata": {},
   "outputs": [],
   "source": [
    "y_pred"
   ]
  },
  {
   "cell_type": "code",
   "execution_count": 128,
   "metadata": {},
   "outputs": [],
   "source": [
    "y_new_corr = ['Constructive' if x == 1 else 'Not constructive' for x in y_test]"
   ]
  },
  {
   "cell_type": "code",
   "execution_count": 137,
   "metadata": {},
   "outputs": [
    {
     "name": "stdout",
     "output_type": "stream",
     "text": [
      "Accuracy: 0.8107344632768362\n",
      "F1 Score: 0.808132023420109\n",
      "                  precision    recall  f1-score   support\n",
      "\n",
      "    Constructive       0.78      0.90      0.84       380\n",
      "Not constructive       0.86      0.70      0.78       328\n",
      "\n",
      "        accuracy                           0.81       708\n",
      "       macro avg       0.82      0.80      0.81       708\n",
      "    weighted avg       0.82      0.81      0.81       708\n",
      "\n"
     ]
    }
   ],
   "source": [
    "print(\"Accuracy:\", accuracy_score(y_new_corr, y_pred))\n",
    "print(\"F1 Score:\", f1_score(y_new_corr, y_pred, average='weighted'))\n",
    "report = classification_report(y_new_corr, y_pred, output_dict=True)\n",
    "print(classification_report(y_new_corr, y_pred))"
   ]
  },
  {
   "cell_type": "code",
   "execution_count": 130,
   "metadata": {},
   "outputs": [
    {
     "data": {
      "image/png": "[encoded data removed]",
      "text/plain": [
       "<Figure size 504x360 with 2 Axes>"
      ]
     },
     "metadata": {
      "needs_background": "light"
     },
     "output_type": "display_data"
    }
   ],
   "source": [
    "conf_mat = confusion_matrix(y_new_corr, y_pred)\n",
    "fig, ax = plt.subplots(figsize=(7, 5))\n",
    "sns.heatmap(conf_mat, cmap=\"YlGnBu\", annot=True, fmt='d')\n",
    "plt.ylabel('Actual')\n",
    "plt.xlabel('Predicted')\n",
    "\n",
    "ax.set_xticklabels(['Constructive', 'Not constructive'])\n",
    "\n",
    "plt.show()\n",
    "\n",
    "fig.savefig(PATH_IMAGES + \"Distilbert_1_epoch_SOCC.png\", dpi=300, quality=95, format='png', bbox_inches='tight')"
   ]
  },
  {
   "cell_type": "markdown",
   "metadata": {},
   "source": [
    "#### Saving the model"
   ]
  },
  {
   "cell_type": "code",
   "execution_count": 31,
   "metadata": {},
   "outputs": [],
   "source": [
    "predictor.save(PATH_MODELS + 'distilbert_1_epoch')"
   ]
  },
  {
   "cell_type": "markdown",
   "metadata": {},
   "source": [
    "Visualize the weight of words in classification (not workng on Colab)"
   ]
  },
  {
   "cell_type": "code",
   "execution_count": 63,
   "metadata": {
    "collapsed": true
   },
   "outputs": [
    {
     "name": "stdout",
     "output_type": "stream",
     "text": [
      "Collecting git+https://github.com/amaiya/eli5@tfkeras_0_10_1\n",
      "  Cloning https://github.com/amaiya/eli5 (to revision tfkeras_0_10_1) to /private/var/folders/l5/nffr1ly16_xb_5mt_4fng4zr0000gn/T/pip-req-build-ctaal_ab\n",
      "  Running command git clone -q https://github.com/amaiya/eli5 /private/var/folders/l5/nffr1ly16_xb_5mt_4fng4zr0000gn/T/pip-req-build-ctaal_ab\n",
      "  Running command git checkout -b tfkeras_0_10_1 --track origin/tfkeras_0_10_1\n",
      "  Switched to a new branch 'tfkeras_0_10_1'\n",
      "  Branch 'tfkeras_0_10_1' set up to track remote branch 'tfkeras_0_10_1' from 'origin'.\n",
      "Requirement already satisfied: attrs>16.0.0 in /Library/Frameworks/Python.framework/Versions/3.6/lib/python3.6/site-packages (from eli5==0.10.1) (19.3.0)\n",
      "Requirement already satisfied: jinja2 in /Library/Frameworks/Python.framework/Versions/3.6/lib/python3.6/site-packages (from eli5==0.10.1) (2.10.3)\n",
      "Requirement already satisfied: numpy>=1.9.0 in /Library/Frameworks/Python.framework/Versions/3.6/lib/python3.6/site-packages (from eli5==0.10.1) (1.18.0)\n",
      "Requirement already satisfied: scipy in /Library/Frameworks/Python.framework/Versions/3.6/lib/python3.6/site-packages (from eli5==0.10.1) (1.4.1)\n",
      "Requirement already satisfied: six in /Library/Frameworks/Python.framework/Versions/3.6/lib/python3.6/site-packages (from eli5==0.10.1) (1.13.0)\n",
      "Requirement already satisfied: scikit-learn>=0.18 in /Library/Frameworks/Python.framework/Versions/3.6/lib/python3.6/site-packages (from eli5==0.10.1) (0.22.1)\n",
      "Collecting graphviz\n",
      "  Using cached graphviz-0.13.2-py2.py3-none-any.whl (17 kB)\n",
      "Collecting tabulate>=0.7.7\n",
      "  Using cached tabulate-0.8.7-py3-none-any.whl (24 kB)\n",
      "Requirement already satisfied: MarkupSafe>=0.23 in /Library/Frameworks/Python.framework/Versions/3.6/lib/python3.6/site-packages (from jinja2->eli5==0.10.1) (1.1.1)\n",
      "Requirement already satisfied: joblib>=0.11 in /Library/Frameworks/Python.framework/Versions/3.6/lib/python3.6/site-packages (from scikit-learn>=0.18->eli5==0.10.1) (0.14.1)\n",
      "Building wheels for collected packages: eli5\n",
      "  Building wheel for eli5 (setup.py) ... \u001b[?25ldone\n",
      "\u001b[?25h  Created wheel for eli5: filename=eli5-0.10.1-py2.py3-none-any.whl size=106682 sha256=4b52f3dedc9c3e058d4a6b387980c74a9f3150d37c64259b1fedd7d1e965dcb4\n",
      "  Stored in directory: /private/var/folders/l5/nffr1ly16_xb_5mt_4fng4zr0000gn/T/pip-ephem-wheel-cache-kjhfgjfb/wheels/93/23/c2/479f99e6e981887ac70af72d4ff763471acf7184d1b80a9268\n",
      "Successfully built eli5\n",
      "Installing collected packages: graphviz, tabulate, eli5\n",
      "Successfully installed eli5-0.10.1 graphviz-0.13.2 tabulate-0.8.7\n",
      "\u001b[33mWARNING: You are using pip version 20.0.1; however, version 20.0.2 is available.\n",
      "You should consider upgrading via the '/Library/Frameworks/Python.framework/Versions/3.6/bin/python3.6 -m pip install --upgrade pip' command.\u001b[0m\n"
     ]
    }
   ],
   "source": [
    "#!pip install git+https://github.com/amaiya/eli5@tfkeras_0_10_1"
   ]
  },
  {
   "cell_type": "code",
   "execution_count": 64,
   "metadata": {},
   "outputs": [
    {
     "data": {
      "text/html": [],
      "text/plain": [
       "<IPython.core.display.HTML object>"
      ]
     },
     "metadata": {},
     "output_type": "display_data"
    },
    {
     "data": {
      "text/html": [],
      "text/plain": [
       "<IPython.core.display.HTML object>"
      ]
     },
     "metadata": {},
     "output_type": "display_data"
    },
    {
     "data": {
      "text/html": [
       "\n",
       "    <style>\n",
       "    table.eli5-weights tr:hover {\n",
       "        filter: brightness(85%);\n",
       "    }\n",
       "</style>\n",
       "\n",
       "\n",
       "\n",
       "    \n",
       "\n",
       "    \n",
       "\n",
       "    \n",
       "\n",
       "    \n",
       "\n",
       "    \n",
       "\n",
       "    \n",
       "\n",
       "\n",
       "    \n",
       "\n",
       "    \n",
       "\n",
       "    \n",
       "\n",
       "    \n",
       "        \n",
       "\n",
       "    \n",
       "\n",
       "        \n",
       "            \n",
       "                \n",
       "                \n",
       "    \n",
       "        <p style=\"margin-bottom: 0.5em; margin-top: 0em\">\n",
       "            <b>\n",
       "    \n",
       "        y=Not constructive\n",
       "    \n",
       "</b>\n",
       "\n",
       "    \n",
       "    (probability <b>0.957</b>, score <b>-3.091</b>)\n",
       "\n",
       "top features\n",
       "        </p>\n",
       "    \n",
       "    <table class=\"eli5-weights\"\n",
       "           style=\"border-collapse: collapse; border: none; margin-top: 0em; table-layout: auto; margin-bottom: 2em;\">\n",
       "        <thead>\n",
       "        <tr style=\"border: none;\">\n",
       "            \n",
       "                <th style=\"padding: 0 1em 0 0.5em; text-align: right; border: none;\" title=\"Feature contribution already accounts for the feature value (for linear models, contribution = weight * feature value), and the sum of feature contributions is equal to the score or, for some classifiers, to the probability. Feature values are shown if &quot;show_feature_values&quot; is True.\">\n",
       "                    Contribution<sup>?</sup>\n",
       "                </th>\n",
       "            \n",
       "            <th style=\"padding: 0 0.5em 0 0.5em; text-align: left; border: none;\">Feature</th>\n",
       "            \n",
       "        </tr>\n",
       "        </thead>\n",
       "        <tbody>\n",
       "        \n",
       "            <tr style=\"background-color: hsl(120, 100.00%, 80.00%); border: none;\">\n",
       "    <td style=\"padding: 0 1em 0 0.5em; text-align: right; border: none;\">\n",
       "        +1.046\n",
       "    </td>\n",
       "    <td style=\"padding: 0 0.5em 0 0.5em; text-align: left; border: none;\">\n",
       "        is\n",
       "    </td>\n",
       "    \n",
       "</tr>\n",
       "        \n",
       "            <tr style=\"background-color: hsl(120, 100.00%, 80.08%); border: none;\">\n",
       "    <td style=\"padding: 0 1em 0 0.5em; text-align: right; border: none;\">\n",
       "        +1.040\n",
       "    </td>\n",
       "    <td style=\"padding: 0 0.5em 0 0.5em; text-align: left; border: none;\">\n",
       "        very\n",
       "    </td>\n",
       "    \n",
       "</tr>\n",
       "        \n",
       "            <tr style=\"background-color: hsl(120, 100.00%, 80.17%); border: none;\">\n",
       "    <td style=\"padding: 0 1em 0 0.5em; text-align: right; border: none;\">\n",
       "        +1.033\n",
       "    </td>\n",
       "    <td style=\"padding: 0 0.5em 0 0.5em; text-align: left; border: none;\">\n",
       "        nice\n",
       "    </td>\n",
       "    \n",
       "</tr>\n",
       "        \n",
       "            <tr style=\"background-color: hsl(120, 100.00%, 80.68%); border: none;\">\n",
       "    <td style=\"padding: 0 1em 0 0.5em; text-align: right; border: none;\">\n",
       "        +0.996\n",
       "    </td>\n",
       "    <td style=\"padding: 0 0.5em 0 0.5em; text-align: left; border: none;\">\n",
       "        &lt;BIAS&gt;\n",
       "    </td>\n",
       "    \n",
       "</tr>\n",
       "        \n",
       "            <tr style=\"background-color: hsl(120, 100.00%, 81.20%); border: none;\">\n",
       "    <td style=\"padding: 0 1em 0 0.5em; text-align: right; border: none;\">\n",
       "        +0.957\n",
       "    </td>\n",
       "    <td style=\"padding: 0 0.5em 0 0.5em; text-align: left; border: none;\">\n",
       "        a\n",
       "    </td>\n",
       "    \n",
       "</tr>\n",
       "        \n",
       "            <tr style=\"background-color: hsl(120, 100.00%, 82.61%); border: none;\">\n",
       "    <td style=\"padding: 0 1em 0 0.5em; text-align: right; border: none;\">\n",
       "        +0.856\n",
       "    </td>\n",
       "    <td style=\"padding: 0 0.5em 0 0.5em; text-align: left; border: none;\">\n",
       "        dress\n",
       "    </td>\n",
       "    \n",
       "</tr>\n",
       "        \n",
       "            <tr style=\"background-color: hsl(120, 100.00%, 84.37%); border: none;\">\n",
       "    <td style=\"padding: 0 1em 0 0.5em; text-align: right; border: none;\">\n",
       "        +0.735\n",
       "    </td>\n",
       "    <td style=\"padding: 0 0.5em 0 0.5em; text-align: left; border: none;\">\n",
       "        this\n",
       "    </td>\n",
       "    \n",
       "</tr>\n",
       "        \n",
       "        \n",
       "\n",
       "        \n",
       "        \n",
       "            <tr style=\"background-color: hsl(0, 100.00%, 88.86%); border: none;\">\n",
       "    <td style=\"padding: 0 1em 0 0.5em; text-align: right; border: none;\">\n",
       "        -0.453\n",
       "    </td>\n",
       "    <td style=\"padding: 0 0.5em 0 0.5em; text-align: left; border: none;\">\n",
       "        is a\n",
       "    </td>\n",
       "    \n",
       "</tr>\n",
       "        \n",
       "            <tr style=\"background-color: hsl(0, 100.00%, 85.69%); border: none;\">\n",
       "    <td style=\"padding: 0 1em 0 0.5em; text-align: right; border: none;\">\n",
       "        -0.648\n",
       "    </td>\n",
       "    <td style=\"padding: 0 0.5em 0 0.5em; text-align: left; border: none;\">\n",
       "        a very\n",
       "    </td>\n",
       "    \n",
       "</tr>\n",
       "        \n",
       "            <tr style=\"background-color: hsl(0, 100.00%, 83.56%); border: none;\">\n",
       "    <td style=\"padding: 0 1em 0 0.5em; text-align: right; border: none;\">\n",
       "        -0.790\n",
       "    </td>\n",
       "    <td style=\"padding: 0 0.5em 0 0.5em; text-align: left; border: none;\">\n",
       "        this is\n",
       "    </td>\n",
       "    \n",
       "</tr>\n",
       "        \n",
       "            <tr style=\"background-color: hsl(0, 100.00%, 83.28%); border: none;\">\n",
       "    <td style=\"padding: 0 1em 0 0.5em; text-align: right; border: none;\">\n",
       "        -0.810\n",
       "    </td>\n",
       "    <td style=\"padding: 0 0.5em 0 0.5em; text-align: left; border: none;\">\n",
       "        nice dress\n",
       "    </td>\n",
       "    \n",
       "</tr>\n",
       "        \n",
       "            <tr style=\"background-color: hsl(0, 100.00%, 82.41%); border: none;\">\n",
       "    <td style=\"padding: 0 1em 0 0.5em; text-align: right; border: none;\">\n",
       "        -0.871\n",
       "    </td>\n",
       "    <td style=\"padding: 0 0.5em 0 0.5em; text-align: left; border: none;\">\n",
       "        very nice\n",
       "    </td>\n",
       "    \n",
       "</tr>\n",
       "        \n",
       "\n",
       "        </tbody>\n",
       "    </table>\n",
       "\n",
       "            \n",
       "        \n",
       "\n",
       "        \n",
       "\n",
       "\n",
       "\n",
       "    \n",
       "\n",
       "    \n",
       "\n",
       "    \n",
       "\n",
       "    \n",
       "\n",
       "\n",
       "    \n",
       "\n",
       "    \n",
       "\n",
       "    \n",
       "\n",
       "    \n",
       "\n",
       "    \n",
       "\n",
       "    \n",
       "\n",
       "\n",
       "    \n",
       "\n",
       "    \n",
       "\n",
       "    \n",
       "\n",
       "    \n",
       "\n",
       "    \n",
       "\n",
       "    \n",
       "\n",
       "\n",
       "\n"
      ],
      "text/plain": [
       "<IPython.core.display.HTML object>"
      ]
     },
     "execution_count": 64,
     "metadata": {},
     "output_type": "execute_result"
    }
   ],
   "source": [
    "predictor.explain(\"This is a very nice dress\")"
   ]
  }
 ],
 "metadata": {
  "kernelspec": {
   "display_name": "Python 3",
   "language": "python",
   "name": "python3"
  },
  "language_info": {
   "codemirror_mode": {
    "name": "ipython",
    "version": 3
   },
   "file_extension": ".py",
   "mimetype": "text/x-python",
   "name": "python",
   "nbconvert_exporter": "python",
   "pygments_lexer": "ipython3",
   "version": "3.6.4"
  }
 },
 "nbformat": 4,
 "nbformat_minor": 2
}
