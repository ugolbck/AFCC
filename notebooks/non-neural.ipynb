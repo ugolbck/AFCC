{
 "cells": [
  {
   "cell_type": "code",
   "execution_count": 1,
   "metadata": {},
   "outputs": [],
   "source": [
    "%matplotlib inline\n",
    "\n",
    "import pandas as pd\n",
    "import numpy as np\n",
    "import matplotlib.pyplot as plt\n",
    "import seaborn as sns\n",
    "import pickle\n",
    "\n",
    "import sys\n",
    "if not '..' in sys.path:\n",
    "    sys.path.append('..')\n",
    "from Pipeline.PPP import *\n",
    "\n",
    "from sklearn.compose import ColumnTransformer\n",
    "from sklearn.feature_extraction.text import TfidfVectorizer\n",
    "from sklearn.preprocessing import StandardScaler\n",
    "from sklearn.pipeline import Pipeline\n",
    "from sklearn.model_selection import GridSearchCV\n",
    "from sklearn.naive_bayes import MultinomialNB\n",
    "from sklearn.linear_model import LogisticRegression\n",
    "from sklearn.ensemble import RandomForestClassifier\n",
    "from sklearn.svm import LinearSVC\n",
    "from sklearn.metrics import confusion_matrix, classification_report, accuracy_score, f1_score"
   ]
  },
  {
   "cell_type": "markdown",
   "metadata": {},
   "source": [
    "#### Globals"
   ]
  },
  {
   "cell_type": "code",
   "execution_count": 2,
   "metadata": {},
   "outputs": [],
   "source": [
    "PATH_RAW = '../data/raw_data/'\n",
    "PATH_DATA = '../data/data/'\n",
    "PATH_MODELS = '../../models/'\n",
    "PATH_IMAGES = '../assets/images/'\n",
    "\n",
    "METHOD = 'multiclass'"
   ]
  },
  {
   "cell_type": "markdown",
   "metadata": {},
   "source": [
    "## Load data"
   ]
  },
  {
   "cell_type": "code",
   "execution_count": 12,
   "metadata": {},
   "outputs": [
    {
     "ename": "KeyboardInterrupt",
     "evalue": "",
     "output_type": "error",
     "traceback": [
      "\u001b[0;31m---------------------------------------------------------------------------\u001b[0m",
      "\u001b[0;31mKeyboardInterrupt\u001b[0m                         Traceback (most recent call last)",
      "\u001b[0;32m<ipython-input-12-586c78bc40c6>\u001b[0m in \u001b[0;36m<module>\u001b[0;34m\u001b[0m\n\u001b[1;32m      3\u001b[0m \u001b[0;34m\u001b[0m\u001b[0m\n\u001b[1;32m      4\u001b[0m \u001b[0mtrain\u001b[0m\u001b[0;34m,\u001b[0m \u001b[0mtest\u001b[0m \u001b[0;34m=\u001b[0m \u001b[0mfile_split\u001b[0m\u001b[0;34m(\u001b[0m\u001b[0mdata\u001b[0m\u001b[0;34m,\u001b[0m \u001b[0;36m0.2\u001b[0m\u001b[0;34m,\u001b[0m \u001b[0;34m'text_review'\u001b[0m\u001b[0;34m,\u001b[0m \u001b[0;34m'tag'\u001b[0m\u001b[0;34m)\u001b[0m\u001b[0;34m\u001b[0m\u001b[0m\n\u001b[0;32m----> 5\u001b[0;31m \u001b[0mtrain\u001b[0m\u001b[0;34m,\u001b[0m \u001b[0mval\u001b[0m \u001b[0;34m=\u001b[0m \u001b[0mpreprocess_train\u001b[0m\u001b[0;34m(\u001b[0m\u001b[0mtrain\u001b[0m\u001b[0;34m,\u001b[0m \u001b[0mtext_column\u001b[0m\u001b[0;34m=\u001b[0m\u001b[0;34m'text_review'\u001b[0m\u001b[0;34m,\u001b[0m \u001b[0mtag_column\u001b[0m\u001b[0;34m=\u001b[0m\u001b[0;34m'tag'\u001b[0m\u001b[0;34m,\u001b[0m \u001b[0mpattern\u001b[0m\u001b[0;34m=\u001b[0m\u001b[0;34m'abcd'\u001b[0m\u001b[0;34m)\u001b[0m\u001b[0;34m\u001b[0m\u001b[0m\n\u001b[0m\u001b[1;32m      6\u001b[0m \u001b[0mtest\u001b[0m \u001b[0;34m=\u001b[0m \u001b[0mpreprocess_test\u001b[0m\u001b[0;34m(\u001b[0m\u001b[0mtest\u001b[0m\u001b[0;34m,\u001b[0m \u001b[0mtext_column\u001b[0m\u001b[0;34m=\u001b[0m\u001b[0;34m'text_review'\u001b[0m\u001b[0;34m,\u001b[0m \u001b[0mtag_column\u001b[0m\u001b[0;34m=\u001b[0m\u001b[0;34m'tag'\u001b[0m\u001b[0;34m,\u001b[0m \u001b[0mpattern\u001b[0m\u001b[0;34m=\u001b[0m\u001b[0;34m'abcd'\u001b[0m\u001b[0;34m)\u001b[0m\u001b[0;34m\u001b[0m\u001b[0m\n\u001b[1;32m      7\u001b[0m \u001b[0;34m\u001b[0m\u001b[0m\n",
      "\u001b[0;32m~/Documents/MPLT/work/Thesis/AFCC/Pipeline/PPP.py\u001b[0m in \u001b[0;36mpreprocess_train\u001b[0;34m(data, text_column, tag_column, pattern, out_dir)\u001b[0m\n\u001b[1;32m     64\u001b[0m     \u001b[0m_html_url_cleaning\u001b[0m\u001b[0;34m(\u001b[0m\u001b[0mdata\u001b[0m\u001b[0;34m,\u001b[0m \u001b[0mtext_column\u001b[0m\u001b[0;34m)\u001b[0m\u001b[0;34m\u001b[0m\u001b[0m\n\u001b[1;32m     65\u001b[0m     \u001b[0m_flesch_ease\u001b[0m\u001b[0;34m(\u001b[0m\u001b[0mdata\u001b[0m\u001b[0;34m,\u001b[0m \u001b[0mtext_column\u001b[0m\u001b[0;34m)\u001b[0m\u001b[0;34m\u001b[0m\u001b[0m\n\u001b[0;32m---> 66\u001b[0;31m     \u001b[0m_sentiment\u001b[0m\u001b[0;34m(\u001b[0m\u001b[0mdata\u001b[0m\u001b[0;34m,\u001b[0m \u001b[0mtext_column\u001b[0m\u001b[0;34m,\u001b[0m \u001b[0manalyzer\u001b[0m\u001b[0;34m)\u001b[0m\u001b[0;34m\u001b[0m\u001b[0m\n\u001b[0m\u001b[1;32m     67\u001b[0m     \u001b[0m_tokenize\u001b[0m\u001b[0;34m(\u001b[0m\u001b[0mdata\u001b[0m\u001b[0;34m,\u001b[0m \u001b[0mtext_column\u001b[0m\u001b[0;34m)\u001b[0m\u001b[0;34m\u001b[0m\u001b[0m\n\u001b[1;32m     68\u001b[0m     \u001b[0m_to_lower\u001b[0m\u001b[0;34m(\u001b[0m\u001b[0mdata\u001b[0m\u001b[0;34m,\u001b[0m \u001b[0mtext_column\u001b[0m\u001b[0;34m)\u001b[0m\u001b[0;34m\u001b[0m\u001b[0m\n",
      "\u001b[0;32m~/Documents/MPLT/work/Thesis/AFCC/Pipeline/PPP.py\u001b[0m in \u001b[0;36m_sentiment\u001b[0;34m(data, text_column, anal)\u001b[0m\n\u001b[1;32m    201\u001b[0m \u001b[0;34m\u001b[0m\u001b[0m\n\u001b[1;32m    202\u001b[0m \u001b[0;32mdef\u001b[0m \u001b[0m_sentiment\u001b[0m\u001b[0;34m(\u001b[0m\u001b[0mdata\u001b[0m\u001b[0;34m,\u001b[0m \u001b[0mtext_column\u001b[0m\u001b[0;34m,\u001b[0m \u001b[0manal\u001b[0m\u001b[0;34m)\u001b[0m\u001b[0;34m:\u001b[0m\u001b[0;34m\u001b[0m\u001b[0m\n\u001b[0;32m--> 203\u001b[0;31m     \u001b[0mdata\u001b[0m\u001b[0;34m[\u001b[0m\u001b[0;34m'sentiment'\u001b[0m\u001b[0;34m]\u001b[0m \u001b[0;34m=\u001b[0m \u001b[0;34m[\u001b[0m\u001b[0manal\u001b[0m\u001b[0;34m.\u001b[0m\u001b[0mpolarity_scores\u001b[0m\u001b[0;34m(\u001b[0m\u001b[0mx\u001b[0m\u001b[0;34m)\u001b[0m\u001b[0;34m[\u001b[0m\u001b[0;34m'compound'\u001b[0m\u001b[0;34m]\u001b[0m \u001b[0;32mfor\u001b[0m \u001b[0mx\u001b[0m \u001b[0;32min\u001b[0m \u001b[0mdata\u001b[0m\u001b[0;34m[\u001b[0m\u001b[0mtext_column\u001b[0m\u001b[0;34m]\u001b[0m\u001b[0;34m]\u001b[0m\u001b[0;34m\u001b[0m\u001b[0m\n\u001b[0m\u001b[1;32m    204\u001b[0m \u001b[0;34m\u001b[0m\u001b[0m\n\u001b[1;32m    205\u001b[0m \u001b[0;32mdef\u001b[0m \u001b[0m_flesch_ease\u001b[0m\u001b[0;34m(\u001b[0m\u001b[0mdata\u001b[0m\u001b[0;34m,\u001b[0m \u001b[0mtext_column\u001b[0m\u001b[0;34m)\u001b[0m\u001b[0;34m:\u001b[0m\u001b[0;34m\u001b[0m\u001b[0m\n",
      "\u001b[0;32m~/Documents/MPLT/work/Thesis/AFCC/Pipeline/PPP.py\u001b[0m in \u001b[0;36m<listcomp>\u001b[0;34m(.0)\u001b[0m\n\u001b[1;32m    201\u001b[0m \u001b[0;34m\u001b[0m\u001b[0m\n\u001b[1;32m    202\u001b[0m \u001b[0;32mdef\u001b[0m \u001b[0m_sentiment\u001b[0m\u001b[0;34m(\u001b[0m\u001b[0mdata\u001b[0m\u001b[0;34m,\u001b[0m \u001b[0mtext_column\u001b[0m\u001b[0;34m,\u001b[0m \u001b[0manal\u001b[0m\u001b[0;34m)\u001b[0m\u001b[0;34m:\u001b[0m\u001b[0;34m\u001b[0m\u001b[0m\n\u001b[0;32m--> 203\u001b[0;31m     \u001b[0mdata\u001b[0m\u001b[0;34m[\u001b[0m\u001b[0;34m'sentiment'\u001b[0m\u001b[0;34m]\u001b[0m \u001b[0;34m=\u001b[0m \u001b[0;34m[\u001b[0m\u001b[0manal\u001b[0m\u001b[0;34m.\u001b[0m\u001b[0mpolarity_scores\u001b[0m\u001b[0;34m(\u001b[0m\u001b[0mx\u001b[0m\u001b[0;34m)\u001b[0m\u001b[0;34m[\u001b[0m\u001b[0;34m'compound'\u001b[0m\u001b[0;34m]\u001b[0m \u001b[0;32mfor\u001b[0m \u001b[0mx\u001b[0m \u001b[0;32min\u001b[0m \u001b[0mdata\u001b[0m\u001b[0;34m[\u001b[0m\u001b[0mtext_column\u001b[0m\u001b[0;34m]\u001b[0m\u001b[0;34m]\u001b[0m\u001b[0;34m\u001b[0m\u001b[0m\n\u001b[0m\u001b[1;32m    204\u001b[0m \u001b[0;34m\u001b[0m\u001b[0m\n\u001b[1;32m    205\u001b[0m \u001b[0;32mdef\u001b[0m \u001b[0m_flesch_ease\u001b[0m\u001b[0;34m(\u001b[0m\u001b[0mdata\u001b[0m\u001b[0;34m,\u001b[0m \u001b[0mtext_column\u001b[0m\u001b[0;34m)\u001b[0m\u001b[0;34m:\u001b[0m\u001b[0;34m\u001b[0m\u001b[0m\n",
      "\u001b[0;32m/Library/Frameworks/Python.framework/Versions/3.6/lib/python3.6/site-packages/vaderSentiment/vaderSentiment.py\u001b[0m in \u001b[0;36mpolarity_scores\u001b[0;34m(self, text)\u001b[0m\n\u001b[1;32m    267\u001b[0m                 \u001b[0;32mcontinue\u001b[0m\u001b[0;34m\u001b[0m\u001b[0m\n\u001b[1;32m    268\u001b[0m \u001b[0;34m\u001b[0m\u001b[0m\n\u001b[0;32m--> 269\u001b[0;31m             \u001b[0msentiments\u001b[0m \u001b[0;34m=\u001b[0m \u001b[0mself\u001b[0m\u001b[0;34m.\u001b[0m\u001b[0msentiment_valence\u001b[0m\u001b[0;34m(\u001b[0m\u001b[0mvalence\u001b[0m\u001b[0;34m,\u001b[0m \u001b[0msentitext\u001b[0m\u001b[0;34m,\u001b[0m \u001b[0mitem\u001b[0m\u001b[0;34m,\u001b[0m \u001b[0mi\u001b[0m\u001b[0;34m,\u001b[0m \u001b[0msentiments\u001b[0m\u001b[0;34m)\u001b[0m\u001b[0;34m\u001b[0m\u001b[0m\n\u001b[0m\u001b[1;32m    270\u001b[0m \u001b[0;34m\u001b[0m\u001b[0m\n\u001b[1;32m    271\u001b[0m         \u001b[0msentiments\u001b[0m \u001b[0;34m=\u001b[0m \u001b[0mself\u001b[0m\u001b[0;34m.\u001b[0m\u001b[0m_but_check\u001b[0m\u001b[0;34m(\u001b[0m\u001b[0mwords_and_emoticons\u001b[0m\u001b[0;34m,\u001b[0m \u001b[0msentiments\u001b[0m\u001b[0;34m)\u001b[0m\u001b[0;34m\u001b[0m\u001b[0m\n",
      "\u001b[0;32m/Library/Frameworks/Python.framework/Versions/3.6/lib/python3.6/site-packages/vaderSentiment/vaderSentiment.py\u001b[0m in \u001b[0;36msentiment_valence\u001b[0;34m(self, valence, sentitext, item, i, sentiments)\u001b[0m\n\u001b[1;32m    310\u001b[0m                         \u001b[0ms\u001b[0m \u001b[0;34m=\u001b[0m \u001b[0ms\u001b[0m \u001b[0;34m*\u001b[0m \u001b[0;36m0.9\u001b[0m\u001b[0;34m\u001b[0m\u001b[0m\n\u001b[1;32m    311\u001b[0m                     \u001b[0mvalence\u001b[0m \u001b[0;34m=\u001b[0m \u001b[0mvalence\u001b[0m \u001b[0;34m+\u001b[0m \u001b[0ms\u001b[0m\u001b[0;34m\u001b[0m\u001b[0m\n\u001b[0;32m--> 312\u001b[0;31m                     \u001b[0mvalence\u001b[0m \u001b[0;34m=\u001b[0m \u001b[0mself\u001b[0m\u001b[0;34m.\u001b[0m\u001b[0m_negation_check\u001b[0m\u001b[0;34m(\u001b[0m\u001b[0mvalence\u001b[0m\u001b[0;34m,\u001b[0m \u001b[0mwords_and_emoticons\u001b[0m\u001b[0;34m,\u001b[0m \u001b[0mstart_i\u001b[0m\u001b[0;34m,\u001b[0m \u001b[0mi\u001b[0m\u001b[0;34m)\u001b[0m\u001b[0;34m\u001b[0m\u001b[0m\n\u001b[0m\u001b[1;32m    313\u001b[0m                     \u001b[0;32mif\u001b[0m \u001b[0mstart_i\u001b[0m \u001b[0;34m==\u001b[0m \u001b[0;36m2\u001b[0m\u001b[0;34m:\u001b[0m\u001b[0;34m\u001b[0m\u001b[0m\n\u001b[1;32m    314\u001b[0m                         \u001b[0mvalence\u001b[0m \u001b[0;34m=\u001b[0m \u001b[0mself\u001b[0m\u001b[0;34m.\u001b[0m\u001b[0m_special_idioms_check\u001b[0m\u001b[0;34m(\u001b[0m\u001b[0mvalence\u001b[0m\u001b[0;34m,\u001b[0m \u001b[0mwords_and_emoticons\u001b[0m\u001b[0;34m,\u001b[0m \u001b[0mi\u001b[0m\u001b[0;34m)\u001b[0m\u001b[0;34m\u001b[0m\u001b[0m\n",
      "\u001b[0;32m/Library/Frameworks/Python.framework/Versions/3.6/lib/python3.6/site-packages/vaderSentiment/vaderSentiment.py\u001b[0m in \u001b[0;36m_negation_check\u001b[0;34m(valence, words_and_emoticons, start_i, i)\u001b[0m\n\u001b[1;32m    400\u001b[0m     \u001b[0;34m@\u001b[0m\u001b[0mstaticmethod\u001b[0m\u001b[0;34m\u001b[0m\u001b[0m\n\u001b[1;32m    401\u001b[0m     \u001b[0;32mdef\u001b[0m \u001b[0m_negation_check\u001b[0m\u001b[0;34m(\u001b[0m\u001b[0mvalence\u001b[0m\u001b[0;34m,\u001b[0m \u001b[0mwords_and_emoticons\u001b[0m\u001b[0;34m,\u001b[0m \u001b[0mstart_i\u001b[0m\u001b[0;34m,\u001b[0m \u001b[0mi\u001b[0m\u001b[0;34m)\u001b[0m\u001b[0;34m:\u001b[0m\u001b[0;34m\u001b[0m\u001b[0m\n\u001b[0;32m--> 402\u001b[0;31m         \u001b[0mwords_and_emoticons_lower\u001b[0m \u001b[0;34m=\u001b[0m \u001b[0;34m[\u001b[0m\u001b[0mstr\u001b[0m\u001b[0;34m(\u001b[0m\u001b[0mw\u001b[0m\u001b[0;34m)\u001b[0m\u001b[0;34m.\u001b[0m\u001b[0mlower\u001b[0m\u001b[0;34m(\u001b[0m\u001b[0;34m)\u001b[0m \u001b[0;32mfor\u001b[0m \u001b[0mw\u001b[0m \u001b[0;32min\u001b[0m \u001b[0mwords_and_emoticons\u001b[0m\u001b[0;34m]\u001b[0m\u001b[0;34m\u001b[0m\u001b[0m\n\u001b[0m\u001b[1;32m    403\u001b[0m         \u001b[0;32mif\u001b[0m \u001b[0mstart_i\u001b[0m \u001b[0;34m==\u001b[0m \u001b[0;36m0\u001b[0m\u001b[0;34m:\u001b[0m\u001b[0;34m\u001b[0m\u001b[0m\n\u001b[1;32m    404\u001b[0m             \u001b[0;32mif\u001b[0m \u001b[0mnegated\u001b[0m\u001b[0;34m(\u001b[0m\u001b[0;34m[\u001b[0m\u001b[0mwords_and_emoticons_lower\u001b[0m\u001b[0;34m[\u001b[0m\u001b[0mi\u001b[0m \u001b[0;34m-\u001b[0m \u001b[0;34m(\u001b[0m\u001b[0mstart_i\u001b[0m \u001b[0;34m+\u001b[0m \u001b[0;36m1\u001b[0m\u001b[0;34m)\u001b[0m\u001b[0;34m]\u001b[0m\u001b[0;34m]\u001b[0m\u001b[0;34m)\u001b[0m\u001b[0;34m:\u001b[0m  \u001b[0;31m# 1 word preceding lexicon word (w/o stopwords)\u001b[0m\u001b[0;34m\u001b[0m\u001b[0m\n",
      "\u001b[0;32m/Library/Frameworks/Python.framework/Versions/3.6/lib/python3.6/site-packages/vaderSentiment/vaderSentiment.py\u001b[0m in \u001b[0;36m<listcomp>\u001b[0;34m(.0)\u001b[0m\n\u001b[1;32m    400\u001b[0m     \u001b[0;34m@\u001b[0m\u001b[0mstaticmethod\u001b[0m\u001b[0;34m\u001b[0m\u001b[0m\n\u001b[1;32m    401\u001b[0m     \u001b[0;32mdef\u001b[0m \u001b[0m_negation_check\u001b[0m\u001b[0;34m(\u001b[0m\u001b[0mvalence\u001b[0m\u001b[0;34m,\u001b[0m \u001b[0mwords_and_emoticons\u001b[0m\u001b[0;34m,\u001b[0m \u001b[0mstart_i\u001b[0m\u001b[0;34m,\u001b[0m \u001b[0mi\u001b[0m\u001b[0;34m)\u001b[0m\u001b[0;34m:\u001b[0m\u001b[0;34m\u001b[0m\u001b[0m\n\u001b[0;32m--> 402\u001b[0;31m         \u001b[0mwords_and_emoticons_lower\u001b[0m \u001b[0;34m=\u001b[0m \u001b[0;34m[\u001b[0m\u001b[0mstr\u001b[0m\u001b[0;34m(\u001b[0m\u001b[0mw\u001b[0m\u001b[0;34m)\u001b[0m\u001b[0;34m.\u001b[0m\u001b[0mlower\u001b[0m\u001b[0;34m(\u001b[0m\u001b[0;34m)\u001b[0m \u001b[0;32mfor\u001b[0m \u001b[0mw\u001b[0m \u001b[0;32min\u001b[0m \u001b[0mwords_and_emoticons\u001b[0m\u001b[0;34m]\u001b[0m\u001b[0;34m\u001b[0m\u001b[0m\n\u001b[0m\u001b[1;32m    403\u001b[0m         \u001b[0;32mif\u001b[0m \u001b[0mstart_i\u001b[0m \u001b[0;34m==\u001b[0m \u001b[0;36m0\u001b[0m\u001b[0;34m:\u001b[0m\u001b[0;34m\u001b[0m\u001b[0m\n\u001b[1;32m    404\u001b[0m             \u001b[0;32mif\u001b[0m \u001b[0mnegated\u001b[0m\u001b[0;34m(\u001b[0m\u001b[0;34m[\u001b[0m\u001b[0mwords_and_emoticons_lower\u001b[0m\u001b[0;34m[\u001b[0m\u001b[0mi\u001b[0m \u001b[0;34m-\u001b[0m \u001b[0;34m(\u001b[0m\u001b[0mstart_i\u001b[0m \u001b[0;34m+\u001b[0m \u001b[0;36m1\u001b[0m\u001b[0;34m)\u001b[0m\u001b[0;34m]\u001b[0m\u001b[0;34m]\u001b[0m\u001b[0;34m)\u001b[0m\u001b[0;34m:\u001b[0m  \u001b[0;31m# 1 word preceding lexicon word (w/o stopwords)\u001b[0m\u001b[0;34m\u001b[0m\u001b[0m\n",
      "\u001b[0;31mKeyboardInterrupt\u001b[0m: "
     ]
    }
   ],
   "source": [
    "# Amazon\n",
    "data = pd.read_csv(PATH_RAW + \"2830_reviews.csv\")\n",
    "\n",
    "train, test = file_split(data, 0.2, 'text_review', 'tag')\n",
    "train, val = preprocess_train(train, text_column='text_review', tag_column='tag', pattern='abcd')\n",
    "test = preprocess_test(test, text_column='text_review', tag_column='tag', pattern='abcd')\n",
    "\n",
    "X_train, y_train, y_bin_train = train.drop(['tag', 'bin_tag'], axis=1), train['tag'].copy(), train['bin_tag'].copy()\n",
    "X_val, y_val, y_bin_val = val.drop(['tag', 'bin_tag'], axis=1), val['tag'].copy(), val['bin_tag'].copy()\n",
    "X_test, y_test, y_bin_test = test.drop(['tag', 'bin_tag'], axis=1), test['tag'].copy(), test['bin_tag'].copy()"
   ]
  },
  {
   "cell_type": "code",
   "execution_count": 11,
   "metadata": {},
   "outputs": [
    {
     "data": {
      "text/plain": [
       "text_review    ummm no a by-law will not help you when you li...\n",
       "read_score                                                 69.45\n",
       "sentiment                                                -0.5358\n",
       "num_tokens                                                    28\n",
       "num_char                                                      98\n",
       "text_pos       VB DT DT NN MD RB VB PRP WRB PRP VBP RP IN PRP...\n",
       "lemmas         ummm no a by-law will not help you when you li...\n",
       "Name: 245, dtype: object"
      ]
     },
     "execution_count": 11,
     "metadata": {},
     "output_type": "execute_result"
    }
   ],
   "source": [
    "X_test_socc.iloc[245, :]"
   ]
  },
  {
   "cell_type": "code",
   "execution_count": 3,
   "metadata": {},
   "outputs": [
    {
     "name": "stdout",
     "output_type": "stream",
     "text": [
      "                                        comment_text  is_constructive  \\\n",
      "0  while technology does march on sometimes it ta...                1   \n",
      "1  everyone is still missing the point of what th...                1   \n",
      "2      you have never used an apple product have you                0   \n",
      "3  you may be using a blackberry i am still using...                0   \n",
      "4  of course we all know unfortunately there is a...                0   \n",
      "\n",
      "   read_score  sentiment  num_tokens  num_char  \n",
      "0       76.35     0.2732         127       553  \n",
      "1       73.61     0.9169         238       950  \n",
      "2       71.82     0.0000           9        37  \n",
      "3       74.35     0.0000          12        48  \n",
      "4       74.69     0.3818          55       263  \n",
      "                                        comment_text  is_constructive  \\\n",
      "0  while technology does march on sometimes it ta...                1   \n",
      "1  everyone is still missing the point of what th...                1   \n",
      "2      you have never used an apple product have you                0   \n",
      "3  you may be using a blackberry i am still using...                0   \n",
      "4  of course we all know unfortunately there is a...                0   \n",
      "\n",
      "   read_score  sentiment  num_tokens  num_char  \\\n",
      "0       76.35     0.2732         127       553   \n",
      "1       73.61     0.9169         238       950   \n",
      "2       71.82     0.0000           9        37   \n",
      "3       74.35     0.0000          12        48   \n",
      "4       74.69     0.3818          55       263   \n",
      "\n",
      "                                            text_pos  \\\n",
      "0  IN NN VBZ VB IN RB PRP VBZ DT JJ RB NNS IN JJ ...   \n",
      "1  NN VBZ RB VBG DT NN IN WP DT NN NN VBZ PRP VBZ...   \n",
      "2                    PRP VBP RB VBN DT NN NN VBP PRP   \n",
      "3            PRP MD VB VBG DT NN FW VBP RB VBG DT NN   \n",
      "4  IN NN PRP DT VBP RB EX VBZ DT NN IN DT VBG NN ...   \n",
      "\n",
      "                                              lemmas  \n",
      "0  while technology do march on sometimes it take...  \n",
      "1  everyone be still miss the point of what the a...  \n",
      "2        you have never use a apple product have you  \n",
      "3  you may be use a blackberry i be still use a g...  \n",
      "4  of course we all know unfortunately there be a...  \n"
     ]
    }
   ],
   "source": [
    "# SOCC\n",
    "test_socc = pd.read_csv(PATH_RAW + \"socc.csv\")\n",
    "\n",
    "test_socc = preprocess_test(test_socc, text_column='comment_text', tag_column='is_constructive', pattern='yesno')\n",
    "test_socc = test_socc.rename(columns={'comment_text': 'text_review', 'is_constructive': 'bin_tag'})\n",
    "\n",
    "X_test_socc, y_bin_test_socc = test_socc.drop(['bin_tag'], axis=1), test_socc['bin_tag'].copy()"
   ]
  },
  {
   "cell_type": "code",
   "execution_count": 4,
   "metadata": {},
   "outputs": [
    {
     "name": "stdout",
     "output_type": "stream",
     "text": [
      "                                        comment_text  constructive_binary  \\\n",
      "0  and this conservative strategy has produced th...                  1.0   \n",
      "1  i commend harper for holding the debates outsi...                  1.0   \n",
      "2  what a joke rachel notley is this is what was ...                  1.0   \n",
      "3  do you need to write an essay to prove the poi...                  1.0   \n",
      "4  rob ford was no saint he should never have bec...                  1.0   \n",
      "\n",
      "   read_score  sentiment  num_tokens  num_char  \n",
      "0       67.79    -0.3400          62       284  \n",
      "1       64.85    -0.6901         127       536  \n",
      "2       51.68     0.8151         175       807  \n",
      "3       41.40    -0.8875          89       465  \n",
      "4       77.67    -0.9713         136       572  \n",
      "                                        comment_text  constructive_binary  \\\n",
      "0  and this conservative strategy has produced th...                  1.0   \n",
      "1  i commend harper for holding the debates outsi...                  1.0   \n",
      "2  what a joke rachel notley is this is what was ...                  1.0   \n",
      "3  do you need to write an essay to prove the poi...                  1.0   \n",
      "4  rob ford was no saint he should never have bec...                  1.0   \n",
      "\n",
      "   read_score  sentiment  num_tokens  num_char  \\\n",
      "0       67.79    -0.3400          62       284   \n",
      "1       64.85    -0.6901         127       536   \n",
      "2       51.68     0.8151         175       807   \n",
      "3       41.40    -0.8875          89       465   \n",
      "4       77.67    -0.9713         136       572   \n",
      "\n",
      "                                            text_pos  \\\n",
      "0  CC DT JJ NN VBZ VBN DT JJ CC JJ NNS IN DT NN W...   \n",
      "1  LS VBP NN IN VBG DT NNS IN IN DT JJ NN IN DT M...   \n",
      "2  WP DT NN NN NN VBZ DT VBZ WP VBD VBN IN DT NN ...   \n",
      "3  VB PRP VB TO VB DT NN TO VB DT NN RB VB IN DT ...   \n",
      "4  NN NN VBD DT NN PRP MD RB VB VBN NN '' NNS JJ ...   \n",
      "\n",
      "                                              lemmas  \n",
      "0  and this conservative strategy have produce th...  \n",
      "1  i commend harper for hold the debate outside o...  \n",
      "2  what a joke rachel notley be this be what be p...  \n",
      "3  do you need to write a essay to prove the poin...  \n",
      "4  rob ford be no saint he should never have beco...  \n"
     ]
    }
   ],
   "source": [
    "# C3 (extended version of SOCC)\n",
    "test_c3 = pd.read_csv(PATH_RAW + \"C3.csv\")\n",
    "\n",
    "test_c3 = preprocess_test(test_c3, text_column='comment_text', tag_column='constructive_binary', pattern=None)\n",
    "test_c3 = test_c3.rename(columns={'comment_text': 'text_review', 'constructive_binary': 'bin_tag'})\n",
    "\n",
    "X_test_c3, y_bin_test_c3 = test_c3.drop(['bin_tag'], axis=1), test_c3['bin_tag'].copy()"
   ]
  },
  {
   "cell_type": "code",
   "execution_count": 8,
   "metadata": {},
   "outputs": [
    {
     "data": {
      "text/plain": [
       "(12000, 22)"
      ]
     },
     "execution_count": 8,
     "metadata": {},
     "output_type": "execute_result"
    }
   ],
   "source": [
    "test_c3.shape"
   ]
  },
  {
   "cell_type": "code",
   "execution_count": 93,
   "metadata": {},
   "outputs": [],
   "source": [
    "# Lists of data sets for testing\n",
    "list_X_test = [X_test]\n",
    "list_y_test = [y_test]\n",
    "\n",
    "list_X_bin_test = [X_test, X_test_socc, X_]\n",
    "list_y_bin_test = [y_bin_test, y_bin_test_socc]"
   ]
  },
  {
   "cell_type": "markdown",
   "metadata": {},
   "source": [
    "## Model training"
   ]
  },
  {
   "cell_type": "markdown",
   "metadata": {},
   "source": [
    "We list the features to use in the Pipeline"
   ]
  },
  {
   "cell_type": "code",
   "execution_count": 94,
   "metadata": {},
   "outputs": [],
   "source": [
    "numeric_features = list(X_train[['read_score', 'sentiment', 'num_tokens', 'num_char']])\n",
    "text_features = list(X_train[['text_review', 'text_pos', 'lemmas']])"
   ]
  },
  {
   "cell_type": "markdown",
   "metadata": {},
   "source": [
    "Custom transformer to transform the data and create a feature space"
   ]
  },
  {
   "cell_type": "code",
   "execution_count": 95,
   "metadata": {},
   "outputs": [],
   "source": [
    "trans = ColumnTransformer(transformers=[\n",
    "            ('review', TfidfVectorizer(min_df=1, max_df=0.1, encoding='utf-8', ngram_range=(1,1)), 'text_review'),\n",
    "            ('pos', TfidfVectorizer(encoding='utf-8', ngram_range=(1,2)), 'text_pos'),\n",
    "            ('lemma', TfidfVectorizer(min_df=1, max_df=0.1, encoding='utf-8', ngram_range=(1,1)), 'lemmas'),\n",
    "            ('num_attr', StandardScaler(), numeric_features),\n",
    "            ])"
   ]
  },
  {
   "cell_type": "markdown",
   "metadata": {},
   "source": [
    "Pipeline to sequentially transform the data and fit an estimator"
   ]
  },
  {
   "cell_type": "code",
   "execution_count": 96,
   "metadata": {},
   "outputs": [],
   "source": [
    "pipeline = Pipeline([\n",
    "                       ('union', trans),\n",
    "                       ('clf', LogisticRegression(max_iter=500, random_state=42))\n",
    "])"
   ]
  },
  {
   "cell_type": "markdown",
   "metadata": {},
   "source": [
    "GridSearch with 5 fold cross-validation to find the best set of features"
   ]
  },
  {
   "cell_type": "code",
   "execution_count": 97,
   "metadata": {},
   "outputs": [],
   "source": [
    "param_grid = [\n",
    "              {\n",
    "                 'union__review__ngram_range': [(1,1), (1,2)],\n",
    "                 'union__pos__ngram_range': [(1,1), (1,2)],\n",
    "                 'union__lemma__ngram_range': [(1,1), (1,2)],\n",
    "                 'clf': [RandomForestClassifier(),],\n",
    "                 'clf__n_estimators': [ 150, 175],\n",
    "                 'clf__class_weight': ['balanced', None],\n",
    "               }\n",
    "            ,{\n",
    "                 'union__review__ngram_range': [(1,1), (1,2)],\n",
    "                 'union__pos__ngram_range': [(1,1), (1,2)],\n",
    "                 'union__lemma__ngram_range': [(1,1), (1,2)],\n",
    "                 'clf': [LogisticRegression(),],\n",
    "                 'clf__max_iter': [500, 1000],\n",
    "                 'clf__C': [0.5, 1.0],\n",
    "                 'clf__class_weight': ['balanced', None],\n",
    "              }\n",
    "]\n",
    "\n",
    "# Training with all possible configurations\n",
    "model = GridSearchCV(pipeline,\n",
    "                      param_grid=param_grid,\n",
    "                      scoring='accuracy',\n",
    "                      n_jobs=-1,\n",
    "                      cv=5,\n",
    "                      verbose=1)"
   ]
  },
  {
   "cell_type": "markdown",
   "metadata": {},
   "source": [
    "Model fitting..."
   ]
  },
  {
   "cell_type": "code",
   "execution_count": 98,
   "metadata": {},
   "outputs": [
    {
     "name": "stdout",
     "output_type": "stream",
     "text": [
      "Fitting 5 folds for each of 96 candidates, totalling 480 fits\n"
     ]
    },
    {
     "name": "stderr",
     "output_type": "stream",
     "text": [
      "[Parallel(n_jobs=-1)]: Using backend LokyBackend with 4 concurrent workers.\n",
      "[Parallel(n_jobs=-1)]: Done  42 tasks      | elapsed:  1.2min\n",
      "[Parallel(n_jobs=-1)]: Done 192 tasks      | elapsed:  5.8min\n",
      "[Parallel(n_jobs=-1)]: Done 442 tasks      | elapsed: 10.3min\n",
      "[Parallel(n_jobs=-1)]: Done 480 out of 480 | elapsed: 11.0min finished\n"
     ]
    }
   ],
   "source": [
    "if METHOD.lower() == 'binary':\n",
    "    model.fit(X_train, y_bin_train)\n",
    "elif METHOD.lower() == 'multiclass':\n",
    "    model.fit(X_train, y_train)\n",
    "else:\n",
    "    raise ValueError('You must choose \\'binary\\' or \\'multiclas\\'.')"
   ]
  },
  {
   "cell_type": "markdown",
   "metadata": {},
   "source": [
    "## Model validation"
   ]
  },
  {
   "cell_type": "markdown",
   "metadata": {},
   "source": [
    "Output of best parameter set and best accuracy average score"
   ]
  },
  {
   "cell_type": "code",
   "execution_count": 99,
   "metadata": {},
   "outputs": [
    {
     "name": "stdout",
     "output_type": "stream",
     "text": [
      "0.615392397745339\n",
      "{'clf': RandomForestClassifier(bootstrap=True, ccp_alpha=0.0, class_weight='balanced',\n",
      "                       criterion='gini', max_depth=None, max_features='auto',\n",
      "                       max_leaf_nodes=None, max_samples=None,\n",
      "                       min_impurity_decrease=0.0, min_impurity_split=None,\n",
      "                       min_samples_leaf=1, min_samples_split=2,\n",
      "                       min_weight_fraction_leaf=0.0, n_estimators=175,\n",
      "                       n_jobs=None, oob_score=False, random_state=None,\n",
      "                       verbose=0, warm_start=False), 'clf__class_weight': 'balanced', 'clf__n_estimators': 175, 'union__lemma__ngram_range': (1, 1), 'union__pos__ngram_range': (1, 1), 'union__review__ngram_range': (1, 1)}\n"
     ]
    }
   ],
   "source": [
    "print(model.best_score_)\n",
    "print(model.best_params_)"
   ]
  },
  {
   "cell_type": "code",
   "execution_count": 100,
   "metadata": {},
   "outputs": [
    {
     "name": "stdout",
     "output_type": "stream",
     "text": [
      "Accuracy: 0.6255506607929515\n",
      "F1 Score: 0.6198463797582742\n",
      "              precision    recall  f1-score   support\n",
      "\n",
      "           0       0.88      0.44      0.58        32\n",
      "           1       0.61      0.70      0.65        73\n",
      "           2       0.57      0.72      0.64        88\n",
      "           3       0.78      0.41      0.54        34\n",
      "\n",
      "    accuracy                           0.63       227\n",
      "   macro avg       0.71      0.57      0.60       227\n",
      "weighted avg       0.66      0.63      0.62       227\n",
      "\n"
     ]
    }
   ],
   "source": [
    "if METHOD.lower() == 'binary':\n",
    "    y_pred_val = model.predict(X_val)\n",
    "    print(\"Accuracy:\", accuracy_score(y_bin_val, y_pred_val))\n",
    "    print(\"F1 Score:\", f1_score(y_bin_val, y_pred_val, average='weighted'))\n",
    "    print(classification_report(y_bin_val, y_pred_val))\n",
    "elif METHOD.lower() == 'multiclass':\n",
    "    y_pred_val = model.predict(X_val)\n",
    "    print(\"Accuracy:\", accuracy_score(y_val, y_pred_val))\n",
    "    print(\"F1 Score:\", f1_score(y_val, y_pred_val, average='weighted'))\n",
    "    print(classification_report(y_val, y_pred_val))\n",
    "else:\n",
    "    raise ValueError('You must choose \\'binary\\' or \\'multiclas\\'.')"
   ]
  },
  {
   "cell_type": "markdown",
   "metadata": {},
   "source": [
    "Saving model"
   ]
  },
  {
   "cell_type": "code",
   "execution_count": 102,
   "metadata": {},
   "outputs": [],
   "source": [
    "#pickle.dump(model, open(PATH_MODELS+'v0-2_multiclass.sav', 'wb'))"
   ]
  },
  {
   "cell_type": "markdown",
   "metadata": {},
   "source": [
    "## Model testing (multiclass model)"
   ]
  },
  {
   "cell_type": "code",
   "execution_count": 123,
   "metadata": {},
   "outputs": [
    {
     "name": "stdout",
     "output_type": "stream",
     "text": [
      "Model 0\n",
      "Accuracy: 0.588339222614841\n",
      "F1 Score: 0.5654499165882059\n",
      "              precision    recall  f1-score   support\n",
      "\n",
      "           0       0.67      0.20      0.31        79\n",
      "           1       0.62      0.69      0.65       183\n",
      "           2       0.55      0.74      0.63       218\n",
      "           3       0.64      0.34      0.44        86\n",
      "\n",
      "    accuracy                           0.59       566\n",
      "   macro avg       0.62      0.49      0.51       566\n",
      "weighted avg       0.60      0.59      0.57       566\n",
      "\n"
     ]
    },
    {
     "data": {
      "image/png": "[encoded data removed]",
      "text/plain": [
       "<Figure size 432x360 with 2 Axes>"
      ]
     },
     "metadata": {
      "needs_background": "light"
     },
     "output_type": "display_data"
    },
    {
     "name": "stdout",
     "output_type": "stream",
     "text": [
      "=====================================================\n"
     ]
    }
   ],
   "source": [
    "for i, (X, y) in enumerate(zip(list_X_test, list_y_test)):\n",
    "    y_pred = model.predict(X)\n",
    "    print('Model {}'.format(i+1))\n",
    "    print(\"Accuracy:\", accuracy_score(y, y_pred))\n",
    "    print(\"F1 Score:\", f1_score(y, y_pred, average='weighted'))\n",
    "    print(classification_report(y, y_pred))\n",
    "    \n",
    "    conf_mat = confusion_matrix(y, y_pred)\n",
    "    fig, ax = plt.subplots(figsize=(6, 5))\n",
    "    sns.heatmap(conf_mat, cmap=\"YlGnBu\", annot=True, fmt='d')\n",
    "    plt.ylabel('Actual')\n",
    "    plt.xlabel('Predicted')\n",
    "    plt.show()\n",
    "    print(\"=\"*53)"
   ]
  },
  {
   "cell_type": "markdown",
   "metadata": {},
   "source": [
    "## Model testing (binary model)"
   ]
  },
  {
   "cell_type": "code",
   "execution_count": 125,
   "metadata": {},
   "outputs": [
    {
     "name": "stdout",
     "output_type": "stream",
     "text": [
      "Model 0\n",
      "Accuracy: 0.127208480565371\n",
      "F1 Score: 0.1793889719956586\n",
      "              precision    recall  f1-score   support\n",
      "\n",
      "           0       1.00      0.09      0.17       262\n",
      "           1       0.24      0.16      0.19       304\n",
      "           2       0.00      0.00      0.00         0\n",
      "           3       0.00      0.00      0.00         0\n",
      "\n",
      "    accuracy                           0.13       566\n",
      "   macro avg       0.31      0.06      0.09       566\n",
      "weighted avg       0.59      0.13      0.18       566\n",
      "\n"
     ]
    },
    {
     "name": "stderr",
     "output_type": "stream",
     "text": [
      "/Library/Frameworks/Python.framework/Versions/3.6/lib/python3.6/site-packages/sklearn/metrics/_classification.py:1272: UndefinedMetricWarning: Recall and F-score are ill-defined and being set to 0.0 in labels with no true samples. Use `zero_division` parameter to control this behavior.\n",
      "  _warn_prf(average, modifier, msg_start, len(result))\n"
     ]
    },
    {
     "data": {
      "image/png": "[encoded data removed]",
      "text/plain": [
       "<Figure size 432x360 with 2 Axes>"
      ]
     },
     "metadata": {
      "needs_background": "light"
     },
     "output_type": "display_data"
    },
    {
     "name": "stdout",
     "output_type": "stream",
     "text": [
      "=====================================================\n",
      "Model 1\n",
      "Accuracy: 0.087248322147651\n",
      "F1 Score: 0.11163732300790151\n",
      "              precision    recall  f1-score   support\n",
      "\n",
      "           0       1.00      0.03      0.07       489\n",
      "           1       0.17      0.13      0.15       554\n",
      "           2       0.00      0.00      0.00         0\n",
      "           3       0.00      0.00      0.00         0\n",
      "\n",
      "    accuracy                           0.09      1043\n",
      "   macro avg       0.29      0.04      0.05      1043\n",
      "weighted avg       0.56      0.09      0.11      1043\n",
      "\n"
     ]
    },
    {
     "name": "stderr",
     "output_type": "stream",
     "text": [
      "/Library/Frameworks/Python.framework/Versions/3.6/lib/python3.6/site-packages/sklearn/metrics/_classification.py:1272: UndefinedMetricWarning: Recall and F-score are ill-defined and being set to 0.0 in labels with no true samples. Use `zero_division` parameter to control this behavior.\n",
      "  _warn_prf(average, modifier, msg_start, len(result))\n"
     ]
    },
    {
     "data": {
      "image/png": "[encoded data removed]",
      "text/plain": [
       "<Figure size 432x360 with 2 Axes>"
      ]
     },
     "metadata": {
      "needs_background": "light"
     },
     "output_type": "display_data"
    },
    {
     "name": "stdout",
     "output_type": "stream",
     "text": [
      "=====================================================\n"
     ]
    }
   ],
   "source": [
    "for i, (X, y) in enumerate(zip(list_X_bin_test, list_y_bin_test)):\n",
    "    y_pred = model.predict(X)\n",
    "    print('Model {}'.format(i+1))\n",
    "    print(\"Accuracy:\", accuracy_score(y, y_pred))\n",
    "    print(\"F1 Score:\", f1_score(y, y_pred, average='weighted'))\n",
    "    print(classification_report(y, y_pred))\n",
    "    \n",
    "    conf_mat = confusion_matrix(y, y_pred)\n",
    "    fig, ax = plt.subplots(figsize=(6, 5))\n",
    "    sns.heatmap(conf_mat, cmap=\"YlGnBu\", annot=True, fmt='d')\n",
    "    plt.ylabel('Actual')\n",
    "    plt.xlabel('Predicted')\n",
    "    plt.show()\n",
    "    print(\"=\"*53)"
   ]
  }
 ],
 "metadata": {
  "kernelspec": {
   "display_name": "Python 3",
   "language": "python",
   "name": "python3"
  },
  "language_info": {
   "codemirror_mode": {
    "name": "ipython",
    "version": 3
   },
   "file_extension": ".py",
   "mimetype": "text/x-python",
   "name": "python",
   "nbconvert_exporter": "python",
   "pygments_lexer": "ipython3",
   "version": "3.6.4"
  }
 },
 "nbformat": 4,
 "nbformat_minor": 2
}
