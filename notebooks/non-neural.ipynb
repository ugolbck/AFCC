{
 "cells": [
  {
   "cell_type": "code",
   "execution_count": 1,
   "metadata": {},
   "outputs": [],
   "source": [
    "%matplotlib inline\n",
    "\n",
    "import pandas as pd\n",
    "import numpy as np\n",
    "import matplotlib.pyplot as plt\n",
    "import seaborn as sns\n",
    "import pickle\n",
    "\n",
    "import sys\n",
    "if not '..' in sys.path:\n",
    "    sys.path.append('..')\n",
    "from Pipeline.PPP import *\n",
    "\n",
    "from sklearn.compose import ColumnTransformer\n",
    "from sklearn.feature_extraction.text import TfidfVectorizer\n",
    "from sklearn.preprocessing import StandardScaler\n",
    "from sklearn.pipeline import Pipeline\n",
    "from sklearn.model_selection import GridSearchCV\n",
    "from sklearn.naive_bayes import MultinomialNB\n",
    "from sklearn.linear_model import LogisticRegression\n",
    "from sklearn.ensemble import RandomForestClassifier\n",
    "from sklearn.svm import LinearSVC\n",
    "from sklearn.metrics import confusion_matrix, classification_report, accuracy_score, f1_score"
   ]
  },
  {
   "cell_type": "markdown",
   "metadata": {},
   "source": [
    "#### Globals"
   ]
  },
  {
   "cell_type": "code",
   "execution_count": 2,
   "metadata": {},
   "outputs": [],
   "source": [
    "PATH_RAW = '../data/raw_data/'\n",
    "PATH_DATA = '../data/data/'\n",
    "PATH_MODELS = '../../models/'\n",
    "PATH_IMAGES = '../assets/images/'\n",
    "\n",
    "METHOD = 'multiclass'"
   ]
  },
  {
   "cell_type": "markdown",
   "metadata": {},
   "source": [
    "## Load data"
   ]
  },
  {
   "cell_type": "code",
   "execution_count": 3,
   "metadata": {},
   "outputs": [
    {
     "name": "stdout",
     "output_type": "stream",
     "text": [
      "Splitting files...\n",
      "Splitting finished.\n",
      "Preprocessing of the training data...\n",
      "Preprocessing finished in 25.073704957962036 seconds.\n",
      "Preprocessing of the test data...\n",
      "Preprocessing finished in 6.366779088973999 seconds.\n"
     ]
    }
   ],
   "source": [
    "# Amazon\n",
    "data = pd.read_csv(PATH_RAW + \"2830_reviews.csv\")\n",
    "\n",
    "train, test = file_split(data, 0.2, 'text_review', 'tag')\n",
    "train, val = preprocess_train(train, text_column='text_review', tag_column='tag', pattern='abcd')\n",
    "test = preprocess_test(test, text_column='text_review', tag_column='tag', pattern='abcd')\n",
    "\n",
    "X_train, y_train, y_bin_train = train.drop(['tag', 'bin_tag'], axis=1), train['tag'].copy(), train['bin_tag'].copy()\n",
    "X_val, y_val, y_bin_val = val.drop(['tag', 'bin_tag'], axis=1), val['tag'].copy(), val['bin_tag'].copy()\n",
    "X_test, y_test, y_bin_test = test.drop(['tag', 'bin_tag'], axis=1), test['tag'].copy(), test['bin_tag'].copy()"
   ]
  },
  {
   "cell_type": "code",
   "execution_count": 4,
   "metadata": {},
   "outputs": [
    {
     "name": "stdout",
     "output_type": "stream",
     "text": [
      "<class 'pandas.core.frame.DataFrame'>\n",
      "RangeIndex: 2036 entries, 0 to 2035\n",
      "Data columns (total 9 columns):\n",
      " #   Column         Non-Null Count  Dtype  \n",
      "---  ------         --------------  -----  \n",
      " 0   text_review    2036 non-null   object \n",
      " 1   read_score     2036 non-null   float64\n",
      " 2   sentiment      2036 non-null   float64\n",
      " 3   num_upper      2036 non-null   int64  \n",
      " 4   num_discourse  2036 non-null   int64  \n",
      " 5   num_tokens     2036 non-null   int64  \n",
      " 6   num_char       2036 non-null   int64  \n",
      " 7   text_pos       2036 non-null   object \n",
      " 8   lemmas         2036 non-null   object \n",
      "dtypes: float64(2), int64(4), object(3)\n",
      "memory usage: 143.3+ KB\n"
     ]
    }
   ],
   "source": [
    "X_train.info()"
   ]
  },
  {
   "cell_type": "code",
   "execution_count": 4,
   "metadata": {},
   "outputs": [],
   "source": [
    "# SOCC\n",
    "test_socc = pd.read_csv(PATH_RAW + \"socc.csv\")\n",
    "\n",
    "test_socc = preprocess_test(test_socc, text_column='comment_text', tag_column='is_constructive', pattern='yesno')\n",
    "test_socc = test_socc.rename(columns={'comment_text': 'text_review', 'is_constructive': 'bin_tag'})\n",
    "\n",
    "X_test_socc, y_bin_test_socc = test_socc.drop(['bin_tag'], axis=1), test_socc['bin_tag'].copy()"
   ]
  },
  {
   "cell_type": "code",
   "execution_count": 5,
   "metadata": {},
   "outputs": [],
   "source": [
    "# C3 (extended version of SOCC)\n",
    "test_c3 = pd.read_csv(PATH_RAW + \"C3.csv\")\n",
    "\n",
    "test_c3 = preprocess_test(test_c3, text_column='comment_text', tag_column='constructive_binary', pattern=None)\n",
    "test_c3 = test_c3.rename(columns={'comment_text': 'text_review', 'constructive_binary': 'bin_tag'})\n",
    "\n",
    "X_test_c3, y_bin_test_c3 = test_c3.drop(['bin_tag'], axis=1), test_c3['bin_tag'].copy()"
   ]
  },
  {
   "cell_type": "code",
   "execution_count": 6,
   "metadata": {},
   "outputs": [],
   "source": [
    "# Lists of data sets for testing\n",
    "list_X_test = [X_test]\n",
    "list_y_test = [y_test]\n",
    "\n",
    "list_X_bin_test = [X_test, X_test_socc, X_test_c3]\n",
    "list_y_bin_test = [y_bin_test, y_bin_test_socc, y_bin_test_c3]"
   ]
  },
  {
   "cell_type": "markdown",
   "metadata": {},
   "source": [
    "## Model training"
   ]
  },
  {
   "cell_type": "markdown",
   "metadata": {},
   "source": [
    "We list the features to use in the Pipeline"
   ]
  },
  {
   "cell_type": "code",
   "execution_count": 7,
   "metadata": {},
   "outputs": [],
   "source": [
    "numeric_features = list(X_train[['read_score', 'sentiment', 'num_tokens', 'num_char']])\n",
    "text_features = list(X_train[['text_review', 'text_pos', 'lemmas']])"
   ]
  },
  {
   "cell_type": "markdown",
   "metadata": {},
   "source": [
    "Custom transformer to transform the data and create a feature space"
   ]
  },
  {
   "cell_type": "code",
   "execution_count": 8,
   "metadata": {},
   "outputs": [],
   "source": [
    "trans = ColumnTransformer(transformers=[\n",
    "            ('review', TfidfVectorizer(min_df=1, max_df=0.1, encoding='utf-8', ngram_range=(1,1)), 'text_review'),\n",
    "            ('pos', TfidfVectorizer(encoding='utf-8', ngram_range=(1,2)), 'text_pos'),\n",
    "            ('lemma', TfidfVectorizer(min_df=1, max_df=0.1, encoding='utf-8', ngram_range=(1,1)), 'lemmas'),\n",
    "            ('num_attr', StandardScaler(), numeric_features),\n",
    "            ])"
   ]
  },
  {
   "cell_type": "markdown",
   "metadata": {},
   "source": [
    "Pipeline to sequentially transform the data and fit an estimator"
   ]
  },
  {
   "cell_type": "code",
   "execution_count": 9,
   "metadata": {},
   "outputs": [],
   "source": [
    "pipeline = Pipeline([\n",
    "                       ('union', trans),\n",
    "                       ('clf', LogisticRegression(max_iter=500, random_state=42))\n",
    "])"
   ]
  },
  {
   "cell_type": "markdown",
   "metadata": {},
   "source": [
    "GridSearch with 5 fold cross-validation to find the best set of features"
   ]
  },
  {
   "cell_type": "code",
   "execution_count": 10,
   "metadata": {},
   "outputs": [],
   "source": [
    "param_grid = [\n",
    "              {\n",
    "                 'union__review__ngram_range': [(1,1), (1,2)],\n",
    "                 #'union__pos__ngram_range': [(1,1), (1,2)],\n",
    "                 'union__lemma__ngram_range': [(1,1), (1,2)],\n",
    "                 'clf': [RandomForestClassifier(),],\n",
    "                 'clf__n_estimators': [ 150, 175],\n",
    "                 'clf__class_weight': ['balanced', None],\n",
    "               }\n",
    "            ,{\n",
    "                 'union__review__ngram_range': [(1,1), (1,2)],\n",
    "                 #'union__pos__ngram_range': [(1,1), (1,2)],\n",
    "                 'union__lemma__ngram_range': [(1,1), (1,2)],\n",
    "                 'clf': [LogisticRegression(),],\n",
    "                 'clf__max_iter': [500, 1000],\n",
    "                 'clf__C': [0.5, 1.0],\n",
    "                 'clf__class_weight': ['balanced', None],\n",
    "              }\n",
    "]\n",
    "\n",
    "# Training with all possible configurations\n",
    "model = GridSearchCV(pipeline,\n",
    "                      param_grid=param_grid,\n",
    "                      scoring='accuracy',\n",
    "                      n_jobs=-1,\n",
    "                      cv=5,\n",
    "                      verbose=1)"
   ]
  },
  {
   "cell_type": "markdown",
   "metadata": {},
   "source": [
    "Model fitting..."
   ]
  },
  {
   "cell_type": "code",
   "execution_count": 18,
   "metadata": {},
   "outputs": [
    {
     "name": "stdout",
     "output_type": "stream",
     "text": [
      "Fitting 5 folds for each of 48 candidates, totalling 240 fits\n"
     ]
    },
    {
     "name": "stderr",
     "output_type": "stream",
     "text": [
      "[Parallel(n_jobs=-1)]: Using backend LokyBackend with 4 concurrent workers.\n",
      "[Parallel(n_jobs=-1)]: Done  42 tasks      | elapsed:  1.8min\n",
      "[Parallel(n_jobs=-1)]: Done 192 tasks      | elapsed:  6.3min\n",
      "[Parallel(n_jobs=-1)]: Done 240 out of 240 | elapsed:  7.8min finished\n"
     ]
    }
   ],
   "source": [
    "if METHOD.lower() == 'binary':\n",
    "    model.fit(X_train, y_bin_train)\n",
    "elif METHOD.lower() == 'multiclass':\n",
    "    model.fit(X_train, y_train)\n",
    "else:\n",
    "    raise ValueError('You must choose \\'binary\\' or \\'multiclas\\'.')"
   ]
  },
  {
   "cell_type": "markdown",
   "metadata": {},
   "source": [
    "## Model validation"
   ]
  },
  {
   "cell_type": "markdown",
   "metadata": {},
   "source": [
    "Output of best parameter set and best accuracy average score"
   ]
  },
  {
   "cell_type": "code",
   "execution_count": 19,
   "metadata": {},
   "outputs": [
    {
     "name": "stdout",
     "output_type": "stream",
     "text": [
      "0.621817940935588\n",
      "{'clf': RandomForestClassifier(bootstrap=True, ccp_alpha=0.0, class_weight=None,\n",
      "                       criterion='gini', max_depth=None, max_features='auto',\n",
      "                       max_leaf_nodes=None, max_samples=None,\n",
      "                       min_impurity_decrease=0.0, min_impurity_split=None,\n",
      "                       min_samples_leaf=1, min_samples_split=2,\n",
      "                       min_weight_fraction_leaf=0.0, n_estimators=175,\n",
      "                       n_jobs=None, oob_score=False, random_state=None,\n",
      "                       verbose=0, warm_start=False), 'clf__class_weight': None, 'clf__n_estimators': 175, 'union__lemma__ngram_range': (1, 1), 'union__review__ngram_range': (1, 1)}\n"
     ]
    }
   ],
   "source": [
    "print(model.best_score_)\n",
    "print(model.best_params_)"
   ]
  },
  {
   "cell_type": "code",
   "execution_count": 20,
   "metadata": {},
   "outputs": [
    {
     "name": "stdout",
     "output_type": "stream",
     "text": [
      "Accuracy: 0.6299559471365639\n",
      "F1 Score: 0.6167297088533967\n",
      "              precision    recall  f1-score   support\n",
      "\n",
      "           0       1.00      0.31      0.48        32\n",
      "           1       0.64      0.62      0.63        73\n",
      "           2       0.59      0.82      0.68        88\n",
      "           3       0.67      0.47      0.55        34\n",
      "\n",
      "    accuracy                           0.63       227\n",
      "   macro avg       0.72      0.55      0.58       227\n",
      "weighted avg       0.67      0.63      0.62       227\n",
      "\n"
     ]
    }
   ],
   "source": [
    "if METHOD.lower() == 'binary':\n",
    "    y_pred_val = model.predict(X_val)\n",
    "    print(\"Accuracy:\", accuracy_score(y_bin_val, y_pred_val))\n",
    "    print(\"F1 Score:\", f1_score(y_bin_val, y_pred_val, average='weighted'))\n",
    "    print(classification_report(y_bin_val, y_pred_val))\n",
    "elif METHOD.lower() == 'multiclass':\n",
    "    y_pred_val = model.predict(X_val)\n",
    "    print(\"Accuracy:\", accuracy_score(y_val, y_pred_val))\n",
    "    print(\"F1 Score:\", f1_score(y_val, y_pred_val, average='weighted'))\n",
    "    print(classification_report(y_val, y_pred_val))\n",
    "else:\n",
    "    raise ValueError('You must choose \\'binary\\' or \\'multiclas\\'.')"
   ]
  },
  {
   "cell_type": "markdown",
   "metadata": {},
   "source": [
    "Saving model"
   ]
  },
  {
   "cell_type": "code",
   "execution_count": 21,
   "metadata": {},
   "outputs": [],
   "source": [
    "#pickle.dump(model, open(PATH_MODELS+'v0-2_multiclass.sav', 'wb'))"
   ]
  },
  {
   "cell_type": "markdown",
   "metadata": {},
   "source": [
    "## Model testing (multiclass model)"
   ]
  },
  {
   "cell_type": "code",
   "execution_count": 22,
   "metadata": {},
   "outputs": [
    {
     "name": "stdout",
     "output_type": "stream",
     "text": [
      "Model 1\n",
      "Accuracy: 0.588339222614841\n",
      "F1 Score: 0.5744761883563154\n",
      "              precision    recall  f1-score   support\n",
      "\n",
      "           0       0.87      0.33      0.48        79\n",
      "           1       0.63      0.51      0.56       183\n",
      "           2       0.53      0.82      0.64       218\n",
      "           3       0.70      0.41      0.51        86\n",
      "\n",
      "    accuracy                           0.59       566\n",
      "   macro avg       0.68      0.52      0.55       566\n",
      "weighted avg       0.63      0.59      0.57       566\n",
      "\n"
     ]
    },
    {
     "data": {
      "image/png": "[encoded data removed]",
      "text/plain": [
       "<Figure size 432x360 with 2 Axes>"
      ]
     },
     "metadata": {
      "needs_background": "light"
     },
     "output_type": "display_data"
    },
    {
     "name": "stdout",
     "output_type": "stream",
     "text": [
      "=====================================================\n"
     ]
    }
   ],
   "source": [
    "for i, (X, y) in enumerate(zip(list_X_test, list_y_test)):\n",
    "    y_pred = model.predict(X)\n",
    "    print('Model {}'.format(i+1))\n",
    "    print(\"Accuracy:\", accuracy_score(y, y_pred))\n",
    "    print(\"F1 Score:\", f1_score(y, y_pred, average='weighted'))\n",
    "    print(classification_report(y, y_pred))\n",
    "    \n",
    "    conf_mat = confusion_matrix(y, y_pred)\n",
    "    fig, ax = plt.subplots(figsize=(6, 5))\n",
    "    sns.heatmap(conf_mat, cmap=\"YlGnBu\", annot=True, fmt='d')\n",
    "    plt.ylabel('Actual')\n",
    "    plt.xlabel('Predicted')\n",
    "    plt.show()\n",
    "    print(\"=\"*53)"
   ]
  },
  {
   "cell_type": "markdown",
   "metadata": {},
   "source": [
    "## Model testing (binary model)"
   ]
  },
  {
   "cell_type": "code",
   "execution_count": 16,
   "metadata": {},
   "outputs": [
    {
     "name": "stdout",
     "output_type": "stream",
     "text": [
      "Model 1\n",
      "Accuracy: 0.7897526501766784\n",
      "F1 Score: 0.789663487034458\n",
      "              precision    recall  f1-score   support\n",
      "\n",
      "           0       0.78      0.77      0.77       262\n",
      "           1       0.80      0.81      0.81       304\n",
      "\n",
      "    accuracy                           0.79       566\n",
      "   macro avg       0.79      0.79      0.79       566\n",
      "weighted avg       0.79      0.79      0.79       566\n",
      "\n"
     ]
    },
    {
     "data": {
      "image/png": "[encoded data removed]",
      "text/plain": [
       "<Figure size 432x360 with 2 Axes>"
      ]
     },
     "metadata": {
      "needs_background": "light"
     },
     "output_type": "display_data"
    },
    {
     "name": "stdout",
     "output_type": "stream",
     "text": [
      "=====================================================\n",
      "Model 2\n",
      "Accuracy: 0.7190795781399808\n",
      "F1 Score: 0.7120779209935939\n",
      "              precision    recall  f1-score   support\n",
      "\n",
      "           0       0.64      0.90      0.75       489\n",
      "           1       0.87      0.56      0.68       554\n",
      "\n",
      "    accuracy                           0.72      1043\n",
      "   macro avg       0.76      0.73      0.71      1043\n",
      "weighted avg       0.76      0.72      0.71      1043\n",
      "\n"
     ]
    },
    {
     "data": {
      "image/png": "[encoded data removed]",
      "text/plain": [
       "<Figure size 432x360 with 2 Axes>"
      ]
     },
     "metadata": {
      "needs_background": "light"
     },
     "output_type": "display_data"
    },
    {
     "name": "stdout",
     "output_type": "stream",
     "text": [
      "=====================================================\n",
      "Model 3\n",
      "Accuracy: 0.7545833333333334\n",
      "F1 Score: 0.7526378661528698\n",
      "              precision    recall  f1-score   support\n",
      "\n",
      "         0.0       0.68      0.89      0.77      5484\n",
      "         1.0       0.87      0.64      0.74      6516\n",
      "\n",
      "    accuracy                           0.75     12000\n",
      "   macro avg       0.77      0.77      0.75     12000\n",
      "weighted avg       0.78      0.75      0.75     12000\n",
      "\n"
     ]
    },
    {
     "data": {
      "image/png": "[encoded data removed]",
      "text/plain": [
       "<Figure size 432x360 with 2 Axes>"
      ]
     },
     "metadata": {
      "needs_background": "light"
     },
     "output_type": "display_data"
    },
    {
     "name": "stdout",
     "output_type": "stream",
     "text": [
      "=====================================================\n"
     ]
    }
   ],
   "source": [
    "for i, (X, y) in enumerate(zip(list_X_bin_test, list_y_bin_test)):\n",
    "    y_pred = model.predict(X)\n",
    "    print('Model {}'.format(i+1))\n",
    "    print(\"Accuracy:\", accuracy_score(y, y_pred))\n",
    "    print(\"F1 Score:\", f1_score(y, y_pred, average='weighted'))\n",
    "    print(classification_report(y, y_pred))\n",
    "    \n",
    "    conf_mat = confusion_matrix(y, y_pred)\n",
    "    fig, ax = plt.subplots(figsize=(6, 5))\n",
    "    sns.heatmap(conf_mat, cmap=\"YlGnBu\", annot=True, fmt='d')\n",
    "    plt.ylabel('Actual')\n",
    "    plt.xlabel('Predicted')\n",
    "    plt.show()\n",
    "    print(\"=\"*53)"
   ]
  },
  {
   "cell_type": "code",
   "execution_count": null,
   "metadata": {},
   "outputs": [],
   "source": []
  }
 ],
 "metadata": {
  "kernelspec": {
   "display_name": "Python 3",
   "language": "python",
   "name": "python3"
  },
  "language_info": {
   "codemirror_mode": {
    "name": "ipython",
    "version": 3
   },
   "file_extension": ".py",
   "mimetype": "text/x-python",
   "name": "python",
   "nbconvert_exporter": "python",
   "pygments_lexer": "ipython3",
   "version": "3.6.4"
  }
 },
 "nbformat": 4,
 "nbformat_minor": 2
}
