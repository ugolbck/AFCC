{
 "cells": [
  {
   "cell_type": "code",
   "execution_count": 7,
   "metadata": {},
   "outputs": [],
   "source": [
    "%matplotlib inline\n",
    "\n",
    "import pandas as pd\n",
    "import numpy as np\n",
    "from sklearn.model_selection import train_test_split\n",
    "from sklearn.metrics import confusion_matrix, classification_report, accuracy_score, f1_score\n",
    "import matplotlib.pyplot as plt\n",
    "import sys\n",
    "if not '..' in sys.path:\n",
    "    sys.path.append('..')\n",
    "from Pipeline.PPP import *"
   ]
  },
  {
   "cell_type": "code",
   "execution_count": 8,
   "metadata": {},
   "outputs": [],
   "source": [
    "PATH_PIPE = '../Pipeline/'\n",
    "PATH_RAW = '../data/raw_data/'\n",
    "PATH_DATA = '../data/data/'\n",
    "PATH_MODELS = '../../models/'\n",
    "PATH_IMAGES = '../assets/images/'"
   ]
  },
  {
   "cell_type": "markdown",
   "metadata": {},
   "source": [
    "## Load data\n",
    "\n",
    "Either with separate train and test files or..."
   ]
  },
  {
   "cell_type": "code",
   "execution_count": null,
   "metadata": {},
   "outputs": [],
   "source": []
  },
  {
   "cell_type": "code",
   "execution_count": null,
   "metadata": {},
   "outputs": [],
   "source": []
  },
  {
   "cell_type": "code",
   "execution_count": null,
   "metadata": {},
   "outputs": [],
   "source": []
  },
  {
   "cell_type": "code",
   "execution_count": 17,
   "metadata": {},
   "outputs": [],
   "source": [
    "train = pd.read_csv(PATH_DATA + \"2829_train.csv\")\n",
    "test = pd.read_csv(PATH_DATA + \"2829_test.csv\")\n",
    "\n",
    "if 'Unnamed: 0' in train.columns:\n",
    "    train = train.drop('Unnamed: 0', axis=1)\n",
    "if 'Unnamed: 0' in test.columns:\n",
    "    test = test.drop('Unnamed: 0', axis=1)\n",
    "\n",
    "X, y, y_bin = train.drop(['tag', 'bin_tag'], axis=1), train['tag'], train['bin_tag']\n",
    "X_test, y_test, y_bin_test = test.drop(['tag', 'bin_tag'], axis=1), test['tag'], test['bin_tag']\n",
    "\n",
    "X_train, X_val, y_train, y_val = train_test_split(X, y_bin, test_size=0.1, random_state=42)"
   ]
  },
  {
   "cell_type": "markdown",
   "metadata": {},
   "source": [
    "... with only one file."
   ]
  },
  {
   "cell_type": "code",
   "execution_count": null,
   "metadata": {},
   "outputs": [],
   "source": [
    "data = pd.read_csv(PATH_DATA + \"2840_full_data.csv\")\n",
    "\n",
    "if 'Unnamed: 0' in data.columns:\n",
    "    train = train.drop('Unnamed: 0', axis=1)\n",
    "\n",
    "# Prevent missing values\n",
    "data = data.dropna(subset=['tag'])\n",
    "\n",
    "X, y, y_bin = data.drop(['tag', 'bin_tag'], axis=1), data['tag'], data['bin_tag']\n",
    "\n",
    "X_train, X_test, y_train, y_test =  [np.asarray(x) for x in train_test_split(X, y_bin, test_size=0.25, random_state=42)]\n",
    "X_train, X_val, y_train, y_val = [np.asarray(x) for x in train_test_split(X_train, y_train, test_size=0.1, random_state=42)]"
   ]
  },
  {
   "cell_type": "code",
   "execution_count": 18,
   "metadata": {},
   "outputs": [
    {
     "data": {
      "text/html": [
       "<div>\n",
       "<style scoped>\n",
       "    .dataframe tbody tr th:only-of-type {\n",
       "        vertical-align: middle;\n",
       "    }\n",
       "\n",
       "    .dataframe tbody tr th {\n",
       "        vertical-align: top;\n",
       "    }\n",
       "\n",
       "    .dataframe thead th {\n",
       "        text-align: right;\n",
       "    }\n",
       "</style>\n",
       "<table border=\"1\" class=\"dataframe\">\n",
       "  <thead>\n",
       "    <tr style=\"text-align: right;\">\n",
       "      <th></th>\n",
       "      <th>text_review</th>\n",
       "      <th>text_pos</th>\n",
       "      <th>lemmas</th>\n",
       "      <th>num_tokens</th>\n",
       "    </tr>\n",
       "  </thead>\n",
       "  <tbody>\n",
       "    <tr>\n",
       "      <th>422</th>\n",
       "      <td>canon has kept the price of this little gem re...</td>\n",
       "      <td>NN VBZ VBN DT NN IN DT JJ NN JJ FW VBD PRP IN ...</td>\n",
       "      <td>canon have keep the price of this little gem r...</td>\n",
       "      <td>276</td>\n",
       "    </tr>\n",
       "    <tr>\n",
       "      <th>761</th>\n",
       "      <td>there is no static noise compared to delta's a...</td>\n",
       "      <td>EX VBZ DT JJ NN VBN TO NN POS CC DT NN VBZ JJ ...</td>\n",
       "      <td>there be no static noise compare to delta 's a...</td>\n",
       "      <td>90</td>\n",
       "    </tr>\n",
       "    <tr>\n",
       "      <th>2076</th>\n",
       "      <td>great deal they were beautiful and classy</td>\n",
       "      <td>JJ NN PRP VBD JJ CC JJ</td>\n",
       "      <td>great deal they be beautiful and classy</td>\n",
       "      <td>7</td>\n",
       "    </tr>\n",
       "    <tr>\n",
       "      <th>1902</th>\n",
       "      <td>the game is fun i would like a little more act...</td>\n",
       "      <td>DT NN VBZ NN FW MD VB DT RB RBR NN CC DT IN DT...</td>\n",
       "      <td>the game be fun i would like a little more act...</td>\n",
       "      <td>20</td>\n",
       "    </tr>\n",
       "    <tr>\n",
       "      <th>1740</th>\n",
       "      <td>very cute and sturdy vanity to keep all the pl...</td>\n",
       "      <td>RB JJ CC JJ NN TO VB PDT DT NN NN RB CD JJ MD ...</td>\n",
       "      <td>very cute and sturdy vanity to keep all the pl...</td>\n",
       "      <td>23</td>\n",
       "    </tr>\n",
       "  </tbody>\n",
       "</table>\n",
       "</div>"
      ],
      "text/plain": [
       "                                            text_review  \\\n",
       "422   canon has kept the price of this little gem re...   \n",
       "761   there is no static noise compared to delta's a...   \n",
       "2076          great deal they were beautiful and classy   \n",
       "1902  the game is fun i would like a little more act...   \n",
       "1740  very cute and sturdy vanity to keep all the pl...   \n",
       "\n",
       "                                               text_pos  \\\n",
       "422   NN VBZ VBN DT NN IN DT JJ NN JJ FW VBD PRP IN ...   \n",
       "761   EX VBZ DT JJ NN VBN TO NN POS CC DT NN VBZ JJ ...   \n",
       "2076                             JJ NN PRP VBD JJ CC JJ   \n",
       "1902  DT NN VBZ NN FW MD VB DT RB RBR NN CC DT IN DT...   \n",
       "1740  RB JJ CC JJ NN TO VB PDT DT NN NN RB CD JJ MD ...   \n",
       "\n",
       "                                                 lemmas  num_tokens  \n",
       "422   canon have keep the price of this little gem r...         276  \n",
       "761   there be no static noise compare to delta 's a...          90  \n",
       "2076            great deal they be beautiful and classy           7  \n",
       "1902  the game be fun i would like a little more act...          20  \n",
       "1740  very cute and sturdy vanity to keep all the pl...          23  "
      ]
     },
     "execution_count": 18,
     "metadata": {},
     "output_type": "execute_result"
    }
   ],
   "source": [
    "X_train.head()"
   ]
  },
  {
   "cell_type": "code",
   "execution_count": null,
   "metadata": {},
   "outputs": [],
   "source": []
  },
  {
   "cell_type": "code",
   "execution_count": null,
   "metadata": {},
   "outputs": [],
   "source": []
  },
  {
   "cell_type": "code",
   "execution_count": null,
   "metadata": {},
   "outputs": [],
   "source": []
  },
  {
   "cell_type": "code",
   "execution_count": null,
   "metadata": {},
   "outputs": [],
   "source": []
  },
  {
   "cell_type": "code",
   "execution_count": null,
   "metadata": {},
   "outputs": [],
   "source": []
  },
  {
   "cell_type": "code",
   "execution_count": null,
   "metadata": {},
   "outputs": [],
   "source": []
  },
  {
   "cell_type": "code",
   "execution_count": null,
   "metadata": {},
   "outputs": [],
   "source": []
  },
  {
   "cell_type": "code",
   "execution_count": null,
   "metadata": {},
   "outputs": [],
   "source": []
  },
  {
   "cell_type": "code",
   "execution_count": null,
   "metadata": {},
   "outputs": [],
   "source": []
  }
 ],
 "metadata": {
  "kernelspec": {
   "display_name": "Python 3",
   "language": "python",
   "name": "python3"
  },
  "language_info": {
   "codemirror_mode": {
    "name": "ipython",
    "version": 3
   },
   "file_extension": ".py",
   "mimetype": "text/x-python",
   "name": "python",
   "nbconvert_exporter": "python",
   "pygments_lexer": "ipython3",
   "version": "3.6.4"
  }
 },
 "nbformat": 4,
 "nbformat_minor": 2
}
