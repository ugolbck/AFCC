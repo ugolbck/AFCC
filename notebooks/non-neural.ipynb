{
 "cells": [
  {
   "cell_type": "code",
   "execution_count": 1,
   "metadata": {},
   "outputs": [],
   "source": [
    "%matplotlib inline\n",
    "\n",
    "import pandas as pd\n",
    "import numpy as np\n",
    "import matplotlib.pyplot as plt\n",
    "import seaborn as sns\n",
    "import pickle\n",
    "\n",
    "import sys\n",
    "if not '..' in sys.path:\n",
    "    sys.path.append('..')\n",
    "from src.PPP import *\n",
    "from src.utils import *\n",
    "\n",
    "from sklearn.compose import ColumnTransformer\n",
    "from sklearn.feature_extraction.text import TfidfVectorizer\n",
    "from sklearn.preprocessing import StandardScaler\n",
    "from sklearn.pipeline import Pipeline\n",
    "from sklearn.model_selection import GridSearchCV\n",
    "from sklearn.naive_bayes import MultinomialNB\n",
    "from sklearn.linear_model import LogisticRegression\n",
    "from sklearn.ensemble import RandomForestClassifier, GradientBoostingClassifier\n",
    "from sklearn.svm import LinearSVC\n",
    "from sklearn.metrics import confusion_matrix, classification_report, accuracy_score, f1_score"
   ]
  },
  {
   "cell_type": "markdown",
   "metadata": {},
   "source": [
    "#### Globals"
   ]
  },
  {
   "cell_type": "code",
   "execution_count": 2,
   "metadata": {},
   "outputs": [],
   "source": [
    "PATH_RAW = '../data/raw_data/'\n",
    "PATH_INTER = '../data/intermediate/'\n",
    "PATH_DATA = '../data/data/'\n",
    "PATH_MODELS = '../../models/'\n",
    "PATH_IMAGES = '../assets/images/'\n",
    "\n",
    "METHOD = 'multiclass'\n",
    "TO_BIN = False"
   ]
  },
  {
   "cell_type": "markdown",
   "metadata": {},
   "source": [
    "## Load trianing data"
   ]
  },
  {
   "cell_type": "code",
   "execution_count": 3,
   "metadata": {},
   "outputs": [
    {
     "name": "stdout",
     "output_type": "stream",
     "text": [
      "Preprocessing of the training data...\n",
      "Files saved to ../data/data/.\n",
      "Preprocessing finished in 384.83789896965027 seconds.\n",
      "Preprocessing of the test data...\n",
      "Preprocessing finished in 95.76912212371826 seconds.\n"
     ]
    }
   ],
   "source": [
    "train = pd.read_csv(PATH_INTER + \"3200_train.csv\")\n",
    "test = pd.read_csv(PATH_INTER + \"800_test.csv\")\n",
    "\n",
    "\n",
    "train, val = preprocess_train(train, text_column='text_review', tag_column='tag', pattern='abcd', split_val=True, val_size=0.1, out_dir=PATH_DATA)\n",
    "test = preprocess_test(test, text_column='text_review', tag_column='tag', pattern='abcd')\n",
    "test.to_csv(PATH_DATA + '800_test.csv', index=False)\n",
    "\n"
   ]
  },
  {
   "cell_type": "code",
   "execution_count": 12,
   "metadata": {},
   "outputs": [],
   "source": [
    "# CRC\n",
    "train = pd.read_csv(PATH_DATA + \"CRC_2880_train.csv\", index_col=0)\n",
    "val = pd.read_csv(PATH_DATA + \"CRC_320_val.csv\", index_col=0)\n",
    "\n",
    "# X, y (multiclass) and y (binary) for TRAINING\n",
    "X_train, y_train, y_bin_train = train.drop(['tag', 'bin_tag'], axis=1), train['tag'].copy(), train['bin_tag'].copy()\n",
    "# X, y (multiclass) and y (binary) for VALIDATING\n",
    "X_val, y_val, y_bin_val = val.drop(['tag', 'bin_tag'], axis=1), val['tag'].copy(), val['bin_tag'].copy()"
   ]
  },
  {
   "cell_type": "markdown",
   "metadata": {},
   "source": [
    "## Load test data"
   ]
  },
  {
   "cell_type": "code",
   "execution_count": 44,
   "metadata": {},
   "outputs": [],
   "source": [
    "# CRC\n",
    "test_CRC = pd.read_csv(PATH_DATA + \"CRC_800_test.csv\", index_col=0)\n",
    "\n",
    "# X, y (multiclass) and y (binary)\n",
    "X_test_CRC, y_test_CRC, y_bin_test_CRC = test_CRC.drop(['tag', 'bin_tag'], axis=1), test_CRC['tag'].copy(), test_CRC['bin_tag'].copy()\n"
   ]
  },
  {
   "cell_type": "code",
   "execution_count": 47,
   "metadata": {},
   "outputs": [
    {
     "name": "stdout",
     "output_type": "stream",
     "text": [
      "Preprocessing of the test data...\n",
      "Preprocessing finished in 11.28348708152771 seconds.\n"
     ]
    }
   ],
   "source": [
    "# SOCC\n",
    "test_socc = pd.read_csv(PATH_RAW + \"socc.csv\")\n",
    "\n",
    "test_socc = preprocess_test(test_socc, text_column='comment_text', tag_column='is_constructive', pattern='yesno')\n",
    "test_socc = test_socc.rename(columns={'comment_text': 'text_review', 'is_constructive': 'bin_tag'})\n",
    "\n",
    "# X, y\n",
    "X_test_socc, y_bin_test_socc = test_socc.drop(['bin_tag'], axis=1), test_socc['bin_tag'].copy()"
   ]
  },
  {
   "cell_type": "code",
   "execution_count": 45,
   "metadata": {},
   "outputs": [
    {
     "name": "stdout",
     "output_type": "stream",
     "text": [
      "Preprocessing of the test data...\n",
      "Preprocessing finished in 135.62197709083557 seconds.\n"
     ]
    }
   ],
   "source": [
    "# C3 (extended version of SOCC)\n",
    "test_c3 = pd.read_csv(PATH_RAW + \"C3.csv\")\n",
    "\n",
    "test_c3 = preprocess_test(test_c3, text_column='comment_text', tag_column='constructive_binary', pattern=None)\n",
    "test_c3 = test_c3.rename(columns={'comment_text': 'text_review', 'constructive_binary': 'bin_tag'})\n",
    "\n",
    "# X, y\n",
    "X_test_c3, y_bin_test_c3 = test_c3.drop(['bin_tag'], axis=1), test_c3['bin_tag'].copy()"
   ]
  },
  {
   "cell_type": "code",
   "execution_count": 47,
   "metadata": {},
   "outputs": [],
   "source": [
    "# Lists of data sets for testing\n",
    "list_X_test = [X_test_CRC]\n",
    "list_y_test = [y_test_CRC]\n",
    "\n",
    "#list_X_bin_test = [X_test_CRC, X_test_socc, X_test_c3]\n",
    "#list_y_bin_test = [y_bin_test_CRC, y_bin_test_socc, y_bin_test_c3]"
   ]
  },
  {
   "cell_type": "markdown",
   "metadata": {},
   "source": [
    "## Model training"
   ]
  },
  {
   "cell_type": "markdown",
   "metadata": {},
   "source": [
    "We list the features to use in the Pipeline"
   ]
  },
  {
   "cell_type": "code",
   "execution_count": 21,
   "metadata": {},
   "outputs": [],
   "source": [
    "numeric_features = list(X_train[['read_score', 'sentiment', 'num_tokens',\n",
    "                                 'num_char', 'num_upper', 'named_entities',\n",
    "                                 'num_positives', 'num_negatives', 'num_unk',\n",
    "                                 'num_punct', 'num_discourse', 'num_modals',\n",
    "                                 'avg_word_length']])\n",
    "\n",
    "text_features = list(X_train[['text_review', 'text_pos', 'lemmas']])"
   ]
  },
  {
   "cell_type": "markdown",
   "metadata": {},
   "source": [
    "Custom transformer to transform the data and create a feature space"
   ]
  },
  {
   "cell_type": "code",
   "execution_count": 22,
   "metadata": {},
   "outputs": [],
   "source": [
    "trans = ColumnTransformer(transformers=[\n",
    "            ('review', TfidfVectorizer(min_df=1, max_df=0.1, encoding='utf-8', ngram_range=(1,2)), 'text_review'),\n",
    "            ('pos', TfidfVectorizer(encoding='utf-8', ngram_range=(1,2)), 'text_pos'),\n",
    "            ('lemma', TfidfVectorizer(min_df=1, max_df=0.1, encoding='utf-8', ngram_range=(1,2)), 'lemmas'),\n",
    "            ('num_attr', StandardScaler(), numeric_features),\n",
    "            ])"
   ]
  },
  {
   "cell_type": "markdown",
   "metadata": {},
   "source": [
    "Pipeline to sequentially transform the data and fit an estimator"
   ]
  },
  {
   "cell_type": "code",
   "execution_count": 23,
   "metadata": {},
   "outputs": [],
   "source": [
    "pipeline = Pipeline([\n",
    "                       ('union', trans),\n",
    "                       ('clf', LogisticRegression(max_iter=500, random_state=42))\n",
    "])"
   ]
  },
  {
   "cell_type": "markdown",
   "metadata": {},
   "source": [
    "GridSearch with 5 fold cross-validation to find the best set of features"
   ]
  },
  {
   "cell_type": "code",
   "execution_count": 59,
   "metadata": {},
   "outputs": [],
   "source": [
    "param_grid = [\n",
    "              #{\n",
    "               #  'union__review__ngram_range': [(1,1), (1,2)],\n",
    "                # 'union__pos__ngram_range': [(1,1), (1,2)],\n",
    "                 #'union__lemma__ngram_range': [(1,1), (1,2)],\n",
    "                 #'clf': [RandomForestClassifier(),],\n",
    "                 #'clf__n_estimators': [150, 175],\n",
    "               #},\n",
    "              #{\n",
    "               #  'union__review__ngram_range': [(1,1), (1,2)],\n",
    "                # 'union__pos__ngram_range': [(1,1), (1,2)],\n",
    "                 #'union__lemma__ngram_range': [(1,1), (1,2)],\n",
    "                 #'clf': [LogisticRegression(),],\n",
    "                 #'clf__max_iter': [500, 1000],\n",
    "               #},\n",
    "              {\n",
    "                  'clf': [GradientBoostingClassifier(n_estimators=100,\n",
    "                                                     learning_rate=0.5,\n",
    "                                                     max_depth=16,\n",
    "                                                     random_state=42)],\n",
    "                  'clf__class_weight': ['balanced'],\n",
    "              }\n",
    "]\n",
    "\n",
    "# Training with all possible configurations\n",
    "model = GridSearchCV(pipeline,\n",
    "                      param_grid=param_grid,\n",
    "                      scoring='f1_macro',\n",
    "                      n_jobs=-1,\n",
    "                      cv=5,\n",
    "                      verbose=1)"
   ]
  },
  {
   "cell_type": "markdown",
   "metadata": {},
   "source": [
    "Model fitting..."
   ]
  },
  {
   "cell_type": "code",
   "execution_count": 60,
   "metadata": {},
   "outputs": [
    {
     "name": "stdout",
     "output_type": "stream",
     "text": [
      "Fitting 5 folds for each of 1 candidates, totalling 5 fits\n"
     ]
    },
    {
     "name": "stderr",
     "output_type": "stream",
     "text": [
      "[Parallel(n_jobs=-1)]: Using backend LokyBackend with 4 concurrent workers.\n",
      "[Parallel(n_jobs=-1)]: Done   5 out of   5 | elapsed: 12.5min finished\n"
     ]
    }
   ],
   "source": [
    "if METHOD.lower() == 'binary':\n",
    "    model.fit(X_train, y_bin_train)\n",
    "elif METHOD.lower() == 'multiclass':\n",
    "    model.fit(X_train, y_train)\n",
    "else:\n",
    "    raise ValueError('You must choose \\'binary\\' or \\'multiclas\\'.')"
   ]
  },
  {
   "cell_type": "markdown",
   "metadata": {},
   "source": [
    "## Model validation"
   ]
  },
  {
   "cell_type": "markdown",
   "metadata": {},
   "source": [
    "Output of best parameter set and best accuracy average score"
   ]
  },
  {
   "cell_type": "code",
   "execution_count": 61,
   "metadata": {},
   "outputs": [
    {
     "name": "stdout",
     "output_type": "stream",
     "text": [
      "0.6467631273637215\n",
      "{'clf': GradientBoostingClassifier(ccp_alpha=0.0, criterion='friedman_mse', init=None,\n",
      "                           learning_rate=0.5, loss='deviance', max_depth=16,\n",
      "                           max_features=None, max_leaf_nodes=None,\n",
      "                           min_impurity_decrease=0.0, min_impurity_split=None,\n",
      "                           min_samples_leaf=1, min_samples_split=2,\n",
      "                           min_weight_fraction_leaf=0.0, n_estimators=100,\n",
      "                           n_iter_no_change=None, presort='deprecated',\n",
      "                           random_state=42, subsample=1.0, tol=0.0001,\n",
      "                           validation_fraction=0.1, verbose=0,\n",
      "                           warm_start=False)}\n"
     ]
    }
   ],
   "source": [
    "print(model.best_score_)\n",
    "print(model.best_params_)"
   ]
  },
  {
   "cell_type": "code",
   "execution_count": 62,
   "metadata": {},
   "outputs": [],
   "source": [
    "def to_binary(prediction):\n",
    "    return 0 if prediction == 0 or prediction == 1 else 1"
   ]
  },
  {
   "cell_type": "code",
   "execution_count": 65,
   "metadata": {},
   "outputs": [
    {
     "name": "stdout",
     "output_type": "stream",
     "text": [
      "Accuracy: 0.665625\n",
      "F1 Score: 0.6649011698500912\n",
      "              precision    recall  f1-score   support\n",
      "\n",
      "           0       0.81      0.51      0.63        43\n",
      "           1       0.69      0.72      0.70       112\n",
      "           2       0.66      0.68      0.67       120\n",
      "           3       0.56      0.62      0.59        45\n",
      "\n",
      "    accuracy                           0.67       320\n",
      "   macro avg       0.68      0.64      0.65       320\n",
      "weighted avg       0.67      0.67      0.66       320\n",
      "\n"
     ]
    }
   ],
   "source": [
    "if METHOD.lower() == 'binary':\n",
    "    y_pred_val = model.predict(X_val)\n",
    "    print(\"Accuracy:\", accuracy_score(y_bin_val, y_pred_val))\n",
    "    print(\"F1 Score:\", f1_score(y_bin_val, y_pred_val, average='weighted'))\n",
    "    print(classification_report(y_bin_val, y_pred_val))\n",
    "elif METHOD.lower() == 'multiclass':\n",
    "    y_pred_val = model.predict(X_val)\n",
    "    if TO_BIN:\n",
    "        y_pred_val = [to_binary(x) for x in y_pred_val]\n",
    "        print(\"Accuracy:\", accuracy_score(y_bin_val, y_pred_val))\n",
    "        print(\"F1 Score:\", f1_score(y_bin_val, y_pred_val, average='weighted'))\n",
    "        print(classification_report(y_bin_val, y_pred_val))\n",
    "    else:\n",
    "        print(\"Accuracy:\", accuracy_score(y_val, y_pred_val))\n",
    "        print(\"F1 Score:\", f1_score(y_val, y_pred_val, average='weighted'))\n",
    "        print(classification_report(y_val, y_pred_val))\n",
    "else:\n",
    "    raise ValueError('You must choose \\'binary\\' or \\'multiclas\\'.')"
   ]
  },
  {
   "cell_type": "markdown",
   "metadata": {},
   "source": [
    "Saving model"
   ]
  },
  {
   "cell_type": "code",
   "execution_count": 66,
   "metadata": {},
   "outputs": [],
   "source": [
    "pickle.dump(model, open(PATH_MODELS+'v0_4_GBC_fullfeatures_withoutval_multiclass.sav', 'wb'))"
   ]
  },
  {
   "cell_type": "markdown",
   "metadata": {},
   "source": [
    "## Model testing (multiclass model)"
   ]
  },
  {
   "cell_type": "code",
   "execution_count": 69,
   "metadata": {},
   "outputs": [
    {
     "name": "stdout",
     "output_type": "stream",
     "text": [
      "Model 1\n",
      "Accuracy: 0.6625\n",
      "F1 Score: 0.6585964197572076\n",
      "              precision    recall  f1-score   support\n",
      "\n",
      "           0       0.62      0.43      0.51       108\n",
      "           1       0.69      0.70      0.70       280\n",
      "           2       0.65      0.72      0.68       300\n",
      "           3       0.65      0.63      0.64       112\n",
      "\n",
      "    accuracy                           0.66       800\n",
      "   macro avg       0.65      0.62      0.63       800\n",
      "weighted avg       0.66      0.66      0.66       800\n",
      "\n"
     ]
    },
    {
     "data": {
      "image/png": "[encoded data removed]",
      "text/plain": [
       "<Figure size 432x360 with 2 Axes>"
      ]
     },
     "metadata": {
      "needs_background": "light"
     },
     "output_type": "display_data"
    },
    {
     "name": "stdout",
     "output_type": "stream",
     "text": [
      "=====================================================\n"
     ]
    }
   ],
   "source": [
    "for i, (X, y) in enumerate(zip(list_X_test, list_y_test)):\n",
    "    y_pred = model.predict(X) \n",
    "    print('Model {}'.format(i+1))\n",
    "    print(\"Accuracy:\", accuracy_score(y, y_pred))\n",
    "    print(\"F1 Score:\", f1_score(y, y_pred, average='weighted'))\n",
    "    print(classification_report(y, y_pred))\n",
    "    \n",
    "    conf_mat = confusion_matrix(y, y_pred)\n",
    "    fig, ax = plt.subplots(figsize=(6, 5))\n",
    "    sns.heatmap(conf_mat, cmap=\"YlGnBu\", annot=True, fmt='d')\n",
    "    plt.ylabel('Actual')\n",
    "    plt.xlabel('Predicted')\n",
    "    plt.show()\n",
    "    print(\"=\"*53)"
   ]
  },
  {
   "cell_type": "markdown",
   "metadata": {},
   "source": [
    "## Model testing (binary model)"
   ]
  },
  {
   "cell_type": "code",
   "execution_count": 26,
   "metadata": {},
   "outputs": [
    {
     "name": "stdout",
     "output_type": "stream",
     "text": [
      "Model 1\n",
      "Accuracy: 0.9433333333333334\n",
      "F1 Score: 0.9433938452769391\n",
      "              precision    recall  f1-score   support\n",
      "\n",
      "         0.0       0.92      0.95      0.94      1097\n",
      "         1.0       0.96      0.93      0.95      1303\n",
      "\n",
      "    accuracy                           0.94      2400\n",
      "   macro avg       0.94      0.94      0.94      2400\n",
      "weighted avg       0.94      0.94      0.94      2400\n",
      "\n"
     ]
    },
    {
     "data": {
      "image/png": "[encoded data removed]",
      "text/plain": [
       "<Figure size 432x360 with 2 Axes>"
      ]
     },
     "metadata": {
      "needs_background": "light"
     },
     "output_type": "display_data"
    },
    {
     "name": "stdout",
     "output_type": "stream",
     "text": [
      "=====================================================\n"
     ]
    }
   ],
   "source": [
    "for i, (X, y) in enumerate(zip(list_X_bin_test, list_y_bin_test)):\n",
    "    y_pred = model.predict(X)\n",
    "    if len(np.unique(y_pred)) == 4:\n",
    "        y_pred = [to_binary(x) for x in y_pred]\n",
    "    print('Model {}'.format(i+1))\n",
    "    print(\"Accuracy:\", accuracy_score(y, y_pred))\n",
    "    print(\"F1 Score:\", f1_score(y, y_pred, average='weighted'))\n",
    "    print(classification_report(y, y_pred))\n",
    "    \n",
    "    conf_mat = confusion_matrix(y, y_pred)\n",
    "    fig, ax = plt.subplots(figsize=(6, 5))\n",
    "    sns.heatmap(conf_mat, cmap=\"YlGnBu\", annot=True, fmt='d')\n",
    "    plt.ylabel('Actual')\n",
    "    plt.xlabel('Predicted')\n",
    "    plt.show()\n",
    "    print(\"=\"*53)"
   ]
  },
  {
   "cell_type": "code",
   "execution_count": null,
   "metadata": {},
   "outputs": [],
   "source": []
  }
 ],
 "metadata": {
  "kernelspec": {
   "display_name": "Python 3",
   "language": "python",
   "name": "python3"
  },
  "language_info": {
   "codemirror_mode": {
    "name": "ipython",
    "version": 3
   },
   "file_extension": ".py",
   "mimetype": "text/x-python",
   "name": "python",
   "nbconvert_exporter": "python",
   "pygments_lexer": "ipython3",
   "version": "3.6.4"
  }
 },
 "nbformat": 4,
 "nbformat_minor": 2
}
