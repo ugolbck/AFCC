{
 "cells": [
  {
   "cell_type": "code",
   "execution_count": 1,
   "metadata": {},
   "outputs": [],
   "source": [
    "%matplotlib inline\n",
    "\n",
    "import pandas as pd\n",
    "import numpy as np\n",
    "from sklearn.model_selection import train_test_split\n",
    "from sklearn.metrics import confusion_matrix, classification_report, accuracy_score, f1_score\n",
    "import matplotlib.pyplot as plt\n",
    "import sys\n",
    "if not '..' in sys.path:\n",
    "    sys.path.append('..')\n",
    "from Pipeline.PPP import *"
   ]
  },
  {
   "cell_type": "code",
   "execution_count": 2,
   "metadata": {},
   "outputs": [],
   "source": [
    "PATH_PIPE = '../Pipeline/'\n",
    "PATH_RAW = '../data/raw_data/'\n",
    "PATH_DATA = '../data/data/'\n",
    "PATH_MODELS = '../../models/'\n",
    "PATH_IMAGES = '../assets/images/'"
   ]
  },
  {
   "cell_type": "markdown",
   "metadata": {},
   "source": [
    "## Load data"
   ]
  },
  {
   "cell_type": "code",
   "execution_count": 3,
   "metadata": {},
   "outputs": [],
   "source": [
    "data = pd.read_csv(PATH_RAW + \"2830_reviews.csv\")\n",
    "\n",
    "train, test = file_split(data, 0.2, 'text_review', 'tag')\n",
    "train, val = preprocess_train(train, text_column='text_review', tag_column='tag', pattern='abcd')"
   ]
  },
  {
   "cell_type": "code",
   "execution_count": 5,
   "metadata": {},
   "outputs": [],
   "source": [
    "test = preprocess_test(test, text_column='text_review', tag_column='tag', pattern='abcd')"
   ]
  },
  {
   "cell_type": "code",
   "execution_count": 6,
   "metadata": {},
   "outputs": [],
   "source": [
    "test_socc = pd.read_csv(PATH_DATA + \"socc.csv\")"
   ]
  },
  {
   "cell_type": "code",
   "execution_count": 7,
   "metadata": {},
   "outputs": [],
   "source": [
    "test_socc = preprocess_test(test_socc, text_column='comment_text', tag_column='is_constructive', pattern='yesno')"
   ]
  },
  {
   "cell_type": "code",
   "execution_count": 12,
   "metadata": {},
   "outputs": [
    {
     "data": {
      "text/html": [
       "<div>\n",
       "<style scoped>\n",
       "    .dataframe tbody tr th:only-of-type {\n",
       "        vertical-align: middle;\n",
       "    }\n",
       "\n",
       "    .dataframe tbody tr th {\n",
       "        vertical-align: top;\n",
       "    }\n",
       "\n",
       "    .dataframe thead th {\n",
       "        text-align: right;\n",
       "    }\n",
       "</style>\n",
       "<table border=\"1\" class=\"dataframe\">\n",
       "  <thead>\n",
       "    <tr style=\"text-align: right;\">\n",
       "      <th></th>\n",
       "      <th>comment_text</th>\n",
       "      <th>is_constructive</th>\n",
       "      <th>read_score</th>\n",
       "      <th>sentiment</th>\n",
       "      <th>num_tokens</th>\n",
       "      <th>num_char</th>\n",
       "      <th>text_pos</th>\n",
       "      <th>lemmas</th>\n",
       "    </tr>\n",
       "  </thead>\n",
       "  <tbody>\n",
       "    <tr>\n",
       "      <th>0</th>\n",
       "      <td>[while, technology, does, march, on, ,, someti...</td>\n",
       "      <td>1</td>\n",
       "      <td>76.35</td>\n",
       "      <td>0.2732</td>\n",
       "      <td>138</td>\n",
       "      <td>564</td>\n",
       "      <td>IN NN VBZ VB IN , RB PRP VBZ DT JJ RB NNS IN J...</td>\n",
       "      <td>while technology do march on , sometimes it ta...</td>\n",
       "    </tr>\n",
       "    <tr>\n",
       "      <th>1</th>\n",
       "      <td>[everyone, is, still, missing, the, point, of,...</td>\n",
       "      <td>1</td>\n",
       "      <td>73.61</td>\n",
       "      <td>0.9169</td>\n",
       "      <td>260</td>\n",
       "      <td>972</td>\n",
       "      <td>NN VBZ RB VBG DT NN IN WP DT NN NN VBZ : PRP V...</td>\n",
       "      <td>everyone be still miss the point of what the a...</td>\n",
       "    </tr>\n",
       "    <tr>\n",
       "      <th>2</th>\n",
       "      <td>[you, have, never, used, an, apple, product, h...</td>\n",
       "      <td>0</td>\n",
       "      <td>71.82</td>\n",
       "      <td>0.0000</td>\n",
       "      <td>10</td>\n",
       "      <td>38</td>\n",
       "      <td>PRP VBP RB VBN DT NN NN VBP PRP .</td>\n",
       "      <td>you have never use a apple product have you ?</td>\n",
       "    </tr>\n",
       "    <tr>\n",
       "      <th>3</th>\n",
       "      <td>[you, may, be, using, a, blackberry, ., i, am,...</td>\n",
       "      <td>0</td>\n",
       "      <td>74.35</td>\n",
       "      <td>0.0000</td>\n",
       "      <td>14</td>\n",
       "      <td>50</td>\n",
       "      <td>PRP MD VB VBG DT NN .</td>\n",
       "      <td>you may be use a blackberry .</td>\n",
       "    </tr>\n",
       "    <tr>\n",
       "      <th>4</th>\n",
       "      <td>[of, course, we, all, know, ,, unfortunately, ...</td>\n",
       "      <td>0</td>\n",
       "      <td>74.69</td>\n",
       "      <td>0.3818</td>\n",
       "      <td>66</td>\n",
       "      <td>274</td>\n",
       "      <td>IN NN PRP DT VBP , RB , EX VBZ DT NN IN DT VBG...</td>\n",
       "      <td>of course we all know , unfortunately , there ...</td>\n",
       "    </tr>\n",
       "  </tbody>\n",
       "</table>\n",
       "</div>"
      ],
      "text/plain": [
       "                                        comment_text  is_constructive  \\\n",
       "0  [while, technology, does, march, on, ,, someti...                1   \n",
       "1  [everyone, is, still, missing, the, point, of,...                1   \n",
       "2  [you, have, never, used, an, apple, product, h...                0   \n",
       "3  [you, may, be, using, a, blackberry, ., i, am,...                0   \n",
       "4  [of, course, we, all, know, ,, unfortunately, ...                0   \n",
       "\n",
       "   read_score  sentiment  num_tokens  num_char  \\\n",
       "0       76.35     0.2732         138       564   \n",
       "1       73.61     0.9169         260       972   \n",
       "2       71.82     0.0000          10        38   \n",
       "3       74.35     0.0000          14        50   \n",
       "4       74.69     0.3818          66       274   \n",
       "\n",
       "                                            text_pos  \\\n",
       "0  IN NN VBZ VB IN , RB PRP VBZ DT JJ RB NNS IN J...   \n",
       "1  NN VBZ RB VBG DT NN IN WP DT NN NN VBZ : PRP V...   \n",
       "2                  PRP VBP RB VBN DT NN NN VBP PRP .   \n",
       "3                              PRP MD VB VBG DT NN .   \n",
       "4  IN NN PRP DT VBP , RB , EX VBZ DT NN IN DT VBG...   \n",
       "\n",
       "                                              lemmas  \n",
       "0  while technology do march on , sometimes it ta...  \n",
       "1  everyone be still miss the point of what the a...  \n",
       "2      you have never use a apple product have you ?  \n",
       "3                      you may be use a blackberry .  \n",
       "4  of course we all know , unfortunately , there ...  "
      ]
     },
     "execution_count": 12,
     "metadata": {},
     "output_type": "execute_result"
    }
   ],
   "source": [
    "test_socc.head()"
   ]
  },
  {
   "cell_type": "code",
   "execution_count": null,
   "metadata": {},
   "outputs": [],
   "source": []
  },
  {
   "cell_type": "code",
   "execution_count": null,
   "metadata": {},
   "outputs": [],
   "source": []
  },
  {
   "cell_type": "code",
   "execution_count": null,
   "metadata": {},
   "outputs": [],
   "source": []
  },
  {
   "cell_type": "code",
   "execution_count": null,
   "metadata": {},
   "outputs": [],
   "source": []
  },
  {
   "cell_type": "code",
   "execution_count": null,
   "metadata": {},
   "outputs": [],
   "source": []
  },
  {
   "cell_type": "code",
   "execution_count": null,
   "metadata": {},
   "outputs": [],
   "source": []
  }
 ],
 "metadata": {
  "kernelspec": {
   "display_name": "Python 3",
   "language": "python",
   "name": "python3"
  },
  "language_info": {
   "codemirror_mode": {
    "name": "ipython",
    "version": 3
   },
   "file_extension": ".py",
   "mimetype": "text/x-python",
   "name": "python",
   "nbconvert_exporter": "python",
   "pygments_lexer": "ipython3",
   "version": "3.6.4"
  }
 },
 "nbformat": 4,
 "nbformat_minor": 2
}
