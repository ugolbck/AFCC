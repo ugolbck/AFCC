{
 "cells": [
  {
   "cell_type": "code",
   "execution_count": 1,
   "metadata": {},
   "outputs": [],
   "source": [
    "%matplotlib inline\n",
    "import pandas as pd\n",
    "import numpy as np\n",
    "import matplotlib.pyplot as plt\n",
    "from scipy.interpolate import make_interp_spline, BSpline\n",
    "from sklearn.metrics import cohen_kappa_score\n",
    "from scipy.stats import pearsonr, spearmanr, kendalltau, wilcoxon"
   ]
  },
  {
   "cell_type": "code",
   "execution_count": 2,
   "metadata": {},
   "outputs": [],
   "source": [
    "PATH_AGREEMENT = '../data/annotator-agreement/'\n",
    "PATH_IMAGES = '../assets/images/'\n",
    "\n",
    "EXP_1 = 'exp_1.csv'\n",
    "EXP_2 = 'exp_2.csv'"
   ]
  },
  {
   "cell_type": "markdown",
   "metadata": {},
   "source": [
    "## Data loading\n",
    "\n",
    "- Experiment 1: Survey with 15 annotators, 20 reviews, 4 ranked categories, a few guidelines.\n",
    "- Experiment 2: Only me and another annotator, 4 ranked categories, prior discussion about the scheme and precise guidelines."
   ]
  },
  {
   "cell_type": "code",
   "execution_count": 3,
   "metadata": {},
   "outputs": [],
   "source": [
    "e_1 = pd.read_csv(PATH_AGREEMENT + EXP_1)\n",
    "e_2 = pd.read_csv(PATH_AGREEMENT + EXP_2)"
   ]
  },
  {
   "cell_type": "markdown",
   "metadata": {},
   "source": [
    "## Experiment 1"
   ]
  },
  {
   "cell_type": "code",
   "execution_count": 44,
   "metadata": {},
   "outputs": [],
   "source": [
    "e_1 = e_1.dropna().copy()\n",
    "if 'Unnamed: 0' in e_1.columns:\n",
    "    e_1 = e_1.drop('Unnamed: 0', axis=1)"
   ]
  },
  {
   "cell_type": "markdown",
   "metadata": {},
   "source": [
    "We remove 2 annotators that were provoking heavy noise in the data.\n",
    "We single out 2 reviews on which heavy noise is detected and discuss the possible reasons in the thesis.\n",
    "\n",
    "The two noisy reviews are n°15 and n°17 (indexes 14 and 16)"
   ]
  },
  {
   "cell_type": "code",
   "execution_count": 79,
   "metadata": {},
   "outputs": [],
   "source": [
    "prim = e_1.drop(columns=['14', '5'])"
   ]
  },
  {
   "cell_type": "markdown",
   "metadata": {},
   "source": [
    "#### Part 1"
   ]
  },
  {
   "cell_type": "code",
   "execution_count": 89,
   "metadata": {},
   "outputs": [
    {
     "data": {
      "text/plain": [
       "0     0.816497\n",
       "1     0.751068\n",
       "2     0.767948\n",
       "3     0.640513\n",
       "4     0.000000\n",
       "5     0.640513\n",
       "6     0.277350\n",
       "7     0.438529\n",
       "8     0.480384\n",
       "9     0.438529\n",
       "10    0.480384\n",
       "11    0.707107\n",
       "12    0.375534\n",
       "13    0.759555\n",
       "14    0.947331\n",
       "15    0.506370\n",
       "16    0.767948\n",
       "17    0.599145\n",
       "18    0.640513\n",
       "19    0.554700\n",
       "dtype: float64"
      ]
     },
     "execution_count": 89,
     "metadata": {},
     "output_type": "execute_result"
    }
   ],
   "source": [
    "std"
   ]
  },
  {
   "cell_type": "code",
   "execution_count": 90,
   "metadata": {},
   "outputs": [
    {
     "data": {
      "text/html": [
       "<div>\n",
       "<style scoped>\n",
       "    .dataframe tbody tr th:only-of-type {\n",
       "        vertical-align: middle;\n",
       "    }\n",
       "\n",
       "    .dataframe tbody tr th {\n",
       "        vertical-align: top;\n",
       "    }\n",
       "\n",
       "    .dataframe thead th {\n",
       "        text-align: right;\n",
       "    }\n",
       "</style>\n",
       "<table border=\"1\" class=\"dataframe\">\n",
       "  <thead>\n",
       "    <tr style=\"text-align: right;\">\n",
       "      <th></th>\n",
       "      <th>0</th>\n",
       "      <th>1</th>\n",
       "      <th>2</th>\n",
       "      <th>3</th>\n",
       "      <th>4</th>\n",
       "      <th>6</th>\n",
       "      <th>7</th>\n",
       "      <th>8</th>\n",
       "      <th>9</th>\n",
       "      <th>10</th>\n",
       "      <th>11</th>\n",
       "      <th>12</th>\n",
       "      <th>13</th>\n",
       "      <th>our</th>\n",
       "    </tr>\n",
       "  </thead>\n",
       "  <tbody>\n",
       "    <tr>\n",
       "      <th>0</th>\n",
       "      <td>1</td>\n",
       "      <td>2</td>\n",
       "      <td>1</td>\n",
       "      <td>3</td>\n",
       "      <td>1</td>\n",
       "      <td>2</td>\n",
       "      <td>2</td>\n",
       "      <td>2</td>\n",
       "      <td>3</td>\n",
       "      <td>3</td>\n",
       "      <td>1</td>\n",
       "      <td>2</td>\n",
       "      <td>3</td>\n",
       "      <td>2</td>\n",
       "    </tr>\n",
       "    <tr>\n",
       "      <th>1</th>\n",
       "      <td>3</td>\n",
       "      <td>2</td>\n",
       "      <td>4</td>\n",
       "      <td>2</td>\n",
       "      <td>4</td>\n",
       "      <td>4</td>\n",
       "      <td>3</td>\n",
       "      <td>3</td>\n",
       "      <td>4</td>\n",
       "      <td>3</td>\n",
       "      <td>3</td>\n",
       "      <td>4</td>\n",
       "      <td>4</td>\n",
       "      <td>2</td>\n",
       "    </tr>\n",
       "    <tr>\n",
       "      <th>2</th>\n",
       "      <td>4</td>\n",
       "      <td>2</td>\n",
       "      <td>3</td>\n",
       "      <td>4</td>\n",
       "      <td>3</td>\n",
       "      <td>4</td>\n",
       "      <td>4</td>\n",
       "      <td>3</td>\n",
       "      <td>4</td>\n",
       "      <td>4</td>\n",
       "      <td>2</td>\n",
       "      <td>3</td>\n",
       "      <td>4</td>\n",
       "      <td>3</td>\n",
       "    </tr>\n",
       "    <tr>\n",
       "      <th>3</th>\n",
       "      <td>1</td>\n",
       "      <td>2</td>\n",
       "      <td>1</td>\n",
       "      <td>2</td>\n",
       "      <td>2</td>\n",
       "      <td>2</td>\n",
       "      <td>2</td>\n",
       "      <td>3</td>\n",
       "      <td>2</td>\n",
       "      <td>3</td>\n",
       "      <td>1</td>\n",
       "      <td>2</td>\n",
       "      <td>2</td>\n",
       "      <td>1</td>\n",
       "    </tr>\n",
       "    <tr>\n",
       "      <th>4</th>\n",
       "      <td>4</td>\n",
       "      <td>4</td>\n",
       "      <td>4</td>\n",
       "      <td>4</td>\n",
       "      <td>4</td>\n",
       "      <td>4</td>\n",
       "      <td>4</td>\n",
       "      <td>4</td>\n",
       "      <td>4</td>\n",
       "      <td>4</td>\n",
       "      <td>4</td>\n",
       "      <td>4</td>\n",
       "      <td>4</td>\n",
       "      <td>4</td>\n",
       "    </tr>\n",
       "    <tr>\n",
       "      <th>5</th>\n",
       "      <td>1</td>\n",
       "      <td>2</td>\n",
       "      <td>2</td>\n",
       "      <td>2</td>\n",
       "      <td>2</td>\n",
       "      <td>2</td>\n",
       "      <td>2</td>\n",
       "      <td>3</td>\n",
       "      <td>2</td>\n",
       "      <td>3</td>\n",
       "      <td>1</td>\n",
       "      <td>2</td>\n",
       "      <td>1</td>\n",
       "      <td>2</td>\n",
       "    </tr>\n",
       "    <tr>\n",
       "      <th>6</th>\n",
       "      <td>2</td>\n",
       "      <td>2</td>\n",
       "      <td>2</td>\n",
       "      <td>2</td>\n",
       "      <td>2</td>\n",
       "      <td>2</td>\n",
       "      <td>2</td>\n",
       "      <td>2</td>\n",
       "      <td>2</td>\n",
       "      <td>2</td>\n",
       "      <td>1</td>\n",
       "      <td>2</td>\n",
       "      <td>2</td>\n",
       "      <td>1</td>\n",
       "    </tr>\n",
       "    <tr>\n",
       "      <th>7</th>\n",
       "      <td>3</td>\n",
       "      <td>3</td>\n",
       "      <td>3</td>\n",
       "      <td>3</td>\n",
       "      <td>4</td>\n",
       "      <td>3</td>\n",
       "      <td>4</td>\n",
       "      <td>4</td>\n",
       "      <td>3</td>\n",
       "      <td>3</td>\n",
       "      <td>3</td>\n",
       "      <td>3</td>\n",
       "      <td>3</td>\n",
       "      <td>3</td>\n",
       "    </tr>\n",
       "    <tr>\n",
       "      <th>8</th>\n",
       "      <td>4</td>\n",
       "      <td>3</td>\n",
       "      <td>3</td>\n",
       "      <td>3</td>\n",
       "      <td>4</td>\n",
       "      <td>4</td>\n",
       "      <td>3</td>\n",
       "      <td>4</td>\n",
       "      <td>3</td>\n",
       "      <td>3</td>\n",
       "      <td>3</td>\n",
       "      <td>3</td>\n",
       "      <td>3</td>\n",
       "      <td>3</td>\n",
       "    </tr>\n",
       "    <tr>\n",
       "      <th>9</th>\n",
       "      <td>3</td>\n",
       "      <td>3</td>\n",
       "      <td>3</td>\n",
       "      <td>3</td>\n",
       "      <td>3</td>\n",
       "      <td>4</td>\n",
       "      <td>3</td>\n",
       "      <td>4</td>\n",
       "      <td>3</td>\n",
       "      <td>3</td>\n",
       "      <td>3</td>\n",
       "      <td>3</td>\n",
       "      <td>4</td>\n",
       "      <td>3</td>\n",
       "    </tr>\n",
       "    <tr>\n",
       "      <th>10</th>\n",
       "      <td>4</td>\n",
       "      <td>3</td>\n",
       "      <td>4</td>\n",
       "      <td>3</td>\n",
       "      <td>3</td>\n",
       "      <td>3</td>\n",
       "      <td>4</td>\n",
       "      <td>4</td>\n",
       "      <td>4</td>\n",
       "      <td>4</td>\n",
       "      <td>4</td>\n",
       "      <td>4</td>\n",
       "      <td>4</td>\n",
       "      <td>4</td>\n",
       "    </tr>\n",
       "    <tr>\n",
       "      <th>11</th>\n",
       "      <td>2</td>\n",
       "      <td>2</td>\n",
       "      <td>1</td>\n",
       "      <td>2</td>\n",
       "      <td>1</td>\n",
       "      <td>2</td>\n",
       "      <td>3</td>\n",
       "      <td>3</td>\n",
       "      <td>2</td>\n",
       "      <td>3</td>\n",
       "      <td>2</td>\n",
       "      <td>1</td>\n",
       "      <td>2</td>\n",
       "      <td>2</td>\n",
       "    </tr>\n",
       "    <tr>\n",
       "      <th>12</th>\n",
       "      <td>4</td>\n",
       "      <td>4</td>\n",
       "      <td>4</td>\n",
       "      <td>3</td>\n",
       "      <td>4</td>\n",
       "      <td>4</td>\n",
       "      <td>4</td>\n",
       "      <td>4</td>\n",
       "      <td>4</td>\n",
       "      <td>4</td>\n",
       "      <td>4</td>\n",
       "      <td>3</td>\n",
       "      <td>4</td>\n",
       "      <td>3</td>\n",
       "    </tr>\n",
       "    <tr>\n",
       "      <th>13</th>\n",
       "      <td>3</td>\n",
       "      <td>2</td>\n",
       "      <td>2</td>\n",
       "      <td>2</td>\n",
       "      <td>2</td>\n",
       "      <td>1</td>\n",
       "      <td>3</td>\n",
       "      <td>1</td>\n",
       "      <td>2</td>\n",
       "      <td>3</td>\n",
       "      <td>2</td>\n",
       "      <td>1</td>\n",
       "      <td>3</td>\n",
       "      <td>1</td>\n",
       "    </tr>\n",
       "    <tr>\n",
       "      <th>14</th>\n",
       "      <td>3</td>\n",
       "      <td>2</td>\n",
       "      <td>3</td>\n",
       "      <td>2</td>\n",
       "      <td>1</td>\n",
       "      <td>3</td>\n",
       "      <td>4</td>\n",
       "      <td>4</td>\n",
       "      <td>2</td>\n",
       "      <td>4</td>\n",
       "      <td>2</td>\n",
       "      <td>2</td>\n",
       "      <td>3</td>\n",
       "      <td>2</td>\n",
       "    </tr>\n",
       "    <tr>\n",
       "      <th>15</th>\n",
       "      <td>3</td>\n",
       "      <td>3</td>\n",
       "      <td>3</td>\n",
       "      <td>3</td>\n",
       "      <td>3</td>\n",
       "      <td>4</td>\n",
       "      <td>4</td>\n",
       "      <td>4</td>\n",
       "      <td>3</td>\n",
       "      <td>4</td>\n",
       "      <td>3</td>\n",
       "      <td>3</td>\n",
       "      <td>4</td>\n",
       "      <td>4</td>\n",
       "    </tr>\n",
       "    <tr>\n",
       "      <th>16</th>\n",
       "      <td>3</td>\n",
       "      <td>2</td>\n",
       "      <td>2</td>\n",
       "      <td>1</td>\n",
       "      <td>3</td>\n",
       "      <td>3</td>\n",
       "      <td>2</td>\n",
       "      <td>2</td>\n",
       "      <td>2</td>\n",
       "      <td>3</td>\n",
       "      <td>2</td>\n",
       "      <td>2</td>\n",
       "      <td>4</td>\n",
       "      <td>1</td>\n",
       "    </tr>\n",
       "    <tr>\n",
       "      <th>17</th>\n",
       "      <td>2</td>\n",
       "      <td>2</td>\n",
       "      <td>1</td>\n",
       "      <td>2</td>\n",
       "      <td>2</td>\n",
       "      <td>2</td>\n",
       "      <td>3</td>\n",
       "      <td>3</td>\n",
       "      <td>2</td>\n",
       "      <td>3</td>\n",
       "      <td>2</td>\n",
       "      <td>2</td>\n",
       "      <td>3</td>\n",
       "      <td>2</td>\n",
       "    </tr>\n",
       "    <tr>\n",
       "      <th>18</th>\n",
       "      <td>3</td>\n",
       "      <td>2</td>\n",
       "      <td>1</td>\n",
       "      <td>2</td>\n",
       "      <td>1</td>\n",
       "      <td>2</td>\n",
       "      <td>2</td>\n",
       "      <td>2</td>\n",
       "      <td>2</td>\n",
       "      <td>3</td>\n",
       "      <td>1</td>\n",
       "      <td>2</td>\n",
       "      <td>2</td>\n",
       "      <td>2</td>\n",
       "    </tr>\n",
       "    <tr>\n",
       "      <th>19</th>\n",
       "      <td>3</td>\n",
       "      <td>3</td>\n",
       "      <td>3</td>\n",
       "      <td>3</td>\n",
       "      <td>3</td>\n",
       "      <td>4</td>\n",
       "      <td>4</td>\n",
       "      <td>3</td>\n",
       "      <td>3</td>\n",
       "      <td>3</td>\n",
       "      <td>3</td>\n",
       "      <td>2</td>\n",
       "      <td>4</td>\n",
       "      <td>3</td>\n",
       "    </tr>\n",
       "  </tbody>\n",
       "</table>\n",
       "</div>"
      ],
      "text/plain": [
       "    0  1  2  3  4  6  7  8  9  10  11  12  13  our\n",
       "0   1  2  1  3  1  2  2  2  3   3   1   2   3    2\n",
       "1   3  2  4  2  4  4  3  3  4   3   3   4   4    2\n",
       "2   4  2  3  4  3  4  4  3  4   4   2   3   4    3\n",
       "3   1  2  1  2  2  2  2  3  2   3   1   2   2    1\n",
       "4   4  4  4  4  4  4  4  4  4   4   4   4   4    4\n",
       "5   1  2  2  2  2  2  2  3  2   3   1   2   1    2\n",
       "6   2  2  2  2  2  2  2  2  2   2   1   2   2    1\n",
       "7   3  3  3  3  4  3  4  4  3   3   3   3   3    3\n",
       "8   4  3  3  3  4  4  3  4  3   3   3   3   3    3\n",
       "9   3  3  3  3  3  4  3  4  3   3   3   3   4    3\n",
       "10  4  3  4  3  3  3  4  4  4   4   4   4   4    4\n",
       "11  2  2  1  2  1  2  3  3  2   3   2   1   2    2\n",
       "12  4  4  4  3  4  4  4  4  4   4   4   3   4    3\n",
       "13  3  2  2  2  2  1  3  1  2   3   2   1   3    1\n",
       "14  3  2  3  2  1  3  4  4  2   4   2   2   3    2\n",
       "15  3  3  3  3  3  4  4  4  3   4   3   3   4    4\n",
       "16  3  2  2  1  3  3  2  2  2   3   2   2   4    1\n",
       "17  2  2  1  2  2  2  3  3  2   3   2   2   3    2\n",
       "18  3  2  1  2  1  2  2  2  2   3   1   2   2    2\n",
       "19  3  3  3  3  3  4  4  3  3   3   3   2   4    3"
      ]
     },
     "execution_count": 90,
     "metadata": {},
     "output_type": "execute_result"
    }
   ],
   "source": [
    "prim"
   ]
  },
  {
   "cell_type": "code",
   "execution_count": 80,
   "metadata": {},
   "outputs": [],
   "source": [
    "mean = prim.mean(axis=1)"
   ]
  },
  {
   "cell_type": "code",
   "execution_count": 81,
   "metadata": {},
   "outputs": [],
   "source": [
    "std = prim.std(axis=1)"
   ]
  },
  {
   "cell_type": "code",
   "execution_count": 82,
   "metadata": {},
   "outputs": [],
   "source": [
    "prim['our'] = [2, 2, 3, 1, 4, 2, 1, 3, 3, 3, 4, 2, 3, 1, 2, 4, 1, 2, 2, 3]"
   ]
  },
  {
   "cell_type": "code",
   "execution_count": 83,
   "metadata": {},
   "outputs": [],
   "source": [
    "diff = prim['our'] - mean"
   ]
  },
  {
   "cell_type": "code",
   "execution_count": 87,
   "metadata": {},
   "outputs": [
    {
     "name": "stdout",
     "output_type": "stream",
     "text": [
      "Average standard deviation: 0.5794957497963371\n",
      "Average difference: -0.38076923076923086\n"
     ]
    }
   ],
   "source": [
    "avg_diff = sum(diff) / len(diff)\n",
    "avg_std = sum(std) / len(std)\n",
    "\n",
    "print(\"Average standard deviation:\", avg_std)\n",
    "print(\"Average difference:\", avg_diff)"
   ]
  },
  {
   "cell_type": "markdown",
   "metadata": {},
   "source": [
    "#### Fleiss $\\kappa$"
   ]
  },
  {
   "cell_type": "code",
   "execution_count": 66,
   "metadata": {},
   "outputs": [],
   "source": [
    "prim_cpt = np.asarray([\n",
    "    [4,6,4,0],\n",
    "    [0,3,5,6],\n",
    "    [0,2,5,7],\n",
    "    [4,8,2,0],\n",
    "    [0,0,0,14],\n",
    "    [3,9,2,0],\n",
    "    [2,12,0,0],\n",
    "    [0,0,11,3],\n",
    "    [0,0,10,4],\n",
    "    [0,0,11,3],\n",
    "    [0,0,4,10],\n",
    "    [3,8,3,0],\n",
    "    [0,0,3,11],\n",
    "    [4,6,4,0],\n",
    "    [1,6,4,3],\n",
    "    [0,0,8,6],\n",
    "    [2,7,4,1],\n",
    "    [1,9,4,0],\n",
    "    [3,9,2,0],\n",
    "    [0,1,10,3]\n",
    "])\n",
    "\n",
    "def fleiss_kappa(M):\n",
    "  \"\"\"\n",
    "  See `Fleiss' Kappa <https://en.wikipedia.org/wiki/Fleiss%27_kappa>`_.\n",
    "  :param M: a matrix of shape (:attr:`N`, :attr:`k`) where `N` is the number of subjects and `k` is the number of categories into which assignments are made. `M[i, j]` represent the number of raters who assigned the `i`th subject to the `j`th category.\n",
    "  :type M: numpy matrix\n",
    "  \"\"\"\n",
    "  N, k = M.shape  # N is # of items, k is # of categories\n",
    "  n_annotators = float(np.sum(M[0, :]))  # # of annotators\n",
    "\n",
    "  p = np.sum(M, axis=0) / (N * n_annotators)\n",
    "  P = (np.sum(M * M, axis=1) - n_annotators) / (n_annotators * (n_annotators - 1))\n",
    "  Pbar = np.sum(P) / N\n",
    "  PbarE = np.sum(p * p)\n",
    "\n",
    "  kappa = (Pbar - PbarE) / (1 - PbarE)\n",
    "\n",
    "  return kappa"
   ]
  },
  {
   "cell_type": "code",
   "execution_count": 67,
   "metadata": {},
   "outputs": [
    {
     "data": {
      "text/plain": [
       "0.2786933870157121"
      ]
     },
     "execution_count": 67,
     "metadata": {},
     "output_type": "execute_result"
    }
   ],
   "source": [
    "fleiss_kappa(prim_cpt)"
   ]
  },
  {
   "cell_type": "markdown",
   "metadata": {},
   "source": [
    "#### Plotting"
   ]
  },
  {
   "cell_type": "code",
   "execution_count": 56,
   "metadata": {},
   "outputs": [],
   "source": [
    "labels = list(range(1, 21))\n",
    "x = np.arange(len(labels))\n",
    "\n",
    "width = 0.27"
   ]
  },
  {
   "cell_type": "code",
   "execution_count": 91,
   "metadata": {},
   "outputs": [
    {
     "data": {
      "image/png": "[encoded data removed]",
      "text/plain": [
       "<Figure size 792x432 with 1 Axes>"
      ]
     },
     "metadata": {
      "needs_background": "light"
     },
     "output_type": "display_data"
    }
   ],
   "source": [
    "fig, ax = plt.subplots(figsize=(11, 6))\n",
    "\n",
    "rects1 = ax.bar(x - width, np.asarray(prim['our']), width, color='#ffa31a', label='Our annotation')\n",
    "rects2 = ax.bar(x, np.asarray(mean), width, color='#1aa3ff', yerr=np.asarray(std), error_kw=dict(ecolor='black', lw=1, capsize=1, capthick=1), label='Survey mean')\n",
    "rects3 = ax.bar(x + width, np.asarray(diff), width, color='grey', alpha=0.8, label='Difference')\n",
    "\n",
    "# Add some text for labels, title and custom x-axis tick labels, etc.\n",
    "ax.set_title('Annotation score comparison')\n",
    "ax.set_ylabel('Constructiveness scores')\n",
    "ax.set_xlabel('Review n°')\n",
    "# ax.set_title('Annotation Agreement')\n",
    "ax.set_xticks(x)\n",
    "ax.set_xticklabels(labels)\n",
    "ax.legend(loc='lower right')\n",
    "\n",
    "def autolabel(rects):\n",
    "    \"\"\"Attach a text label above each bar in *rects*, displaying its height.\"\"\"\n",
    "    for rect in rects:\n",
    "        height = rect.get_height()\n",
    "\n",
    "        ax.annotate('{0:.1f}'.format(height),\n",
    "                    xy=(rect.get_x() + rect.get_width() / 2, height),\n",
    "                    xytext=(0, height - 2 if height <= 0 else -(height*100/1.5)),\n",
    "                    textcoords=\"offset pixels\",\n",
    "                    ha='center', va='top')\n",
    "\n",
    "autolabel(rects3)\n",
    "\n",
    "\n",
    "fig.tight_layout()\n",
    "\n",
    "#fig.savefig(PATH_IMAGES + 'agreement_4classes_blueorange.png', format='png', bbox_inches='tight')\n",
    "plt.show()"
   ]
  },
  {
   "cell_type": "markdown",
   "metadata": {},
   "source": [
    "## Experiment 2"
   ]
  },
  {
   "cell_type": "code",
   "execution_count": 17,
   "metadata": {},
   "outputs": [],
   "source": [
    "e_2 = e_2.dropna().copy()\n",
    "if 'Unnamed: 0' in e_2.columns:\n",
    "    e_2 = e_2.drop('Unnamed: 0', axis=1)"
   ]
  },
  {
   "cell_type": "code",
   "execution_count": 28,
   "metadata": {},
   "outputs": [],
   "source": [
    "annot1, annot2 = np.asarray(e_2['annot_1']), np.asarray(e_2['annot_2'])"
   ]
  },
  {
   "cell_type": "code",
   "execution_count": 59,
   "metadata": {},
   "outputs": [],
   "source": [
    "def repl_val(n):\n",
    "    if n == 'a':\n",
    "        return 0\n",
    "    elif n == 'b':\n",
    "        return 1\n",
    "    elif n == 'c':\n",
    "        return 2\n",
    "    elif n == 'd':\n",
    "        return 3\n",
    "    else:\n",
    "        return np.nan\n",
    "\n",
    "int_annot1 = list(map(repl_val, annot1))\n",
    "int_annot2 = list(map(repl_val, annot2))\n",
    "\n",
    "bin_annot1 = [0 if x == 'a' or x == 'b' else 1 for x in annot1]\n",
    "bin_annot2 = [0 if x == 'a' or x == 'b' else 1 for x in annot2]"
   ]
  },
  {
   "cell_type": "markdown",
   "metadata": {},
   "source": [
    "#### Computing various metrics"
   ]
  },
  {
   "cell_type": "code",
   "execution_count": 122,
   "metadata": {
    "scrolled": true
   },
   "outputs": [
    {
     "name": "stdout",
     "output_type": "stream",
     "text": [
      "Cohen's kappa - 4 classes: 0.7572815533980582\n",
      "Cohen's kappa - 2 classes: 0.7906197654941374\n",
      "\n",
      "Spearman's rho - 4 classes: 0.8351969991875762 4.66793722808342e-14\n",
      "Spearman's rho - 2 classes: 0.7969335501652227 4.414279606748595e-12\n",
      "\n",
      "Person's correlation - 4 classes: (0.8227464470410826, 2.3091143261145734e-13)\n",
      "Person's correlation - 2 classes: (0.7969335501652225, 4.414279606748695e-12)\n",
      "\n",
      "Kendall's tau - 4 classes: 0.7778825782779683 5.474114292416332e-10\n",
      "Kendall's tau - 2 classes: 0.7969335501652227 2.4255288368277895e-08\n",
      "\n",
      "Wilcoxon's signed rank test - 4 classes: 123.0 0.0028599382084640882\n",
      "Wilcoxon's signed rank test - 2 classes: 48.0 0.17971249487899976\n"
     ]
    }
   ],
   "source": [
    "print(\"Cohen's kappa - 4 classes:\", cohen_kappa_score(int_annot1, int_annot2, weights='quadratic'))\n",
    "print(\"Cohen's kappa - 2 classes:\", cohen_kappa_score(bin_annot1, bin_annot2, weights='quadratic'))\n",
    "print(\"\")\n",
    "\n",
    "print(\"Spearman's rho - 4 classes:\", spearmanr(int_annot1, int_annot2)[0], spearmanr(int_annot1, int_annot2)[1])\n",
    "print(\"Spearman's rho - 2 classes:\", spearmanr(bin_annot1, bin_annot2)[0], spearmanr(bin_annot1, bin_annot2)[1])\n",
    "print(\"\")\n",
    "\n",
    "print(\"Person's correlation - 4 classes:\", pearsonr(int_annot1, int_annot2))\n",
    "print(\"Person's correlation - 2 classes:\", pearsonr(bin_annot1, bin_annot2))\n",
    "print(\"\")\n",
    "\n",
    "print(\"Kendall's tau - 4 classes:\", kendalltau(int_annot1, int_annot2)[0], kendalltau(int_annot1, int_annot2)[1])\n",
    "print(\"Kendall's tau - 2 classes:\", kendalltau(bin_annot1, bin_annot2)[0], kendalltau(bin_annot1, bin_annot2)[1])\n",
    "print(\"\")\n",
    "\n",
    "print(\"Wilcoxon's signed rank test - 4 classes:\", wilcoxon(int_annot1, int_annot2, 'pratt')[0], wilcoxon(int_annot1, int_annot2, 'pratt')[1])\n",
    "print(\"Wilcoxon's signed rank test - 2 classes:\", wilcoxon(bin_annot1, bin_annot2, 'pratt')[0], wilcoxon(bin_annot1, bin_annot2, 'pratt')[1])"
   ]
  },
  {
   "cell_type": "markdown",
   "metadata": {},
   "source": [
    "#### Ploting the distributions"
   ]
  },
  {
   "cell_type": "code",
   "execution_count": 281,
   "metadata": {},
   "outputs": [
    {
     "data": {
      "image/png": "[encoded data removed]",
      "text/plain": [
       "<Figure size 792x360 with 1 Axes>"
      ]
     },
     "metadata": {
      "needs_background": "light"
     },
     "output_type": "display_data"
    }
   ],
   "source": [
    "fig, ax = plt.subplots(figsize=(11, 5))\n",
    "\n",
    "labels = list(range(1, 51))\n",
    "x = np.arange(len(labels))\n",
    "xlin = np.linspace(x.min(), x.max(), 200)\n",
    "\n",
    "\n",
    "for i, color, label in ((int_annot1, 'red', 'Our annotation'), (int_annot2, 'blue', 'Extra Annotation')):\n",
    "    spl = make_interp_spline(x, i, k=7)  # type: BSpline\n",
    "    power_smooth = spl(xlin)\n",
    "    ax.plot(xlin, power_smooth, color, alpha=0.6, linestyle='solid', label=label)\n",
    "\n",
    "# Add some text for labels, title and custom x-axis tick labels, etc.\n",
    "ax.set_title('Annotation distributions')\n",
    "ax.set_ylabel('Constructiveness scores')\n",
    "ax.set_xlabel('Sentence n°')\n",
    "# ax.set_title('Annotation Agreement')\n",
    "ax.set_xticks(x)\n",
    "ax.set_xticklabels(labels)\n",
    "ax.legend(loc='lower right')\n",
    "\n",
    "fig.tight_layout()\n",
    "\n",
    "#fig.savefig(PATH_IMAGES + 'agreement_4classes_2figures.png', format='png', bbox_inches='tight')\n",
    "plt.show()"
   ]
  },
  {
   "cell_type": "code",
   "execution_count": null,
   "metadata": {},
   "outputs": [],
   "source": []
  }
 ],
 "metadata": {
  "kernelspec": {
   "display_name": "Python 3",
   "language": "python",
   "name": "python3"
  },
  "language_info": {
   "codemirror_mode": {
    "name": "ipython",
    "version": 3
   },
   "file_extension": ".py",
   "mimetype": "text/x-python",
   "name": "python",
   "nbconvert_exporter": "python",
   "pygments_lexer": "ipython3",
   "version": "3.6.4"
  }
 },
 "nbformat": 4,
 "nbformat_minor": 2
}
