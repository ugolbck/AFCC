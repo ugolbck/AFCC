{
 "cells": [
  {
   "cell_type": "code",
   "execution_count": 567,
   "metadata": {},
   "outputs": [],
   "source": [
    "import pandas as pd\n",
    "import numpy as np\n",
    "import matplotlib.pyplot as plt\n",
    "import seaborn as sns\n",
    "from itertools import islice\n",
    "\n",
    "from sklearn.utils import class_weight\n",
    "from sklearn.metrics import confusion_matrix, classification_report, accuracy_score, f1_score\n",
    "\n",
    "from keras.utils import to_categorical\n",
    "from keras.preprocessing.text import Tokenizer\n",
    "from keras.preprocessing.sequence import pad_sequences\n",
    "from keras.models import Model, load_model\n",
    "from keras.layers.embeddings import Embedding\n",
    "from keras.layers.core import Dropout, Dense\n",
    "from keras.layers import Input, TimeDistributed, LSTM, Bidirectional, Conv1D, MaxPooling1D, Flatten\n",
    "from keras.optimizers import Adam\n",
    "from keras.callbacks import EarlyStopping, ModelCheckpoint\n",
    "\n",
    "from keras_lr_finder import LRFinder"
   ]
  },
  {
   "cell_type": "code",
   "execution_count": 385,
   "metadata": {},
   "outputs": [],
   "source": [
    "PATH_DATA = '../data/data/'\n",
    "PATH_MODELS = '../../models/'\n",
    "PATH_IMAGES = '../assets/images/'\n",
    "PATH_EMBED = '../../'\n",
    "PATH_RESULTS = '../results/'"
   ]
  },
  {
   "cell_type": "code",
   "execution_count": 372,
   "metadata": {},
   "outputs": [],
   "source": [
    "train = pd.read_csv(PATH_DATA+'CRC_3200_train.csv')\n",
    "test = pd.read_csv(PATH_DATA+'CRC_800_test.csv')\n",
    "c3 = pd.read_csv(PATH_DATA+'C3_12000.csv')\n",
    "ynacc = pd.read_csv(PATH_DATA+'YNACC.csv')"
   ]
  },
  {
   "cell_type": "code",
   "execution_count": 588,
   "metadata": {},
   "outputs": [],
   "source": [
    "# training set\n",
    "X_train = np.asarray(train.text_review)\n",
    "y_train = to_categorical(train.tag)\n",
    "\n",
    "# test set\n",
    "X_test = np.asarray(test.text_review)\n",
    "y_test = to_categorical(test.tag)\n",
    "\n",
    "X_test_c3 = np.asarray(c3.text_review)\n",
    "y_test_c3 = np.asarray(c3.bin_tag)\n",
    "\n",
    "X_test_ynacc = np.asarray(ynacc.text_review)\n",
    "y_test_ynacc = np.asarray(ynacc.bin_tag)"
   ]
  },
  {
   "cell_type": "markdown",
   "metadata": {},
   "source": [
    "Determining the maximum length of inputs."
   ]
  },
  {
   "cell_type": "code",
   "execution_count": 518,
   "metadata": {},
   "outputs": [
    {
     "name": "stdout",
     "output_type": "stream",
     "text": [
      "count    3200.000000\n",
      "mean       62.586250\n",
      "std       118.035125\n",
      "min         1.000000\n",
      "25%        13.000000\n",
      "50%        29.000000\n",
      "75%        66.000000\n",
      "90%       136.000000\n",
      "99%       523.010000\n",
      "max      2865.000000\n",
      "Name: num_tokens, dtype: float64\n"
     ]
    }
   ],
   "source": [
    "print(train.num_tokens.describe(percentiles=[.25, .5, .75, .9, .99]))"
   ]
  },
  {
   "cell_type": "markdown",
   "metadata": {},
   "source": [
    "150 seems like a good value"
   ]
  },
  {
   "cell_type": "code",
   "execution_count": 118,
   "metadata": {},
   "outputs": [],
   "source": [
    "MAXLEN = 150\n",
    "\n",
    "tokenizer = Tokenizer(num_words=20000, filters='', lower=True, char_level=False)\n",
    "\n",
    "tokenizer.fit_on_texts(X_train)\n",
    "\n",
    "X_train_tok = tokenizer.texts_to_sequences(X_train)\n",
    "X_test_tok = tokenizer.texts_to_sequences(X_test)\n",
    "\n",
    "VOCAB_SIZE = len(tokenizer.word_index) + 1\n",
    "\n",
    "X_train_final = pad_sequences(X_train_tok, maxlen=MAXLEN, padding='post', truncating='post')\n",
    "X_test_final = pad_sequences(X_test_tok, maxlen=MAXLEN, padding='post', truncating='post')"
   ]
  },
  {
   "cell_type": "markdown",
   "metadata": {},
   "source": [
    "## Loading and mapping GloVe embeddings"
   ]
  },
  {
   "cell_type": "code",
   "execution_count": 199,
   "metadata": {},
   "outputs": [],
   "source": [
    "glove = PATH_EMBED + 'glove.twitter.27B.200d.txt'\n",
    "\n",
    "def load_words(embd_filepath):\n",
    "    embd_dict = dict()\n",
    "    with open(embd_filepath, encoding=\"utf8\") as emb_file:\n",
    "        for line in islice(emb_file, 1, None):\n",
    "            records = line.split(' ')\n",
    "            word = records[0]\n",
    "            vector = np.asarray(records[1:], dtype='float32')            \n",
    "            embd_dict[word] = vector\n",
    "    return embd_dict\n",
    "\n",
    "embd_dict = load_words(glove)"
   ]
  },
  {
   "cell_type": "code",
   "execution_count": 200,
   "metadata": {},
   "outputs": [],
   "source": [
    "word_embedding = np.zeros((VOCAB_SIZE, 200))\n",
    "\n",
    "for word, index in tokenizer.word_index.items():\n",
    "    embedding_vector = embd_dict.get(word)\n",
    "    if embedding_vector is not None:\n",
    "        word_embedding[index] = embedding_vector"
   ]
  },
  {
   "cell_type": "code",
   "execution_count": 519,
   "metadata": {},
   "outputs": [
    {
     "name": "stdout",
     "output_type": "stream",
     "text": [
      "82.83789139912803% of the vocabulary was found in the pre-trained embedding.\n"
     ]
    }
   ],
   "source": [
    "rate = (np.count_nonzero(np.count_nonzero(word_embedding, axis=1)) / VOCAB_SIZE) * 100\n",
    "print(str(rate) + \"%\", \"of the vocabulary was found in the pre-trained embedding.\")"
   ]
  },
  {
   "cell_type": "markdown",
   "metadata": {},
   "source": [
    "## Model building"
   ]
  },
  {
   "cell_type": "code",
   "execution_count": 529,
   "metadata": {},
   "outputs": [],
   "source": [
    "def make_model(vocab_size, maxlen, embeddings):\n",
    "    \n",
    "    #input\n",
    "    input_layer = Input(shape=(None,), name='Input')\n",
    "    \n",
    "    #embedding\n",
    "    embedding_layer = Embedding(vocab_size, 200, weights=[embeddings],\n",
    "                            input_length=maxlen, trainable=True)(input_layer)\n",
    "    \n",
    "    #LSTM\n",
    "    rnn_layer = Bidirectional(LSTM(64, return_sequences=True))(embedding_layer)\n",
    "    rnn_layer = Bidirectional(LSTM(64, return_sequences=False))(rnn_layer)\n",
    "    \n",
    "    \n",
    "    #dropout\n",
    "    dropout_layer = Dropout(0.1)(rnn_layer)\n",
    "    \n",
    "    #softmax\n",
    "    output_layer = Dense(4, activation='softmax')(dropout_layer)\n",
    "    \n",
    "    return Model(inputs=input_layer, outputs=output_layer)"
   ]
  },
  {
   "cell_type": "code",
   "execution_count": 553,
   "metadata": {},
   "outputs": [],
   "source": [
    "model = make_model(VOCAB_SIZE, MAXLEN, word_embedding)"
   ]
  },
  {
   "cell_type": "code",
   "execution_count": 554,
   "metadata": {},
   "outputs": [],
   "source": [
    "model.compile(optimizer=Adam(),\n",
    "              loss='categorical_crossentropy',\n",
    "              weighted_metrics=['categorical_accuracy'],\n",
    "             )"
   ]
  },
  {
   "cell_type": "code",
   "execution_count": 555,
   "metadata": {},
   "outputs": [
    {
     "name": "stderr",
     "output_type": "stream",
     "text": [
      "/Library/Frameworks/Python.framework/Versions/3.6/lib/python3.6/site-packages/tensorflow_core/python/framework/indexed_slices.py:433: UserWarning: Converting sparse IndexedSlices to a dense Tensor of unknown shape. This may consume a large amount of memory.\n",
      "  \"Converting sparse IndexedSlices to a dense Tensor of unknown shape. \"\n"
     ]
    },
    {
     "name": "stdout",
     "output_type": "stream",
     "text": [
      "Epoch 1/1\n",
      "3200/3200 [==============================] - 22s 7ms/step - loss: 1.2442 - categorical_accuracy: 0.4275\n"
     ]
    }
   ],
   "source": [
    "lr_finder = LRFinder(model)\n",
    "lr_finder.find(X_train_final, y_train, 0.00001, 0.1, 64, 1)"
   ]
  },
  {
   "cell_type": "code",
   "execution_count": 556,
   "metadata": {},
   "outputs": [
    {
     "data": {
      "image/png": "[encoded data removed]",
      "text/plain": [
       "<Figure size 432x288 with 1 Axes>"
      ]
     },
     "metadata": {
      "needs_background": "light"
     },
     "output_type": "display_data"
    }
   ],
   "source": [
    "lr_finder.plot_loss()"
   ]
  },
  {
   "cell_type": "code",
   "execution_count": 557,
   "metadata": {},
   "outputs": [],
   "source": [
    "hyperparameters = {\n",
    "    'lr': 0.005,\n",
    "    'epochs': 6,\n",
    "    'batch_size': 64,\n",
    "    'validation_size': 0.1,\n",
    "}"
   ]
  },
  {
   "cell_type": "code",
   "execution_count": 558,
   "metadata": {},
   "outputs": [],
   "source": [
    "#early stopping\n",
    "early_stop = EarlyStopping(monitor='val_loss', min_delta=0.0001, patience=1, mode='min', verbose=1)\n",
    "\n",
    "#model checkpoints\n",
    "checkpoints = ModelCheckpoint(PATH_MODELS+'best.multi.bilstm2.weights.hdf5', save_best_only=True, monitor='val_loss', mode='min', verbose=1)\n",
    "\n",
    "#class weights\n",
    "weights = class_weight.compute_class_weight('balanced', np.unique(test.tag), test.tag)\n",
    "class_weights = dict(enumerate(weights))"
   ]
  },
  {
   "cell_type": "code",
   "execution_count": 559,
   "metadata": {},
   "outputs": [
    {
     "name": "stdout",
     "output_type": "stream",
     "text": [
      "Train on 2880 samples, validate on 320 samples\n",
      "Epoch 1/6\n",
      "2880/2880 [==============================] - 20s 7ms/step - loss: 1.1895 - categorical_accuracy: 0.4682 - val_loss: 0.9851 - val_categorical_accuracy: 0.5908\n",
      "\n",
      "Epoch 00001: val_loss improved from inf to 0.98511, saving model to ../../models/best.multi.bilstm2.weights.hdf5\n",
      "Epoch 2/6\n",
      "2880/2880 [==============================] - 20s 7ms/step - loss: 0.8605 - categorical_accuracy: 0.6358 - val_loss: 0.8374 - val_categorical_accuracy: 0.6639\n",
      "\n",
      "Epoch 00002: val_loss improved from 0.98511 to 0.83744, saving model to ../../models/best.multi.bilstm2.weights.hdf5\n",
      "Epoch 3/6\n",
      "2880/2880 [==============================] - 21s 7ms/step - loss: 0.7497 - categorical_accuracy: 0.7056 - val_loss: 0.7952 - val_categorical_accuracy: 0.6662\n",
      "\n",
      "Epoch 00003: val_loss improved from 0.83744 to 0.79515, saving model to ../../models/best.multi.bilstm2.weights.hdf5\n",
      "Epoch 4/6\n",
      "2880/2880 [==============================] - 20s 7ms/step - loss: 0.5956 - categorical_accuracy: 0.7629 - val_loss: 0.8178 - val_categorical_accuracy: 0.6967\n",
      "\n",
      "Epoch 00004: val_loss did not improve from 0.79515\n",
      "Epoch 00004: early stopping\n"
     ]
    }
   ],
   "source": [
    "history = model.fit(X_train_final,\n",
    "                    y_train, \n",
    "                    batch_size=hyperparameters['batch_size'],\n",
    "                    epochs=hyperparameters['epochs'],\n",
    "                    validation_split=hyperparameters['validation_size'],\n",
    "                    callbacks=[early_stop, checkpoints],\n",
    "                    class_weight=class_weights,\n",
    "                    verbose=1,\n",
    "                   )"
   ]
  },
  {
   "cell_type": "markdown",
   "metadata": {},
   "source": [
    "## Ploting"
   ]
  },
  {
   "cell_type": "code",
   "execution_count": 560,
   "metadata": {},
   "outputs": [
    {
     "data": {
      "image/png": "[encoded data removed]",
      "text/plain": [
       "<Figure size 432x288 with 1 Axes>"
      ]
     },
     "metadata": {
      "needs_background": "light"
     },
     "output_type": "display_data"
    },
    {
     "data": {
      "image/png": "[encoded data removed]",
      "text/plain": [
       "<Figure size 432x288 with 1 Axes>"
      ]
     },
     "metadata": {
      "needs_background": "light"
     },
     "output_type": "display_data"
    }
   ],
   "source": [
    "plt.plot(history.history['categorical_accuracy'])\n",
    "plt.plot(history.history['val_categorical_accuracy'])\n",
    "\n",
    "plt.title('model accuracy')\n",
    "plt.ylabel('categorical accuracy')\n",
    "plt.xlabel('epoch')\n",
    "plt.legend(['train','validation'], loc = 'upper left')\n",
    "plt.show()\n",
    "\n",
    "plt.plot(history.history['loss'])\n",
    "plt.plot(history.history['val_loss'])\n",
    "\n",
    "plt.title('model loss')\n",
    "plt.ylabel('loss')\n",
    "plt.xlabel('epoch')\n",
    "plt.legend(['train','validation'], loc = 'upper left')\n",
    "plt.show()"
   ]
  },
  {
   "cell_type": "markdown",
   "metadata": {},
   "source": [
    "### Saving model"
   ]
  },
  {
   "cell_type": "code",
   "execution_count": 564,
   "metadata": {},
   "outputs": [],
   "source": [
    "model.save(PATH_MODELS+'multi-bilstm.h5')"
   ]
  },
  {
   "cell_type": "markdown",
   "metadata": {},
   "source": [
    "### Loading model"
   ]
  },
  {
   "cell_type": "code",
   "execution_count": 581,
   "metadata": {},
   "outputs": [
    {
     "name": "stderr",
     "output_type": "stream",
     "text": [
      "/Library/Frameworks/Python.framework/Versions/3.6/lib/python3.6/site-packages/tensorflow_core/python/framework/indexed_slices.py:433: UserWarning: Converting sparse IndexedSlices to a dense Tensor of unknown shape. This may consume a large amount of memory.\n",
      "  \"Converting sparse IndexedSlices to a dense Tensor of unknown shape. \"\n"
     ]
    }
   ],
   "source": [
    "model = load_model(PATH_MODELS+'multi-bilstm.h5')"
   ]
  },
  {
   "cell_type": "markdown",
   "metadata": {},
   "source": [
    "## Testing"
   ]
  },
  {
   "cell_type": "code",
   "execution_count": 570,
   "metadata": {},
   "outputs": [],
   "source": [
    "def prep_test(data, tokenizer, maxlen):\n",
    "    data = [str(x) for x in data]\n",
    "    data_tok = tokenizer.texts_to_sequences(data)\n",
    "    data_fin = pad_sequences(data_tok, maxlen=maxlen, padding='post', truncating='post')\n",
    "    return data_fin\n",
    "\n",
    "X_test_c3_final = prep_test(X_test_c3, tokenizer, MAXLEN)\n",
    "X_test_ynacc_final = prep_test(X_test_ynacc, tokenizer, MAXLEN)"
   ]
  },
  {
   "cell_type": "code",
   "execution_count": null,
   "metadata": {},
   "outputs": [],
   "source": []
  },
  {
   "cell_type": "code",
   "execution_count": 590,
   "metadata": {},
   "outputs": [
    {
     "name": "stdout",
     "output_type": "stream",
     "text": [
      "Accuracy: 0.655\n",
      "F1 Score: 0.6414601627604921\n",
      "              precision    recall  f1-score   support\n",
      "\n",
      "           0       0.52      0.60      0.56       108\n",
      "           1       0.71      0.71      0.71       280\n",
      "           2       0.74      0.56      0.64       300\n",
      "           3       0.55      0.83      0.66       112\n",
      "\n",
      "    accuracy                           0.66       800\n",
      "   macro avg       0.63      0.67      0.64       800\n",
      "weighted avg       0.67      0.66      0.66       800\n",
      "\n"
     ]
    },
    {
     "data": {
      "image/png": "[encoded data removed]",
      "text/plain": [
       "<Figure size 432x360 with 2 Axes>"
      ]
     },
     "metadata": {
      "needs_background": "light"
     },
     "output_type": "display_data"
    }
   ],
   "source": [
    "y_pred = model.predict(X_test_final)\n",
    "#y_scores = np.asarray([1 if x > 0.5 else 0 for x in y_pred]) # binary classification only\n",
    "y_gold = [np.argmax(i) for i in y_test]\n",
    "y_scores = [np.argmax(i) for i in y_pred]\n",
    "#y_gold = y_test # binary classification only\n",
    "\n",
    "print(\"Accuracy:\", accuracy_score(y_gold, y_scores))\n",
    "print(\"F1 Score:\", f1_score(y_gold, y_scores, average='macro'))\n",
    "print(classification_report(y_gold, y_scores))\n",
    "report = classification_report(y_gold, y_scores, output_dict=True)\n",
    "\n",
    "conf_mat = confusion_matrix(y_gold, y_scores)\n",
    "fig, ax = plt.subplots(figsize=(6, 5))\n",
    "sns.heatmap(conf_mat, cmap=\"YlGnBu\", annot=True, fmt='d')\n",
    "plt.ylabel('Actual')\n",
    "plt.xlabel('Predicted')\n",
    "plt.savefig(PATH_IMAGES+'multi-bilstm-CRC.png', bbox_inches='tight')\n",
    "plt.show()"
   ]
  },
  {
   "cell_type": "code",
   "execution_count": 593,
   "metadata": {},
   "outputs": [
    {
     "name": "stdout",
     "output_type": "stream",
     "text": [
      "Model: \"model_41\"\n",
      "_________________________________________________________________\n",
      "Layer (type)                 Output Shape              Param #   \n",
      "=================================================================\n",
      "layer_0 (InputLayer)         (None, None)              0         \n",
      "_________________________________________________________________\n",
      "layer_1 (Embedding)          (None, 150, 200)          3027600   \n",
      "_________________________________________________________________\n",
      "layer_2 (Bidirectional)      (None, 150, 128)          135680    \n",
      "_________________________________________________________________\n",
      "layer_3 (Bidirectional)      (None, 128)               98816     \n",
      "_________________________________________________________________\n",
      "layer_4 (Dropout)            (None, 128)               0         \n",
      "_________________________________________________________________\n",
      "layer_5 (Dense)              (None, 4)                 516       \n",
      "=================================================================\n",
      "Total params: 3,262,612\n",
      "Trainable params: 3,262,612\n",
      "Non-trainable params: 0\n",
      "_________________________________________________________________\n"
     ]
    }
   ],
   "source": [
    "model.summary()"
   ]
  },
  {
   "cell_type": "code",
   "execution_count": 562,
   "metadata": {},
   "outputs": [],
   "source": [
    "pd.DataFrame(report).transpose().to_csv(PATH_RESULTS+'multi-bilstm-CRC.csv', index=False)"
   ]
  },
  {
   "cell_type": "code",
   "execution_count": 563,
   "metadata": {},
   "outputs": [
    {
     "name": "stdout",
     "output_type": "stream",
     "text": [
      "Model: \"model_41\"\n",
      "_________________________________________________________________\n",
      "Layer (type)                 Output Shape              Param #   \n",
      "=================================================================\n",
      "Input (InputLayer)           (None, None)              0         \n",
      "_________________________________________________________________\n",
      "embedding_46 (Embedding)     (None, 150, 200)          3027600   \n",
      "_________________________________________________________________\n",
      "bidirectional_41 (Bidirectio (None, 150, 128)          135680    \n",
      "_________________________________________________________________\n",
      "bidirectional_42 (Bidirectio (None, 128)               98816     \n",
      "_________________________________________________________________\n",
      "dropout_39 (Dropout)         (None, 128)               0         \n",
      "_________________________________________________________________\n",
      "dense_58 (Dense)             (None, 4)                 516       \n",
      "=================================================================\n",
      "Total params: 3,262,612\n",
      "Trainable params: 3,262,612\n",
      "Non-trainable params: 0\n",
      "_________________________________________________________________\n"
     ]
    }
   ],
   "source": [
    "model.summary()"
   ]
  },
  {
   "cell_type": "code",
   "execution_count": null,
   "metadata": {},
   "outputs": [],
   "source": []
  }
 ],
 "metadata": {
  "kernelspec": {
   "display_name": "Python 3",
   "language": "python",
   "name": "python3"
  },
  "language_info": {
   "codemirror_mode": {
    "name": "ipython",
    "version": 3
   },
   "file_extension": ".py",
   "mimetype": "text/x-python",
   "name": "python",
   "nbconvert_exporter": "python",
   "pygments_lexer": "ipython3",
   "version": "3.6.4"
  }
 },
 "nbformat": 4,
 "nbformat_minor": 2
}
